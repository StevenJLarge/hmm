{
 "cells": [
  {
   "cell_type": "markdown",
   "metadata": {},
   "source": [
    "# Likelihood amximization\n",
    "\n",
    "In order to infer the parameters of an HMM, we need to figure out some way of assigning probabilities to a set of parameters.  For context, we will rarely know the true underlying markov process that is giving rise to the observed dynamics (the $A$ and $B$ matrices). As a general approach, we can use concepts from Bayesian statistics to calculate the likelihood of the sequence of observations, given a set of parameters, and then seek the maximum value of that likelihood, over all possible parameter values.\n",
    "\n",
    "More concretely, for a set of parameters $\\theta$ (which in the most general sense aggregates all unknown quantities), we are trying to find\n",
    "\n",
    "$$ \\theta^* = \\argmax_{\\theta} P(y^N | \\theta) = \\argmin\\left[ -\\ln P(y^N | \\theta) \\right] $$\n",
    "\n",
    "where the natural logarith is introduced on the RHS because the raw probability $P(y^N |\\theta)$ will decay exponentially with $N$, which leads to numerical underflow in any practical application. By convention, because the logarithm is a strictly concave function, the optimal solution in both cases will be the same. Furthermore, the negative sign is introduced as a matter of convention from least-squares curve fitting, where the $\\chi^2(\\theta)$ value is equal to the legative log-likelihood.\n",
    "\n",
    "To calculate the total likelihood $P(y^N|\\theta)$, we can make an appeal to the normalization condition of the Bayesian filter equations, where we computed the term\n",
    "\n",
    "$$ Z_k \\equiv P(y_k|y^{k-1}) = \\sum_{x_k}P(y_k|x_k)P(x_k|y^{k-1}) $$\n",
    "\n",
    "which, in addition to the chain rule for probabilities, gives the relation\n",
    "\n",
    "$$ P(y^N|\\theta) = \\prod_{k=1}^N P(y_k | y^{k-1}) = \\prod_{k=1}^N Z_k $$\n",
    "\n",
    "subject to the condition that $Z_1 \\equiv P(y_1)$ (our prior on the initial observation).\n",
    "\n",
    "Using this, the likilihood is\n",
    "\n",
    "$$ \\mathcal{L}(\\theta) = -\\ln P(y^N|\\theta) = -\\ln \\prod_{k=1}^N Z_k = -\\sum_{k=1}^N \\ln \\left[ \\sum_{x_k} P(y_k | x_k)P(x_k | y^{k-1}) \\right] $$\n",
    "\n",
    "Now, given that this is purely a function of the parameters, we can simply maximize this function over $\\theta$ (which, in this case, contains both the inferred states $x_k$ and the parameters of the matrices $A$ and $B$)\n",
    "\n",
    "As a first pass, direct optimization of the likelihood is desirable, however, in some cases this can be infeasible, and we will resort to a slightly different approach based on the Epectation-Maxmimization algorithm (specifically in this context known as the Baum-Welch algorithm) that iteratively maximizes likelihoods of the dynamic parametrs ($A$ and $B$) followed by the hidden state estiamtes.\n",
    "\n",
    "In this notebook, we look at a simple version of the likelihood maximization approach, and test its efficacy at finding the correct solution in a simple scenario where we know the true values of the hidden states and dynamics parameters."
   ]
  },
  {
   "cell_type": "code",
   "execution_count": 178,
   "metadata": {},
   "outputs": [],
   "source": [
    "import os\n",
    "import numpy as np\n",
    "from typing import Iterable, Tuple, Optional\n",
    "import matplotlib.pyplot as plt\n",
    "import seaborn as sns\n",
    "sns.set(style='darkgrid', palette=\"hls\")\n",
    "\n",
    "# Import HMM libraries\n",
    "from hidden import dynamics\n",
    "from hidden import infer\n",
    "\n",
    "# here we assume the dynamics are symmetric\n",
    "a = 0.3\n",
    "b = 0.1\n",
    "\n",
    "A = np.array([[1 - a, a], [a, 1 - a]])\n",
    "B = np.array([[1 - b, b], [b, 1 - b]])\n",
    "\n",
    "hmm = dynamics.HMM(2, 2)"
   ]
  },
  {
   "cell_type": "code",
   "execution_count": 179,
   "metadata": {},
   "outputs": [],
   "source": [
    "# Initialize the Dynamics and Observation matrices\n",
    "hmm.initialize_dynamics(A, B)\n",
    "\n",
    "# Now run the dynamics for 500 steps\n",
    "hmm.run_dynamics(500)\n",
    "state_ts = hmm.get_state_ts()\n",
    "obs_ts = hmm.get_obs_ts()"
   ]
  },
  {
   "cell_type": "markdown",
   "metadata": {},
   "source": [
    "Now, to calcualte the likelihood function from the observed data, we need to evaluate \n",
    "\n",
    "$$ \\mathcal{L}(\\theta) = -\\sum_{k=1}^N \\ln \\left[ \\sum_{x_k} P(y_k | x_k)P(x_k | y^{k-1}) \\right]  $$\n",
    "\n",
    "In this case, we will assume that there is only a single unknown: the transition rate from state $0\\to 1$ in the hidden model (*i.e.* we assume that the emission dynamics are known). In this case we can simply calcualte the likelihood directly, by running (for various values of the $A$ parameter) the Bayesian prediction (the first step in the Bayesian filtering equations) to obtain $P(x_k | y^{k-1})$ and then calcualting the likelihood.\n",
    "\n",
    "Also note here that, so long as we are using the filtered estimates $P(x_k | y^{k-1})$, there is no reference in the calculation to the *true* hidden state sequence $x^{k-1}$, adn thus we are building the likelihood function agnostic of the true hidden state sequence.  Now, if we were to *not* burden ourselves with the task of inferring the hidden states (*i.e.* if we already knew them somehow) then $P(x_k|y^{k-1})$ above would be replaced with the actual state of the system at each time.\n",
    "\n",
    "As a matter of computation, the probabilities above are vectors. For a 2-state system this means that, for instance, $P(x_k|y^{k-1}) = (p_0, p_1)$. The inner summand, is then a sum over the product of, for each possible $x_k$, the probability of observing the *actually observed* value of $y_k$. So, if we observed $y_k = 1$ at time-step $k$, then the inner summand $\\mathcal{S}_k$ would be:\n",
    "\n",
    "$$ \\sum_{\\{0, 1\\}} P(1 | x_i) P(x_i | y^{k-1}) = P(1 | 0)P(0| y^{k-1}) + P(1 | 1)P(1 | y^{k-1})$$\n",
    "\n",
    "Given that the $P(y_k | x_k)$ are the elements of the $B$ matrix, this means that we are selecting out the `$1$' column\n",
    " of $B$ and performing a matrix multiplication with the Bayesian estimate vector:\n",
    "\n",
    "$$ \\mathcal{S}_k = \\left[ B_{0, 1}, B_{1, 1} \\right] \\cdot \\left[\\begin{matrix} P_0^{\\rm bayes} \\\\ P_1^{\\rm bayes} \\end{matrix}\\right] $$\n"
   ]
  },
  {
   "cell_type": "code",
   "execution_count": 189,
   "metadata": {},
   "outputs": [],
   "source": [
    "def calc_likelihood(\n",
    "    B: np.ndarray,\n",
    "    bayes_est: Iterable[np.ndarray],\n",
    "    obs_ts: Iterable[int]\n",
    ") -> float:\n",
    "    likelihood = 0\n",
    "    for bayes, obs in zip(bayes_est[:-1], obs_ts):\n",
    "        inner =  bayes @ B[:, obs]\n",
    "        likelihood -= np.log(inner)\n",
    "    return likelihood\n"
   ]
  },
  {
   "cell_type": "code",
   "execution_count": 190,
   "metadata": {},
   "outputs": [],
   "source": [
    "# Now, we need a way of generating a Bayes estimate for a specific value of the transition parameter\n",
    "est = infer.MarkovInfer(2, 2)\n",
    "\n",
    "# For a stating point, lets assume that we try a = 0.4\n",
    "a_test = 0.4\n",
    "A_sample = np.array([[1 - a_test, a_test], [a_test, 1 - a_test]])\n",
    "\n",
    "# We can then generate the Bayesian filter for these dynamics\n",
    "est.forward_algo(obs_ts, A_sample, B)"
   ]
  },
  {
   "cell_type": "code",
   "execution_count": 191,
   "metadata": {},
   "outputs": [
    {
     "data": {
      "text/plain": [
       "(-0.05, 1.05)"
      ]
     },
     "execution_count": 191,
     "metadata": {},
     "output_type": "execute_result"
    },
    {
     "data": {
      "image/png": "[encoded data removed]",
      "text/plain": [
       "<Figure size 432x252 with 1 Axes>"
      ]
     },
     "metadata": {},
     "output_type": "display_data"
    }
   ],
   "source": [
    "fig, ax = plt.subplots(1, 1, figsize=(6, 3.5))\n",
    "ax.axhline(0.5, color='k', linestyle='--')\n",
    "# Calcalte the probability of beign in state 1 from the forward tracker\n",
    "p1_fwd = [p[1] for p in est.forward_tracker]\n",
    "ax.plot(p1_fwd[1:40])\n",
    "ax.plot(state_ts[:40], 'o', color=sns.xkcd_rgb[\"shamrock\"], markersize=7, alpha=0.6)\n",
    "ax.plot(obs_ts[:40], 'o',color=sns.xkcd_rgb[\"tangerine\"], markersize=4, alpha=0.6)\n",
    "\n",
    "ax.set_ylim([-0.05,1.05])\n"
   ]
  },
  {
   "cell_type": "code",
   "execution_count": 192,
   "metadata": {},
   "outputs": [
    {
     "data": {
      "text/plain": [
       "97.63301882528573"
      ]
     },
     "execution_count": 192,
     "metadata": {},
     "output_type": "execute_result"
    }
   ],
   "source": [
    "# Now we can calculate the likelihood of this parameter\n",
    "calc_likelihood(B, est.forward_tracker[1:], obs_ts)"
   ]
  },
  {
   "cell_type": "code",
   "execution_count": 193,
   "metadata": {},
   "outputs": [],
   "source": [
    "# Now, we can write a function that loops over a bunch of values of the\n",
    "# transition probability, and plots the likelihood function in terms of this\n",
    "# parameter\n",
    "\n",
    "def generate_likelihood_curve(B, obs_ts):\n",
    "    est = infer.MarkovInfer(2, 2)\n",
    "    a_vals = np.linspace(0, 1, 100)\n",
    "    likelihood = []\n",
    "\n",
    "    for a in a_vals:\n",
    "        A_sample = np.array([[1 - a, a], [a, 1 - a]])\n",
    "        est.forward_algo(obs_ts, A_sample, B)\n",
    "        l = calc_likelihood(B, est.forward_tracker, obs_ts)\n",
    "        likelihood.append(l)\n",
    "\n",
    "    return likelihood, a_vals"
   ]
  },
  {
   "cell_type": "code",
   "execution_count": 194,
   "metadata": {},
   "outputs": [
    {
     "data": {
      "text/plain": [
       "0.7777777777777778"
      ]
     },
     "execution_count": 194,
     "metadata": {},
     "output_type": "execute_result"
    }
   ],
   "source": [
    "likelihood, a_vals = generate_likelihood_curve(B, obs_ts)\n",
    "a_ml = a_vals[np.argmin(likelihood)]\n",
    "a_ml"
   ]
  },
  {
   "cell_type": "code",
   "execution_count": 195,
   "metadata": {},
   "outputs": [
    {
     "data": {
      "image/png": "[encoded data removed]",
      "text/plain": [
       "<Figure size 432x252 with 1 Axes>"
      ]
     },
     "metadata": {},
     "output_type": "display_data"
    }
   ],
   "source": [
    "a_true = A[0,0]\n",
    "\n",
    "fig, ax = plt.subplots(1, 1, figsize=(6, 3.5))\n",
    "ax.plot(a_vals, likelihood)\n",
    "ax.axvline(a_true, color='k', linestyle='--', alpha=0.5, linewidth=2.0)\n",
    "ax.axvline(a_ml, color=sns.xkcd_rgb[\"electric blue\"], alpha=0.5, linewidth=2.0)\n",
    "ax.set_xlabel(r\"Parameter value\", fontsize=15)\n",
    "ax.set_ylabel(r\"$\\mathcal{L}(\\theta)$ (a.u.)\", fontsize=15)\n",
    "plt.show()"
   ]
  },
  {
   "cell_type": "markdown",
   "metadata": {},
   "source": [
    "So, from this we are able to produce a reasonable estiamte of the transition matrix parameters. Now, lets go one step further, and assume that we also want to determine the parameters in the emission matrix ($B$), while still assuming that both $A$ and $B$ are symmetric, and that the hidden state trajectory is known. \n",
    "\n",
    "Now, the likelihood function is 2-dimensional"
   ]
  },
  {
   "cell_type": "code",
   "execution_count": 109,
   "metadata": {},
   "outputs": [],
   "source": [
    "# First, we need to re-write our function to generate the likelihood into a 2D routine\n",
    "def generate_likelihood_surface(\n",
    "    obs_ts: Iterable[int], sample_dim: Optional[int] = 10\n",
    "):\n",
    "    est = infer.MarkovInfer(2, 2)\n",
    "\n",
    "    a_vals = np.linspace(0.01, 0.99, sample_dim)\n",
    "    b_vals = np.linspace(0.01, 0.99, sample_dim)\n",
    "\n",
    "    likelihood = np.zeros((sample_dim, sample_dim))\n",
    "\n",
    "    for i, a in enumerate(a_vals):\n",
    "        A_sample = np.array([[1 - a, a], [a, 1 - a]])\n",
    "        for j, b in enumerate(b_vals):\n",
    "            B_sample = np.array([[1 - b, b], [b, 1 - b]])\n",
    "\n",
    "            est.forward_algo(obs_ts, A_sample, B_sample)\n",
    "            try:\n",
    "                l = calc_likelihood(B_sample, est.forward_tracker, obs_ts[1:])\n",
    "            except RuntimeWarning:\n",
    "                l = None\n",
    "            likelihood[i, j] = l\n",
    "\n",
    "    return likelihood, a_vals, b_vals"
   ]
  },
  {
   "cell_type": "code",
   "execution_count": 111,
   "metadata": {},
   "outputs": [],
   "source": [
    "likelihood, aVals, bVals = generate_likelihood_surface(obs_ts, sample_dim=100)"
   ]
  },
  {
   "cell_type": "code",
   "execution_count": 83,
   "metadata": {},
   "outputs": [
    {
     "data": {
      "text/plain": [
       "(26, 47)"
      ]
     },
     "execution_count": 83,
     "metadata": {},
     "output_type": "execute_result"
    }
   ],
   "source": [
    "# And we can find the optimal parameter combination\n",
    "flat_idx = likelihood.argmin()\n",
    "a_idx = flat_idx % 100\n",
    "b_idx = flat_idx // 100\n",
    "a_idx, b_idx"
   ]
  },
  {
   "cell_type": "code",
   "execution_count": 84,
   "metadata": {},
   "outputs": [
    {
     "data": {
      "text/plain": [
       "333.67282181856734"
      ]
     },
     "execution_count": 84,
     "metadata": {},
     "output_type": "execute_result"
    }
   ],
   "source": [
    "likelihood[b_idx, a_idx]"
   ]
  },
  {
   "cell_type": "code",
   "execution_count": 85,
   "metadata": {},
   "outputs": [
    {
     "data": {
      "text/plain": [
       "333.67282181856734"
      ]
     },
     "execution_count": 85,
     "metadata": {},
     "output_type": "execute_result"
    }
   ],
   "source": [
    "np.min(likelihood)"
   ]
  },
  {
   "cell_type": "code",
   "execution_count": 86,
   "metadata": {},
   "outputs": [
    {
     "data": {
      "text/plain": [
       "(0.2673737373737374, 0.47525252525252526)"
      ]
     },
     "execution_count": 86,
     "metadata": {},
     "output_type": "execute_result"
    }
   ],
   "source": [
    "# Now that means the optimal parameters are:\n",
    "a_opt = aVals[a_idx]\n",
    "b_opt = bVals[b_idx]\n",
    "a_opt, b_opt"
   ]
  },
  {
   "cell_type": "code",
   "execution_count": 87,
   "metadata": {},
   "outputs": [
    {
     "data": {
      "image/png": "[encoded data removed]",
      "text/plain": [
       "<Figure size 432x360 with 2 Axes>"
      ]
     },
     "metadata": {},
     "output_type": "display_data"
    }
   ],
   "source": [
    "fig, ax = plt.subplots(1, 1, figsize=(6, 5))\n",
    "\n",
    "sns.heatmap(likelihood, cmap=\"coolwarm\", ax=ax)\n",
    "ax.plot([a_idx], [b_idx], 'o', markersize=7, color=sns.xkcd_rgb[\"tomato\"])\n",
    "\n",
    "idx_arr = [0, 10, 20, 30, 40, 50, 60, 70, 80, 90, 99]\n",
    "\n",
    "ax.set_xticks(idx_arr)\n",
    "ax.set_yticks(idx_arr)\n",
    "\n",
    "ax.set_xticklabels(np.round(aVals[idx_arr], 1))\n",
    "ax.set_yticklabels(np.round(aVals[idx_arr], 1))\n",
    "\n",
    "ax.set_xlabel(r\"a value\", fontsize=15)\n",
    "ax.set_ylabel(r\"b value\", fontsize=15)\n",
    "ax.set_title(r\"$\\mathcal{L}(\\theta)$\", fontsize=17)\n",
    "plt.show()"
   ]
  },
  {
   "cell_type": "markdown",
   "metadata": {},
   "source": [
    "So, this procedure (although it takes awhile for the resolution in the plot above) does appear to generally work. However, this far, we have been using the actual series of hidden states in time, which we will not, in general, have access to. This will result in a very large set of parameters when we incorporate that diretly into the likelihood function. However, we could speed things up by, instead of sampling the entire function, performing a local optimization on the likelihood surface (such as, for instance, gradient descent). Given that we start in the correct basin, this will lead to convergence towards the local minimum.\n",
    "\n",
    "However, in the plot above, there is a competing local minima around the coordintate $(a, b) = (0.8, 0.05)$, and so we might erroneously infer that to be the optimal parameter set using local optimization, given that we were to start nearer to that local minimum. \n",
    "\n",
    "In the following notebook, we will run this local optimization scheme assuming a relatively close initia guess to the true dynamic parameters."
   ]
  },
  {
   "cell_type": "markdown",
   "metadata": {},
   "source": []
  }
 ],
 "metadata": {
  "interpreter": {
   "hash": "4f9b37dac17d06b8fa0c89267880b723d82f0595bc5fc55c9df0f440e0daf16f"
  },
  "kernelspec": {
   "display_name": "Python 3.9.7 ('hmm')",
   "language": "python",
   "name": "python3"
  },
  "language_info": {
   "codemirror_mode": {
    "name": "ipython",
    "version": 3
   },
   "file_extension": ".py",
   "mimetype": "text/x-python",
   "name": "python",
   "nbconvert_exporter": "python",
   "pygments_lexer": "ipython3",
   "version": "3.9.7"
  },
  "orig_nbformat": 4
 },
 "nbformat": 4,
 "nbformat_minor": 2
}

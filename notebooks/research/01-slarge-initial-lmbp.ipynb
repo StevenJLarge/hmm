{
 "cells": [
  {
   "cell_type": "markdown",
   "metadata": {},
   "source": [
    "# Limited-Memory Bayesian Prediction\n",
    "\n",
    "This notebook outlines initial structuring and analysis on a research project aimed at investigating the utility of stored information in sensing networks through the lens of Hidden Markov Models (HMMs). Specifically, our goal is to understand (as a function of input noise) the predictive benefit of retaining memory of previous measurements. The forward filtering algorithm is an example of a full-memory approach used in HMMs, where the entire history of obervations are effectively used as a conditioning variable on estmation of the current hidden stae of the model. However, for many systems of practical interest, it may not be possible to effectively retain a memory of the entire historical record. As a result, we make use of a `Limited-Memory Bayesian Predictor', which serves as a general form of the forward algorith, but conditions current state estimates on only a fixed register of previous observations.\n",
    "\n",
    "In this notebook, we develop the initial parameterization of the HMM approach, and show both simulation and inferrence using both the full forward algorithm and the LMBP.\n",
    "\n",
    "To start, we will consider a discrete-state HMM, where the underlying model can be represented by a set of discrete states, and the measuremetns are also discrete, mapping directly to an estimate of the state. For instance, for a 2 state system, there are 2 possible measurements, representing each of the hidden states. As such, in this configuration, we can represent the entire $N$-state dynamics with 2 $N\\times N$ matrices: the transition matrix $A$ and the observation matrix $B$, with elements \n",
    "\n",
    "$$ A_{ij} = P(x_{t+1} = i | x_t = j) $$\n",
    "$$ B_{ij} = P(y_{t} = i | x_{t} = j) $$\n",
    "\n",
    "where $x_t$ and $y_t$ represent the hidden state and observation values at time $t$\n"
   ]
  },
  {
   "cell_type": "markdown",
   "metadata": {},
   "source": []
  }
 ],
 "metadata": {
  "language_info": {
   "name": "python"
  }
 },
 "nbformat": 4,
 "nbformat_minor": 2
}

{
 "cells": [
  {
   "attachments": {},
   "cell_type": "markdown",
   "metadata": {},
   "source": [
    "Optimization"
   ]
  },
  {
   "attachments": {},
   "cell_type": "markdown",
   "metadata": {},
   "source": []
  },
  {
   "attachments": {},
   "cell_type": "markdown",
   "metadata": {},
   "source": [
    "2 State HMM"
   ]
  },
  {
   "cell_type": "code",
   "execution_count": 1,
   "metadata": {},
   "outputs": [
    {
     "data": {
      "text/plain": [
       "(array([[0.8, 0.2],\n",
       "        [0.2, 0.8]]),\n",
       " array([[0.9, 0.1],\n",
       "        [0.1, 0.9]]))"
      ]
     },
     "execution_count": 1,
     "metadata": {},
     "output_type": "execute_result"
    }
   ],
   "source": [
    "import os\n",
    "import numpy as np\n",
    "from hidden import dynamics, infer\n",
    "# This is only if you want to use non-default optimization routines (global)\n",
    "from hidden.optimize.base import OptClass\n",
    "\n",
    "# Initializedynamics\n",
    "hmm = dynamics.HMM(2, 2)\n",
    "#hmm=dynamics.HMM(3,3) \n",
    "hmm.init_uniform_cycle(0.2, 0.1) \n",
    "hmm.A, hmm.B"
   ]
  },
  {
   "cell_type": "code",
   "execution_count": 2,
   "metadata": {},
   "outputs": [],
   "source": [
    "hmm.run_dynamics(250)"
   ]
  },
  {
   "cell_type": "code",
   "execution_count": 1,
   "metadata": {},
   "outputs": [],
   "source": [
    "#eta diye data automatic save kora jae.\n",
    "import os\n",
    "from pathlib import Path\n",
    "proj_dir= Path().resolve().parents[1]\n",
    "#proj_dir= Path().resolve().parents[] first e eta diye dekhbo amra koi asi, ekhane amar data ta hmm er under e . first path \n",
    "\n",
    "#theke amar hmm path porjonto koto tuku 0,1,ebhabe jabo. .parents[] ei bracket e sei no.ta likhbo. \n",
    "\n",
    "data_dir=proj_dir/\"data\"# ekhane amar data proj_dir er undere datar modhee ase . path ta dite hobe\n",
    "files= os.listdir(data_dir)\n",
    "\n",
    "import pandas as pd\n",
    "datasets={}\n",
    "for file_name in files:\n",
    "  datasets[file_name] = pd.read_csv(data_dir/file_name)\n",
    "  #tahole ami data gulo dekhte parbo\n",
    "  "
   ]
  },
  {
   "cell_type": "code",
   "execution_count": 4,
   "metadata": {},
   "outputs": [
    {
     "data": {
      "text/html": [
       "<div>\n",
       "<style scoped>\n",
       "    .dataframe tbody tr th:only-of-type {\n",
       "        vertical-align: middle;\n",
       "    }\n",
       "\n",
       "    .dataframe tbody tr th {\n",
       "        vertical-align: top;\n",
       "    }\n",
       "\n",
       "    .dataframe thead th {\n",
       "        text-align: right;\n",
       "    }\n",
       "</style>\n",
       "<table border=\"1\" class=\"dataframe\">\n",
       "  <thead>\n",
       "    <tr style=\"text-align: right;\">\n",
       "      <th></th>\n",
       "      <th>1</th>\n",
       "    </tr>\n",
       "  </thead>\n",
       "  <tbody>\n",
       "    <tr>\n",
       "      <th>0</th>\n",
       "      <td>1</td>\n",
       "    </tr>\n",
       "    <tr>\n",
       "      <th>1</th>\n",
       "      <td>1</td>\n",
       "    </tr>\n",
       "    <tr>\n",
       "      <th>2</th>\n",
       "      <td>1</td>\n",
       "    </tr>\n",
       "    <tr>\n",
       "      <th>3</th>\n",
       "      <td>1</td>\n",
       "    </tr>\n",
       "    <tr>\n",
       "      <th>4</th>\n",
       "      <td>1</td>\n",
       "    </tr>\n",
       "    <tr>\n",
       "      <th>...</th>\n",
       "      <td>...</td>\n",
       "    </tr>\n",
       "    <tr>\n",
       "      <th>14336</th>\n",
       "      <td>0</td>\n",
       "    </tr>\n",
       "    <tr>\n",
       "      <th>14337</th>\n",
       "      <td>0</td>\n",
       "    </tr>\n",
       "    <tr>\n",
       "      <th>14338</th>\n",
       "      <td>0</td>\n",
       "    </tr>\n",
       "    <tr>\n",
       "      <th>14339</th>\n",
       "      <td>0</td>\n",
       "    </tr>\n",
       "    <tr>\n",
       "      <th>14340</th>\n",
       "      <td>0</td>\n",
       "    </tr>\n",
       "  </tbody>\n",
       "</table>\n",
       "<p>14341 rows × 1 columns</p>\n",
       "</div>"
      ],
      "text/plain": [
       "       1\n",
       "0      1\n",
       "1      1\n",
       "2      1\n",
       "3      1\n",
       "4      1\n",
       "...   ..\n",
       "14336  0\n",
       "14337  0\n",
       "14338  0\n",
       "14339  0\n",
       "14340  0\n",
       "\n",
       "[14341 rows x 1 columns]"
      ]
     },
     "execution_count": 4,
     "metadata": {},
     "output_type": "execute_result"
    }
   ],
   "source": [
    "datasets[\"sample_10_2d.csv\"]"
   ]
  },
  {
   "cell_type": "code",
   "execution_count": 20,
   "metadata": {},
   "outputs": [
    {
     "data": {
      "text/html": [
       "<div>\n",
       "<style scoped>\n",
       "    .dataframe tbody tr th:only-of-type {\n",
       "        vertical-align: middle;\n",
       "    }\n",
       "\n",
       "    .dataframe tbody tr th {\n",
       "        vertical-align: top;\n",
       "    }\n",
       "\n",
       "    .dataframe thead th {\n",
       "        text-align: right;\n",
       "    }\n",
       "</style>\n",
       "<table border=\"1\" class=\"dataframe\">\n",
       "  <thead>\n",
       "    <tr style=\"text-align: right;\">\n",
       "      <th></th>\n",
       "      <th>1</th>\n",
       "    </tr>\n",
       "  </thead>\n",
       "  <tbody>\n",
       "    <tr>\n",
       "      <th>0</th>\n",
       "      <td>1</td>\n",
       "    </tr>\n",
       "    <tr>\n",
       "      <th>1</th>\n",
       "      <td>1</td>\n",
       "    </tr>\n",
       "    <tr>\n",
       "      <th>2</th>\n",
       "      <td>1</td>\n",
       "    </tr>\n",
       "    <tr>\n",
       "      <th>3</th>\n",
       "      <td>0</td>\n",
       "    </tr>\n",
       "    <tr>\n",
       "      <th>4</th>\n",
       "      <td>1</td>\n",
       "    </tr>\n",
       "    <tr>\n",
       "      <th>...</th>\n",
       "      <td>...</td>\n",
       "    </tr>\n",
       "    <tr>\n",
       "      <th>4994</th>\n",
       "      <td>1</td>\n",
       "    </tr>\n",
       "    <tr>\n",
       "      <th>4995</th>\n",
       "      <td>0</td>\n",
       "    </tr>\n",
       "    <tr>\n",
       "      <th>4996</th>\n",
       "      <td>1</td>\n",
       "    </tr>\n",
       "    <tr>\n",
       "      <th>4997</th>\n",
       "      <td>1</td>\n",
       "    </tr>\n",
       "    <tr>\n",
       "      <th>4998</th>\n",
       "      <td>1</td>\n",
       "    </tr>\n",
       "  </tbody>\n",
       "</table>\n",
       "<p>4999 rows × 1 columns</p>\n",
       "</div>"
      ],
      "text/plain": [
       "      1\n",
       "0     1\n",
       "1     1\n",
       "2     1\n",
       "3     0\n",
       "4     1\n",
       "...  ..\n",
       "4994  1\n",
       "4995  0\n",
       "4996  1\n",
       "4997  1\n",
       "4998  1\n",
       "\n",
       "[4999 rows x 1 columns]"
      ]
     },
     "execution_count": 20,
     "metadata": {},
     "output_type": "execute_result"
    }
   ],
   "source": [
    "datasets[10]"
   ]
  },
  {
   "cell_type": "code",
   "execution_count": 4,
   "metadata": {},
   "outputs": [
    {
     "data": {
      "text/html": [
       "<div>\n",
       "<style scoped>\n",
       "    .dataframe tbody tr th:only-of-type {\n",
       "        vertical-align: middle;\n",
       "    }\n",
       "\n",
       "    .dataframe tbody tr th {\n",
       "        vertical-align: top;\n",
       "    }\n",
       "\n",
       "    .dataframe thead th {\n",
       "        text-align: right;\n",
       "    }\n",
       "</style>\n",
       "<table border=\"1\" class=\"dataframe\">\n",
       "  <thead>\n",
       "    <tr style=\"text-align: right;\">\n",
       "      <th></th>\n",
       "      <th>1</th>\n",
       "    </tr>\n",
       "  </thead>\n",
       "  <tbody>\n",
       "    <tr>\n",
       "      <th>0</th>\n",
       "      <td>1</td>\n",
       "    </tr>\n",
       "    <tr>\n",
       "      <th>1</th>\n",
       "      <td>1</td>\n",
       "    </tr>\n",
       "    <tr>\n",
       "      <th>2</th>\n",
       "      <td>1</td>\n",
       "    </tr>\n",
       "    <tr>\n",
       "      <th>3</th>\n",
       "      <td>0</td>\n",
       "    </tr>\n",
       "    <tr>\n",
       "      <th>4</th>\n",
       "      <td>1</td>\n",
       "    </tr>\n",
       "    <tr>\n",
       "      <th>...</th>\n",
       "      <td>...</td>\n",
       "    </tr>\n",
       "    <tr>\n",
       "      <th>94</th>\n",
       "      <td>1</td>\n",
       "    </tr>\n",
       "    <tr>\n",
       "      <th>95</th>\n",
       "      <td>0</td>\n",
       "    </tr>\n",
       "    <tr>\n",
       "      <th>96</th>\n",
       "      <td>0</td>\n",
       "    </tr>\n",
       "    <tr>\n",
       "      <th>97</th>\n",
       "      <td>0</td>\n",
       "    </tr>\n",
       "    <tr>\n",
       "      <th>98</th>\n",
       "      <td>0</td>\n",
       "    </tr>\n",
       "  </tbody>\n",
       "</table>\n",
       "<p>99 rows × 1 columns</p>\n",
       "</div>"
      ],
      "text/plain": [
       "    1\n",
       "0   1\n",
       "1   1\n",
       "2   1\n",
       "3   0\n",
       "4   1\n",
       ".. ..\n",
       "94  1\n",
       "95  0\n",
       "96  0\n",
       "97  0\n",
       "98  0\n",
       "\n",
       "[99 rows x 1 columns]"
      ]
     },
     "execution_count": 4,
     "metadata": {},
     "output_type": "execute_result"
    }
   ],
   "source": [
    "#import pandas as pd\n",
    "#obs_ts=pd.read_csv(\"C:/Users/arumana/OneDrive - Viewpoint Capital Corporation/Documents/sample_1_2d.csv\")\n",
    "#obs_ts"
   ]
  },
  {
   "cell_type": "code",
   "execution_count": 4,
   "metadata": {},
   "outputs": [],
   "source": [
    "# Initialize infer object\n",
    "analyzer = infer.MarkovInfer(2, 2)"
   ]
  },
  {
   "cell_type": "code",
   "execution_count": 5,
   "metadata": {},
   "outputs": [],
   "source": [
    "# Now we can use initial 'guesses' for A and B to pass into the optimizer\n",
    "A_init = np.array([\n",
    "    [0.75, 0.3],\n",
    "    [0.25, 0.7]\n",
    "])\n",
    "\n",
    "B_init = np.array([\n",
    "    [0.95, 0.10],\n",
    "    [0.05, 0.90]\n",
    "])\n"
   ]
  },
  {
   "cell_type": "code",
   "execution_count": 6,
   "metadata": {},
   "outputs": [],
   "source": [
    "# Now to run the optimization, we can call like this (these are all using\n",
    "# default arguments, so you dont actually need to include the symmetric or\n",
    "# opt_type arguments here)\n",
    "#result_local = analyzer.optimize(obs_ts.to_numpy().reshape(-1), A_init, B_init, symmetric=False, opt_type=OptClass.Local)\n",
    "#onek time e datar shape dilh thakena, tokhon amra ebahbe kori\n",
    "result_local_1 = analyzer.optimize(datasets[1], A_init, B_init, symmetric=False, opt_type=OptClass.Local)\n",
    "result_local_2 = analyzer.optimize(datasets[2], A_init, B_init, symmetric=False, opt_type=OptClass.Local)\n",
    "result_local_4 = analyzer.optimize(datasets[4], A_init, B_init, symmetric=False, opt_type=OptClass.Local)\n",
    "result_local_6 = analyzer.optimize(datasets[6], A_init, B_init, symmetric=False, opt_type=OptClass.Local)\n",
    "result_local_8 = analyzer.optimize(datasets[8], A_init, B_init, symmetric=False, opt_type=OptClass.Local)\n",
    "result_local_10 = analyzer.optimize(datasets[10], A_init, B_init, symmetric=False, opt_type=OptClass.Local)\n",
    "result_local_12 = analyzer.optimize(datasets[12], A_init, B_init, symmetric=False, opt_type=OptClass.Local)\n",
    "result_local_14 = analyzer.optimize(datasets[14], A_init, B_init, symmetric=False, opt_type=OptClass.Local)\n",
    "result_local_15 = analyzer.optimize(datasets[15], A_init, B_init, symmetric=False, opt_type=OptClass.Local)\n",
    "result_local_16 = analyzer.optimize(datasets[16], A_init, B_init, symmetric=False, opt_type=OptClass.Local)\n"
   ]
  },
  {
   "cell_type": "code",
   "execution_count": 29,
   "metadata": {},
   "outputs": [
    {
     "name": "stderr",
     "output_type": "stream",
     "text": [
      "c:\\Users\\arumana\\Anaconda3\\envs\\hid\\lib\\site-packages\\scipy\\optimize\\_optimize.py:353: RuntimeWarning: Values in x were outside bounds during a minimize step, clipping to bounds\n",
      "  warnings.warn(\"Values in x were outside bounds during a \"\n"
     ]
    }
   ],
   "source": [
    "# For a global optimization (using SHGO algorithm)\n",
    "result_global_1 = analyzer.optimize(datasets[1], A_init, B_init, symmetric=False, opt_type=OptClass.Global)\n",
    "result_global_2 = analyzer.optimize(datasets[2], A_init, B_init, symmetric=False, opt_type=OptClass.Global)\n",
    "result_global_4 = analyzer.optimize(datasets[4], A_init, B_init, symmetric=False, opt_type=OptClass.Global)\n",
    "result_global_6 = analyzer.optimize(datasets[6], A_init, B_init, symmetric=False, opt_type=OptClass.Global)\n",
    "result_global_8 = analyzer.optimize(datasets[8], A_init, B_init, symmetric=False, opt_type=OptClass.Global)\n",
    "result_global_10 = analyzer.optimize(datasets[10], A_init, B_init, symmetric=False, opt_type=OptClass.Global)\n",
    "result_global_12 = analyzer.optimize(datasets[12], A_init, B_init, symmetric=False, opt_type=OptClass.Global)\n",
    "result_global_14 = analyzer.optimize(datasets[14], A_init, B_init, symmetric=False, opt_type=OptClass.Global)\n",
    "result_global_15 = analyzer.optimize(datasets[15], A_init, B_init, symmetric=False, opt_type=OptClass.Global)\n",
    "result_global_16 = analyzer.optimize(datasets[16], A_init, B_init, symmetric=False, opt_type=OptClass.Global)"
   ]
  },
  {
   "cell_type": "code",
   "execution_count": 27,
   "metadata": {},
   "outputs": [],
   "source": [
    "# ANd then if you wanted a symmetric model\n",
    "A_init_sym = np.array([\n",
    "    [0.75, 0.25],\n",
    "    [0.25, 0.75]\n",
    "])\n",
    "\n",
    "B_init_sym = np.array([\n",
    "    [0.90, 0.10],\n",
    "    [0.10, 0.90]\n",
    "])\n",
    "\n",
    "result_local_sym = analyzer.optimize(datasets[1], A_init_sym, B_init_sym, symmetric=True)"
   ]
  },
  {
   "cell_type": "code",
   "execution_count": 28,
   "metadata": {},
   "outputs": [
    {
     "data": {
      "text/plain": [
       "(array([[0.98007302, 0.01429649],\n",
       "        [0.01992698, 0.98570351]]),\n",
       " array([[0.9947403 , 0.00616637],\n",
       "        [0.0052597 , 0.99383363]]),\n",
       " array([[0.87511295, 0.10166687],\n",
       "        [0.12488705, 0.89833313]]),\n",
       " array([[0.75036377, 0.13393873],\n",
       "        [0.24963623, 0.86606127]]),\n",
       " array([[0.85117483, 0.13605374],\n",
       "        [0.14882517, 0.86394626]]),\n",
       " array([[0.89765155, 0.10866914],\n",
       "        [0.10234845, 0.89133086]]),\n",
       " array([[0.82670526, 0.1821382 ],\n",
       "        [0.17329474, 0.8178618 ]]),\n",
       " array([[0.88366842, 0.0936138 ],\n",
       "        [0.11633158, 0.9063862 ]]),\n",
       " array([[0.82633106, 0.19804347],\n",
       "        [0.17366894, 0.80195653]]),\n",
       " array([[0.87813982, 0.08652946],\n",
       "        [0.12186018, 0.91347054]]),\n",
       " array([[0.79287478, 0.2274655 ],\n",
       "        [0.20712522, 0.7725345 ]]),\n",
       " array([[0.89283633, 0.06115281],\n",
       "        [0.10716367, 0.93884719]]),\n",
       " array([[0.82601803, 0.21075549],\n",
       "        [0.17398197, 0.78924451]]),\n",
       " array([[0.9629796, 0.1136678],\n",
       "        [0.0370204, 0.8863322]]),\n",
       " array([[0.76095633, 0.30461057],\n",
       "        [0.23904367, 0.69538943]]),\n",
       " array([[0.9285364, 0.001    ],\n",
       "        [0.0714636, 0.999    ]]),\n",
       " array([[0.82455321, 0.0950265 ],\n",
       "        [0.17544679, 0.9049735 ]]),\n",
       " array([[0.999     , 0.19370526],\n",
       "        [0.001     , 0.80629474]]),\n",
       " array([[0.98290897, 0.00991026],\n",
       "        [0.01709103, 0.99008974]]),\n",
       " array([[0.99439564, 0.00396572],\n",
       "        [0.00560436, 0.99603428]]))"
      ]
     },
     "execution_count": 28,
     "metadata": {},
     "output_type": "execute_result"
    }
   ],
   "source": [
    "result_local_1.A, result_local_1.B,result_local_2.A, result_local_2.B,result_local_4.A, result_local_4.B,result_local_6.A, result_local_6.B,result_local_8.A, result_local_8.B,result_local_10.A, result_local_10.B,result_local_12.A, result_local_12.B,result_local_14.A, result_local_14.B,result_local_15.A, result_local_15.B,result_local_16.A, result_local_16.B"
   ]
  },
  {
   "cell_type": "code",
   "execution_count": 27,
   "metadata": {},
   "outputs": [
    {
     "data": {
      "text/plain": [
       "(array([[0.8, 0.2],\n",
       "        [0.2, 0.8]]),\n",
       " array([[0.9, 0.1],\n",
       "        [0.1, 0.9]]))"
      ]
     },
     "execution_count": 27,
     "metadata": {},
     "output_type": "execute_result"
    }
   ],
   "source": [
    "hmm.A, hmm.B"
   ]
  },
  {
   "cell_type": "code",
   "execution_count": 31,
   "metadata": {},
   "outputs": [
    {
     "data": {
      "text/plain": [
       "(array([[0.98007322, 0.01429634],\n",
       "        [0.01992678, 0.98570366]]),\n",
       " array([[0.99474068, 0.00616658],\n",
       "        [0.00525932, 0.99383342]]),\n",
       " array([[0.87511419, 0.1016661 ],\n",
       "        [0.12488581, 0.8983339 ]]),\n",
       " array([[0.75036245, 0.13393872],\n",
       "        [0.24963755, 0.86606128]]),\n",
       " array([[0.86394656, 0.14882555],\n",
       "        [0.13605344, 0.85117445]]),\n",
       " array([[0.10867  , 0.8976515],\n",
       "        [0.89133  , 0.1023485]]),\n",
       " array([[0.82670521, 0.18213832],\n",
       "        [0.17329479, 0.81786168]]),\n",
       " array([[0.88366837, 0.0936137 ],\n",
       "        [0.11633163, 0.9063863 ]]),\n",
       " array([[0.82633124, 0.19804399],\n",
       "        [0.17366876, 0.80195601]]),\n",
       " array([[0.87813918, 0.08652716],\n",
       "        [0.12186082, 0.91347284]]),\n",
       " array([[0.77253427, 0.20712528],\n",
       "        [0.22746573, 0.79287472]]),\n",
       " array([[0.06115286, 0.89283606],\n",
       "        [0.93884714, 0.10716394]]),\n",
       " array([[0.78924536, 0.17397997],\n",
       "        [0.21075464, 0.82602003]]),\n",
       " array([[0.1136677 , 0.96297797],\n",
       "        [0.8863323 , 0.03702203]]),\n",
       " array([[0.7609567 , 0.30461041],\n",
       "        [0.2390433 , 0.69538959]]),\n",
       " array([[0.92853596, 0.001     ],\n",
       "        [0.07146404, 0.999     ]]),\n",
       " array([[0.82455243, 0.09502823],\n",
       "        [0.17544757, 0.90497177]]),\n",
       " array([[0.999    , 0.1937045],\n",
       "        [0.001    , 0.8062955]]),\n",
       " array([[0.98290897, 0.00991031],\n",
       "        [0.01709103, 0.99008969]]),\n",
       " array([[0.99439565, 0.00396571],\n",
       "        [0.00560435, 0.99603429]]))"
      ]
     },
     "execution_count": 31,
     "metadata": {},
     "output_type": "execute_result"
    }
   ],
   "source": [
    "result_global_1.A, result_global_1.B,result_global_2.A, result_global_2.B,result_global_4.A, result_global_4.B,result_global_6.A, result_global_6.B,result_global_8.A, result_global_8.B,result_global_10.A, result_global_10.B,result_global_12.A, result_global_12.B,result_global_14.A, result_global_14.B,result_global_15.A, result_global_15.B,result_global_16.A, result_global_16.B"
   ]
  },
  {
   "cell_type": "code",
   "execution_count": 32,
   "metadata": {},
   "outputs": [
    {
     "data": {
      "text/plain": [
       "(array([[0.98336039, 0.01663961],\n",
       "        [0.01663961, 0.98336039]]),\n",
       " array([[0.9942074, 0.0057926],\n",
       "        [0.0057926, 0.9942074]]))"
      ]
     },
     "execution_count": 32,
     "metadata": {},
     "output_type": "execute_result"
    }
   ],
   "source": [
    "result_local_sym.A, result_local_sym.B"
   ]
  },
  {
   "attachments": {},
   "cell_type": "markdown",
   "metadata": {},
   "source": [
    "3 state HMM"
   ]
  },
  {
   "cell_type": "code",
   "execution_count": 1,
   "metadata": {},
   "outputs": [
    {
     "data": {
      "text/plain": [
       "(array([[0.6, 0.2, 0.2],\n",
       "        [0.2, 0.6, 0.2],\n",
       "        [0.2, 0.2, 0.6]]),\n",
       " array([[0.8, 0.1, 0.1],\n",
       "        [0.1, 0.8, 0.1],\n",
       "        [0.1, 0.1, 0.8]]))"
      ]
     },
     "execution_count": 1,
     "metadata": {},
     "output_type": "execute_result"
    }
   ],
   "source": [
    "import os\n",
    "import numpy as np\n",
    "from hidden import dynamics, infer\n",
    "# This is only if you want to use non-default optimization routines (global)\n",
    "from hidden.optimize.base import OptClass\n",
    "\n",
    "# Initializedynamics\n",
    "hmm3=dynamics.HMM(3,3) \n",
    "hmm3.init_uniform_cycle(0.2, 0.1) \n",
    "hmm3.A, hmm3.B"
   ]
  },
  {
   "cell_type": "code",
   "execution_count": 2,
   "metadata": {},
   "outputs": [],
   "source": [
    "hmm3.run_dynamics(250)"
   ]
  },
  {
   "cell_type": "code",
   "execution_count": 3,
   "metadata": {},
   "outputs": [],
   "source": [
    "#eta diye data automatic save kora jae.\n",
    "import os\n",
    "from pathlib import Path\n",
    "proj_dir= Path().resolve().parents[1]\n",
    "#proj_dir= Path().resolve().parents[] first e eta diye dekhbo amra koi asi, ekhane amar data ta hmm er under e . first path \n",
    "\n",
    "#theke amar hmm path porjonto koto tuku 0,1,ebhabe jabo. .parents[] ei bracket e sei no.ta likhbo. \n",
    "\n",
    "data_dir=proj_dir/\"data\"# ekhane amar data proj_dir er undere datar modhee ase . path ta dite hobe\n",
    "files= os.listdir(data_dir)\n",
    "\n",
    "import pandas as pd\n",
    "datasets=[]\n",
    "for file_name in files:\n",
    "  datasets.append(pd.read_csv(data_dir/file_name))\n",
    "  #tahole ami data gulo dekhte parbo\n",
    "  "
   ]
  },
  {
   "cell_type": "code",
   "execution_count": 4,
   "metadata": {},
   "outputs": [],
   "source": [
    "# Initialize infer object\n",
    "analyzer = infer.MarkovInfer(3, 3)"
   ]
  },
  {
   "cell_type": "code",
   "execution_count": 5,
   "metadata": {},
   "outputs": [],
   "source": [
    "# Now we can use initial 'guesses' for A and B to pass into the optimizer\n",
    "A3_init = np.array([\n",
    "    [0.70, 0.2,0.75],\n",
    "    [0.20, 0.7,0.15],\n",
    "    [0.10,0.1,0.1]\n",
    "])\n",
    "\n",
    "B3_init = np.array([\n",
    "    [0.85, 0.10,0.70],\n",
    "    [0.05, 0.80,0.20],\n",
    "    [0.10,0.10,0.10]\n",
    "])\n"
   ]
  },
  {
   "cell_type": "code",
   "execution_count": 48,
   "metadata": {},
   "outputs": [],
   "source": [
    "result_local_3 = analyzer.optimize(datasets[3], A3_init, B3_init, symmetric=False, opt_type=OptClass.Local)\n",
    "result_local_5 = analyzer.optimize(datasets[5], A3_init, B3_init, symmetric=False, opt_type=OptClass.Local)\n",
    "result_local_7 = analyzer.optimize(datasets[7], A3_init, B3_init, symmetric=False, opt_type=OptClass.Local)\n",
    "result_local_9 = analyzer.optimize(datasets[9], A3_init, B3_init, symmetric=False, opt_type=OptClass.Local)\n",
    "result_local_11 = analyzer.optimize(datasets[11], A3_init, B3_init, symmetric=False, opt_type=OptClass.Local)\n",
    "result_local_13 = analyzer.optimize(datasets[13], A3_init, B3_init, symmetric=False, opt_type=OptClass.Local)"
   ]
  },
  {
   "cell_type": "code",
   "execution_count": 50,
   "metadata": {},
   "outputs": [
    {
     "data": {
      "text/plain": [
       "(array([[0.7 , 0.2 , 0.75],\n",
       "        [0.2 , 0.7 , 0.15],\n",
       "        [0.1 , 0.1 , 0.1 ]]),\n",
       " array([[0.85, 0.1 , 0.7 ],\n",
       "        [0.05, 0.8 , 0.2 ],\n",
       "        [0.1 , 0.1 , 0.1 ]]),\n",
       " array([[0.7 , 0.2 , 0.75],\n",
       "        [0.2 , 0.7 , 0.15],\n",
       "        [0.1 , 0.1 , 0.1 ]]),\n",
       " array([[0.85, 0.1 , 0.7 ],\n",
       "        [0.05, 0.8 , 0.2 ],\n",
       "        [0.1 , 0.1 , 0.1 ]]),\n",
       " array([[0.7 , 0.2 , 0.75],\n",
       "        [0.2 , 0.7 , 0.15],\n",
       "        [0.1 , 0.1 , 0.1 ]]),\n",
       " array([[0.85, 0.1 , 0.7 ],\n",
       "        [0.05, 0.8 , 0.2 ],\n",
       "        [0.1 , 0.1 , 0.1 ]]),\n",
       " array([[0.7 , 0.2 , 0.75],\n",
       "        [0.2 , 0.7 , 0.15],\n",
       "        [0.1 , 0.1 , 0.1 ]]),\n",
       " array([[0.85, 0.1 , 0.7 ],\n",
       "        [0.05, 0.8 , 0.2 ],\n",
       "        [0.1 , 0.1 , 0.1 ]]),\n",
       " array([[0.7 , 0.2 , 0.75],\n",
       "        [0.2 , 0.7 , 0.15],\n",
       "        [0.1 , 0.1 , 0.1 ]]),\n",
       " array([[0.85, 0.1 , 0.7 ],\n",
       "        [0.05, 0.8 , 0.2 ],\n",
       "        [0.1 , 0.1 , 0.1 ]]),\n",
       " array([[0.7 , 0.2 , 0.75],\n",
       "        [0.2 , 0.7 , 0.15],\n",
       "        [0.1 , 0.1 , 0.1 ]]),\n",
       " array([[0.85, 0.1 , 0.7 ],\n",
       "        [0.05, 0.8 , 0.2 ],\n",
       "        [0.1 , 0.1 , 0.1 ]]))"
      ]
     },
     "execution_count": 50,
     "metadata": {},
     "output_type": "execute_result"
    }
   ],
   "source": [
    "result_local_3.A,result_local_3.B,result_local_5.A,result_local_5.B,result_local_7.A,result_local_7.B,result_local_9.A,result_local_9.B,result_local_11.A,result_local_11.B,result_local_13.A,result_local_13.B,\n"
   ]
  },
  {
   "cell_type": "code",
   "execution_count": 7,
   "metadata": {},
   "outputs": [
    {
     "data": {
      "text/plain": [
       "(array([[0.6, 0.2, 0.2],\n",
       "        [0.2, 0.6, 0.2],\n",
       "        [0.2, 0.2, 0.6]]),\n",
       " array([[0.8, 0.1, 0.1],\n",
       "        [0.1, 0.8, 0.1],\n",
       "        [0.1, 0.1, 0.8]]))"
      ]
     },
     "execution_count": 7,
     "metadata": {},
     "output_type": "execute_result"
    }
   ],
   "source": [
    "hmm3.A,hmm3.B"
   ]
  },
  {
   "cell_type": "code",
   "execution_count": 6,
   "metadata": {},
   "outputs": [],
   "source": [
    "result_global_3 = analyzer.optimize(datasets[3], A3_init, B3_init, symmetric=False, opt_type=OptClass.Global)\n",
    "result_global_5 = analyzer.optimize(datasets[5], A3_init, B3_init, symmetric=False, opt_type=OptClass.Global)\n",
    "#result_global_7 = analyzer.optimize(datasets[7], A3_init, B3_init, symmetric=False, opt_type=OptClass.Global)\n",
    "#result_global_9 = analyzer.optimize(datasets[9], A3_init, B3_init, symmetric=False, opt_type=OptClass.Global)\n",
    "#result_global_11= analyzer.optimize(datasets[11], A3_init, B3_init, symmetric=False, opt_type=OptClass.Global)\n",
    "#result_global_13 = analyzer.optimize(datasets[13], A3_init, B3_init, symmetric=False, opt_type=OptClass.Global)"
   ]
  },
  {
   "cell_type": "code",
   "execution_count": null,
   "metadata": {},
   "outputs": [],
   "source": []
  }
 ],
 "metadata": {
  "kernelspec": {
   "display_name": "hid",
   "language": "python",
   "name": "python3"
  },
  "language_info": {
   "codemirror_mode": {
    "name": "ipython",
    "version": 3
   },
   "file_extension": ".py",
   "mimetype": "text/x-python",
   "name": "python",
   "nbconvert_exporter": "python",
   "pygments_lexer": "ipython3",
   "version": "3.9.16"
  },
  "orig_nbformat": 4
 },
 "nbformat": 4,
 "nbformat_minor": 2
}

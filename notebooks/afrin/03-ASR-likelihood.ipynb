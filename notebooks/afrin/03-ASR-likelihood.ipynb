{
 "cells": [
  {
   "cell_type": "code",
   "execution_count": 7,
   "metadata": {},
   "outputs": [],
   "source": [
    "import os\n",
    "import numpy as np\n",
    "from typing import Iterable, Tuple, Optional\n",
    "import matplotlib.pyplot as plt\n",
    "import seaborn as sns\n",
    "sns.set(style='darkgrid', palette=\"hls\")\n",
    "\n",
    "# Import HMM libraries\n",
    "from hidden import dynamics\n",
    "from hidden import infer\n",
    "\n",
    "# here we assume the dynamics are symmetric\n",
    "a = 0.3\n",
    "b = 0.1\n",
    "A = np.array([[1 - a, a], [a, 1 - a]]) # eta symmetric matrix and parameter ekta \n",
    "B = np.array([[1 - b, b], [b, 1 - b]])\n",
    "\n",
    "hmm = dynamics.HMM(2, 2)"
   ]
  },
  {
   "cell_type": "code",
   "execution_count": 8,
   "metadata": {},
   "outputs": [],
   "source": [
    "#eta diye data automatic save kora jae.\n",
    "import os\n",
    "from pathlib import Path\n",
    "proj_dir= Path().resolve().parents[1]\n",
    "#proj_dir= Path().resolve().parents[] first e eta diye dekhbo amra koi asi, ekhane amar data ta hmm er under e . first path \n",
    "\n",
    "#theke amar hmm path porjonto koto tuku 0,1,ebhabe jabo. .parents[] ei bracket e sei no.ta likhbo. \n",
    "\n",
    "data_dir=proj_dir/\"data\"# ekhane amar data proj_dir er undere datar modhee ase . path ta dite hobe\n",
    "files= os.listdir(data_dir)\n",
    "\n",
    "import pandas as pd\n",
    "datasets=[]\n",
    "for file_name in files:\n",
    "  datasets.append(pd.read_csv(data_dir/file_name))\n",
    "  #tahole ami data gulo dekhte parbo\n",
    "  "
   ]
  },
  {
   "cell_type": "code",
   "execution_count": 12,
   "metadata": {},
   "outputs": [],
   "source": [
    "# Initialize the Dynamics and Observation matrices\n",
    "hmm.initialize_dynamics(A, B)\n",
    "\n",
    "# Now run the dynamics for 1000 steps\n",
    "hmm.run_dynamics(1000)\n",
    "# And pull off the state and observation data\n",
    "state_ts = hmm.get_state_ts()\n",
    "\n"
   ]
  },
  {
   "cell_type": "code",
   "execution_count": 13,
   "metadata": {},
   "outputs": [],
   "source": [
    "# We can calculate the likelihood here, using the bayesian predictions\n",
    "def calc_likelihood(\n",
    "    B: np.ndarray,\n",
    "    bayes_pred: Iterable[np.ndarray],\n",
    "    obs_ts: Iterable[int]\n",
    ") -> float:\n",
    "    likelihood = 0\n",
    "    for bayes, obs in zip(bayes_pred, obs_ts):\n",
    "        inner =  bayes @ B[:, obs]\n",
    "        likelihood -= np.log(inner)\n",
    "    return likelihood"
   ]
  },
  {
   "cell_type": "code",
   "execution_count": 14,
   "metadata": {},
   "outputs": [],
   "source": [
    "# Now, we need a way of generating a Bayes estimate for a specific value of the transition parameter\n",
    "est = infer.MarkovInfer(2, 2)\n",
    "\n",
    "# For a stating point, lets assume that we try a = 0.4\n",
    "a_test = 0.4\n",
    "A_sample = np.array([[1 - a_test, a_test], [a_test, 1 - a_test]])\n",
    "\n",
    "# We can then generate the Bayesian filter for these dynamics\n",
    "est.forward_algo(datasets[1], A_sample, B)"
   ]
  },
  {
   "cell_type": "code",
   "execution_count": 15,
   "metadata": {},
   "outputs": [
    {
     "data": {
      "text/plain": [
       "(-0.05, 1.05)"
      ]
     },
     "execution_count": 15,
     "metadata": {},
     "output_type": "execute_result"
    },
    {
     "data": {
      "image/png": "[encoded data removed]",
      "text/plain": [
       "<Figure size 600x350 with 1 Axes>"
      ]
     },
     "metadata": {},
     "output_type": "display_data"
    }
   ],
   "source": [
    "fig, ax = plt.subplots(1, 1, figsize=(6, 3.5))\n",
    "ax.axhline(0.5, color='k', linestyle='--')\n",
    "# Calcalte the probability of begin in state 1 from the forward tracker\n",
    "p1_fwd = [p[1] for p in est.forward_tracker]\n",
    "ax.plot(p1_fwd[:40])\n",
    "ax.plot(state_ts[:40], 'o', color=sns.xkcd_rgb[\"shamrock\"], markersize=7, alpha=0.6)\n",
    "ax.plot(datasets[1][:40], 'o',color=sns.xkcd_rgb[\"tangerine\"], markersize=4, alpha=0.6)\n",
    "\n",
    "ax.set_ylim([-0.05,1.05])\n"
   ]
  },
  {
   "cell_type": "code",
   "execution_count": 17,
   "metadata": {},
   "outputs": [
    {
     "ename": "IndexError",
     "evalue": "only integers, slices (`:`), ellipsis (`...`), numpy.newaxis (`None`) and integer or boolean arrays are valid indices",
     "output_type": "error",
     "traceback": [
      "\u001b[1;31m---------------------------------------------------------------------------\u001b[0m",
      "\u001b[1;31mIndexError\u001b[0m                                Traceback (most recent call last)",
      "Cell \u001b[1;32mIn[17], line 3\u001b[0m\n\u001b[0;32m      1\u001b[0m \u001b[39m# Now we can calculate the likelihood of this parameter\u001b[39;00m\n\u001b[1;32m----> 3\u001b[0m calc_likelihood(B, est\u001b[39m.\u001b[39;49mprediction_tracker, datasets[\u001b[39m1\u001b[39;49m])\n",
      "Cell \u001b[1;32mIn[13], line 9\u001b[0m, in \u001b[0;36mcalc_likelihood\u001b[1;34m(B, bayes_pred, obs_ts)\u001b[0m\n\u001b[0;32m      7\u001b[0m likelihood \u001b[39m=\u001b[39m \u001b[39m0\u001b[39m\n\u001b[0;32m      8\u001b[0m \u001b[39mfor\u001b[39;00m bayes, obs \u001b[39min\u001b[39;00m \u001b[39mzip\u001b[39m(bayes_pred, obs_ts):\n\u001b[1;32m----> 9\u001b[0m     inner \u001b[39m=\u001b[39m  bayes \u001b[39m@\u001b[39m B[:, obs]\n\u001b[0;32m     10\u001b[0m     likelihood \u001b[39m-\u001b[39m\u001b[39m=\u001b[39m np\u001b[39m.\u001b[39mlog(inner)\n\u001b[0;32m     11\u001b[0m \u001b[39mreturn\u001b[39;00m likelihood\n",
      "\u001b[1;31mIndexError\u001b[0m: only integers, slices (`:`), ellipsis (`...`), numpy.newaxis (`None`) and integer or boolean arrays are valid indices"
     ]
    }
   ],
   "source": [
    "# Now we can calculate the likelihood of this parameter\n",
    "\n",
    "calc_likelihood(B, est.prediction_tracker, datasets[1])"
   ]
  },
  {
   "cell_type": "code",
   "execution_count": null,
   "metadata": {},
   "outputs": [],
   "source": [
    "result_global_3.A, result_global_3.B,result_global_5.A, result_global_5.B,result_global_7.A, result_global_7.B,result_global_9.A, result_global_9.B,result_global_11.A, result_global_11.B,result_global_13.A, result_global_13.B"
   ]
  }
 ],
 "metadata": {
  "kernelspec": {
   "display_name": "hid",
   "language": "python",
   "name": "python3"
  },
  "language_info": {
   "codemirror_mode": {
    "name": "ipython",
    "version": 3
   },
   "file_extension": ".py",
   "mimetype": "text/x-python",
   "name": "python",
   "nbconvert_exporter": "python",
   "pygments_lexer": "ipython3",
   "version": "3.9.16"
  },
  "orig_nbformat": 4
 },
 "nbformat": 4,
 "nbformat_minor": 2
}

{
 "cells": [
  {
   "attachments": {},
   "cell_type": "markdown",
   "metadata": {},
   "source": [
    "# Hidden Markov Models\n",
    "\n",
    "This notebook goes over the calculation of $\\alpha$ and $\\beta$ terms, which represent the forward and backward likelihoods, or *unnormalized* posterio probabilities\n",
    "\n",
    "In previous notebooks, we have worked with forward and backward *probabilities*, the alpha and beta terms are just the inverses:\n",
    "\n",
    "$$ P(x_t = i | Y^t) \\quad \\to \\quad P(Y^t | x_t = i) \\propto \\alpha_t(i) $$\n",
    "$$ P(x_t = i | Y^{t+1, T}) \\quad \\to \\quad P(Y^{t+1, T} | x_t = i) \\propto \\beta_t(i) $$\n",
    "\n",
    "Now, in practice, we need these $\\alpha$ and $\\beta$ terms because the calculation of the hidden state transition probability $P(x_t=i, x_{t+1}=j | Y^T)$ turns out to be easier with these alpha and beta probabilities.\n",
    "\n",
    "Quantitatively (much like the forward and backward probabilities) the $\\alpha$ and $\\beta$ probabilities are calcualted recursively. For the forward likelihood. The initial state is simply given by the column vector of the observation matrix $\\boldsymbol{B}$ corresponding to the initial observation:\n",
    "\n",
    "$$ \\alpha_0 = \\left[\\begin{matrix} \\alpha_0(0) \\\\ \\alpha_0(1) \\end{matrix}\\right] = \\left[\\begin{matrix} B_{00} \\\\ B_{01} \\end{matrix}\\right] $$\n",
    "\n",
    "To calculate the value of $\\alpha_t$ for other $t$, we simply propogate the intial condition forward in time using (See Ref.[1])\n",
    "\n",
    "$$ \\alpha_{t+1}^{(j)} = \\sum_i \\alpha_t(i) A_{ji} b_j(y_{t+1})  $$\n",
    "\n",
    "where $b_j(y_{t+1})$ is the $j$th row of column $y_{t+1}$ in the observation matrix (where here $y_{t+1}$ is the observation at time $t+1$)\n",
    "\n",
    "Similarly, the backward likelihoods are initialized with the condition that\n",
    "\n",
    "$$ \\beta_{T-1}(i) = 1 $$\n",
    "\n",
    "and then satisfy the similar (backwards) recurrence\n",
    "\n",
    "$$ \\beta_{t-1}(i) = \\sum_j A_{ji}b_j(y_{t})\\beta_t(j) $$\n",
    "\n",
    "Using these two relationships, we can end up wth the full sequence of $\\alpha$ and $\\beta$ vectors.\n",
    "\n",
    "#### References\n",
    "\n",
    "-[1] W.H. Press, S.A. Teukolsky, & B.P. Flannery, *Numerical Recipes: The Art of Scientific Computing*, **2007**, Cambridge University Press\n"
   ]
  },
  {
   "cell_type": "code",
   "execution_count": 1,
   "metadata": {},
   "outputs": [],
   "source": [
    "import numpy as np\n",
    "import matplotlib.pyplot as plt\n",
    "import seaborn as sns\n",
    "sns.set(style='darkgrid')\n",
    "\n",
    "from hidden import dynamics\n"
   ]
  },
  {
   "cell_type": "code",
   "execution_count": 2,
   "metadata": {},
   "outputs": [],
   "source": [
    "a = 0.9\n",
    "b = 0.8\n",
    "\n",
    "# We introduce a slight asymmetry here just to make sure the later vectorized\n",
    "# calculations are actually correct\n",
    "delta = 0.01\n",
    "\n",
    "A = np.array([[a + delta, 1 - a ], [1 - a - delta, a]])\n",
    "B = np.array([[b - delta, 1 - b], [1 - b + delta, b]])\n",
    "\n",
    "# Instantiate the simulator\n",
    "hmm = dynamics.HMM(2, 2)\n",
    "\n",
    "# Initialize the dynamics\n",
    "hmm.initialize_dynamics(A, B)\n",
    "\n",
    "# And run the dynamics for 100 steps\n",
    "hmm.run_dynamics(100)\n"
   ]
  },
  {
   "cell_type": "code",
   "execution_count": 3,
   "metadata": {},
   "outputs": [],
   "source": [
    "# Now, we can pull out the states and observation time series'\n",
    "state_ts = hmm.get_state_ts()\n",
    "obs_ts = hmm.get_obs_ts()"
   ]
  },
  {
   "cell_type": "code",
   "execution_count": 4,
   "metadata": {},
   "outputs": [
    {
     "data": {
      "text/plain": [
       "array([0.2, 0.8])"
      ]
     },
     "execution_count": 4,
     "metadata": {},
     "output_type": "execute_result"
    }
   ],
   "source": [
    "# Now we want to calculate the first few alpha terms\n",
    "\n",
    "alpha = B[:, obs_ts[0]]\n",
    "alpha"
   ]
  },
  {
   "cell_type": "code",
   "execution_count": 5,
   "metadata": {},
   "outputs": [
    {
     "data": {
      "text/plain": [
       "(0.20698, 0.15498)"
      ]
     },
     "execution_count": 5,
     "metadata": {},
     "output_type": "execute_result"
    }
   ],
   "source": [
    "# Now, we can explicitly calcualte the alpha_1 term as\n",
    "\n",
    "alpha_0 = alpha.copy()\n",
    "\n",
    "alpha_1_0 = (alpha_0[0] * A[0, 0] * B[0, obs_ts[1]]) + (alpha_0[1] * A[0, 1] * B[0, obs_ts[1]])\n",
    "alpha_1_1 = (alpha_0[0] * A[1, 0] * B[1, obs_ts[1]]) + (alpha_0[1] * A[1, 1] * B[1, obs_ts[1]])\n",
    "\n",
    "alpha_1_0, alpha_1_1\n"
   ]
  },
  {
   "cell_type": "code",
   "execution_count": 6,
   "metadata": {},
   "outputs": [
    {
     "data": {
      "text/plain": [
       "array([0.20698, 0.15498])"
      ]
     },
     "execution_count": 6,
     "metadata": {},
     "output_type": "execute_result"
    }
   ],
   "source": [
    "# However, we can factor out the B terms from each expression, and even vectorize the expression as\n",
    "((A @ alpha_0) * B[:, obs_ts[1]])"
   ]
  },
  {
   "cell_type": "code",
   "execution_count": 7,
   "metadata": {},
   "outputs": [],
   "source": [
    "# And therefore, we can vectorize the entire calculation as\n",
    "alpha = B[:, obs_ts[0]]\n",
    "alpha_tracker = [alpha]\n",
    "\n",
    "for obs in obs_ts[1:]:\n",
    "    alpha = (A @ alpha) * B[:, obs]\n",
    "    alpha_tracker.append(alpha)\n"
   ]
  },
  {
   "cell_type": "code",
   "execution_count": 8,
   "metadata": {},
   "outputs": [
    {
     "data": {
      "text/plain": [
       "(array([0.2, 0.8]), array([0.20698, 0.15498]))"
      ]
     },
     "execution_count": 8,
     "metadata": {},
     "output_type": "execute_result"
    }
   ],
   "source": [
    "# And these first few terms match our expectations from the previous calculation\n",
    "alpha_tracker[0], alpha_tracker[1]"
   ]
  },
  {
   "cell_type": "code",
   "execution_count": 9,
   "metadata": {},
   "outputs": [
    {
     "data": {
      "image/png": "[encoded data removed]",
      "text/plain": [
       "<Figure size 432x252 with 1 Axes>"
      ]
     },
     "metadata": {},
     "output_type": "display_data"
    }
   ],
   "source": [
    "# To show that these are not normalized probabilities, we can look at the\n",
    "# normalization over time\n",
    "\n",
    "fig, ax = plt.subplots(1, 1, figsize=(6, 3.5))\n",
    "# Intuitively, this makes sense because, the likelihood of any given trajectory\n",
    "# conditioned on a single current state will go down fast as that trajectory\n",
    "# gets longer\n",
    "\n",
    "ax.plot([np.sum(a) for a in alpha_tracker], linewidth=2.0, color=sns.xkcd_rgb[\"tangerine\"], alpha=0.9)\n",
    "ax.set_yscale('log')"
   ]
  },
  {
   "cell_type": "code",
   "execution_count": 10,
   "metadata": {},
   "outputs": [
    {
     "data": {
      "text/plain": [
       "array([1., 1.])"
      ]
     },
     "execution_count": 10,
     "metadata": {},
     "output_type": "execute_result"
    }
   ],
   "source": [
    "# Now for the beta terms:\n",
    "\n",
    "# Initial value is\n",
    "beta = np.ones(2)\n",
    "beta_T = beta.copy()\n",
    "beta_T"
   ]
  },
  {
   "cell_type": "code",
   "execution_count": 11,
   "metadata": {},
   "outputs": [
    {
     "data": {
      "text/plain": [
       "(0.25399999999999995, 0.7400000000000001)"
      ]
     },
     "execution_count": 11,
     "metadata": {},
     "output_type": "execute_result"
    }
   ],
   "source": [
    "# And then we can calcualte the next term explicitly (as before)\n",
    "\n",
    "beta_Tm1_0 = (A[1, 0] * B[1, obs_ts[-1]] * beta_T[1]) + (A[0, 0] * B[0, obs_ts[-1]] * beta_T[0])\n",
    "beta_Tm1_1 = (A[1, 1] * B[1, obs_ts[-1]] * beta_T[1]) + (A[0, 1] * B[0, obs_ts[-1]] * beta_T[0])\n",
    "\n",
    "beta_Tm1_0, beta_Tm1_1"
   ]
  },
  {
   "cell_type": "code",
   "execution_count": 12,
   "metadata": {},
   "outputs": [
    {
     "data": {
      "text/plain": [
       "array([0.254, 0.74 ])"
      ]
     },
     "execution_count": 12,
     "metadata": {},
     "output_type": "execute_result"
    }
   ],
   "source": [
    "# This can also be sort-of vectorized, not quite as cleanly as the previous\n",
    "# calculation, as the B terms are also contained in the summation. Howvever\n",
    "# this isnt so bad, and we just have to do an element-wise multiplication of\n",
    "# B[:, obs] by beta_T before the matrix multiplication by A (transpose)\n",
    "\n",
    "A.T @ (B[:, obs_ts[-1]] * beta_T)\n"
   ]
  },
  {
   "cell_type": "code",
   "execution_count": 13,
   "metadata": {},
   "outputs": [],
   "source": [
    "# So, with this we can also generate the entire sequence of beta\n",
    "# values\n",
    "\n",
    "beta = np.ones(2)\n",
    "beta_tracker = [beta]\n",
    "# Loop over observations from T-1 --> 0\n",
    "for obs in obs_ts[-1::-1]:\n",
    "    beta = A.T @ (beta * B[:, obs])\n",
    "    beta_tracker.append(beta)"
   ]
  },
  {
   "cell_type": "code",
   "execution_count": 14,
   "metadata": {},
   "outputs": [
    {
     "data": {
      "image/png": "[encoded data removed]",
      "text/plain": [
       "<Figure size 432x252 with 1 Axes>"
      ]
     },
     "metadata": {},
     "output_type": "display_data"
    }
   ],
   "source": [
    "# As of now, the beta_tracker has its 0 element corresponding to t=T and its\n",
    "# final element being t=0 so we can swap the ordering so that alpha and beta\n",
    "# are in the same index reference frame\n",
    "\n",
    "# Here beta_tracker fwd is the 'forward time' version\n",
    "beta_tracker_fwd = beta_tracker[::-1][1:]\n",
    "\n",
    "fig, ax = plt.subplots(1, 1, figsize=(6, 3.5))\n",
    "\n",
    "ax.plot([np.sum(b) for b in beta_tracker_fwd], linewidth=2.0, color=sns.xkcd_rgb[\"tangerine\"], alpha=0.9)\n",
    "ax.set_yscale('log')"
   ]
  },
  {
   "cell_type": "code",
   "execution_count": 15,
   "metadata": {},
   "outputs": [
    {
     "data": {
      "text/plain": [
       "(100, 100)"
      ]
     },
     "execution_count": 15,
     "metadata": {},
     "output_type": "execute_result"
    }
   ],
   "source": [
    "len(alpha_tracker), len(beta_tracker_fwd)"
   ]
  },
  {
   "cell_type": "code",
   "execution_count": 16,
   "metadata": {},
   "outputs": [
    {
     "data": {
      "text/plain": [
       "Text(0, 0.5, '$-\\\\ln \\\\mathcal{L}(\\\\theta)$')"
      ]
     },
     "execution_count": 16,
     "metadata": {},
     "output_type": "execute_result"
    },
    {
     "data": {
      "image/png": "[encoded data removed]",
      "text/plain": [
       "<Figure size 432x252 with 1 Axes>"
      ]
     },
     "metadata": {},
     "output_type": "display_data"
    }
   ],
   "source": [
    "# Now, as a test, the likelihood (total) should be independent of t, and can be\n",
    "# written as a function of alpha and beta as\n",
    "# L_t = \\sum_i \\alpha_t(i) * beta_t(i)\n",
    "\n",
    "likelihood = [np.sum(a * b) for a, b in zip(alpha_tracker, beta_tracker_fwd)]\n",
    "log_likelihood = [np.log(np.sum(a * b)) for a, b in zip(alpha_tracker, beta_tracker_fwd)]\n",
    "\n",
    "fig, ax = plt.subplots(1, 1, figsize=(6, 3.5))\n",
    "\n",
    "ax.plot(log_likelihood, linewidth=2.5, color=sns.xkcd_rgb[\"shamrock green\"], alpha=0.8)\n",
    "ax.set_xlabel(r\"Time step $t$\", fontsize=15)\n",
    "ax.set_ylabel(r\"$-\\ln \\mathcal{L}(\\theta)$\", fontsize=15)"
   ]
  },
  {
   "cell_type": "code",
   "execution_count": 17,
   "metadata": {},
   "outputs": [
    {
     "data": {
      "text/plain": [
       "(0.06982254687677654, 0.9301774531232234, 1.0)"
      ]
     },
     "execution_count": 17,
     "metadata": {},
     "output_type": "execute_result"
    }
   ],
   "source": [
    "# This is reasonable? We can also calcualte the Bayesian Smoothed probability\n",
    "# supposedly, from the alpha, beta, and likelihood terms\n",
    "\n",
    "# the probability of a given hidden state i at time t is alpha_t(i) * beta_t(i) / likelihood_t\n",
    "\n",
    "# So, for instance, at t=10, we can get the bayesian probability as\n",
    "bayes_p_0 = alpha_tracker[10][0] * beta_tracker_fwd[10][0] / likelihood[10]\n",
    "bayes_p_1 = alpha_tracker[10][1] * beta_tracker_fwd[10][1] / likelihood[10]\n",
    "\n",
    "# So, from this we can see that this is, in fact, a probability, and that\n",
    "# there is a high probability of the system being in state 1\n",
    "bayes_p_0, bayes_p_1, sum([bayes_p_0, bayes_p_1])"
   ]
  },
  {
   "cell_type": "code",
   "execution_count": 18,
   "metadata": {},
   "outputs": [
    {
     "data": {
      "text/plain": [
       "[array([0.12560235, 0.87439765]),\n",
       " array([0.15100284, 0.84899716]),\n",
       " array([0.04116453, 0.95883547]),\n",
       " array([0.01390964, 0.98609036]),\n",
       " array([0.00715674, 0.99284326])]"
      ]
     },
     "execution_count": 18,
     "metadata": {},
     "output_type": "execute_result"
    }
   ],
   "source": [
    "# We can then trivially (again) get this vector for the entire time series\n",
    "bayes_tracker = []\n",
    "\n",
    "for a, b, l in zip(alpha_tracker, beta_tracker_fwd, likelihood):\n",
    "    bayes_tracker.append(a * b / l)\n",
    "\n",
    "bayes_tracker[:5]"
   ]
  },
  {
   "cell_type": "code",
   "execution_count": 19,
   "metadata": {},
   "outputs": [
    {
     "data": {
      "text/plain": [
       "[<matplotlib.lines.Line2D at 0x7fb968d638b0>]"
      ]
     },
     "execution_count": 19,
     "metadata": {},
     "output_type": "execute_result"
    },
    {
     "data": {
      "image/png": "[encoded data removed]",
      "text/plain": [
       "<Figure size 432x252 with 1 Axes>"
      ]
     },
     "metadata": {},
     "output_type": "display_data"
    }
   ],
   "source": [
    "prob_1 = [b[1] for b in bayes_tracker]\n",
    "\n",
    "fig, ax = plt.subplots(1, 1, figsize=(6, 3.5))\n",
    "\n",
    "ax.plot(state_ts[:50], 'o', markersize=9, color='k', label=\"State\")\n",
    "ax.plot(obs_ts[:50], 'o', markersize=5, color='b', label=\"Observation\")\n",
    "ax.plot(prob_1[:50], linewidth=2.0, color='r')\n",
    "\n"
   ]
  },
  {
   "attachments": {},
   "cell_type": "markdown",
   "metadata": {},
   "source": [
    "## The Payoff: Bayesian Reparameterization\n",
    "\n",
    "Now comes the payoff of developing the calculations of forward and backward likelihoods ($\\alpha$ and $\\beta$). Ultimately, we want to devise a means of actually estimating model parameters of the HMM from our observations. While in previous work we have figured out methods of optimizing the partial likelihood function, but now we wand to use some more advanced methods to optimize the true (complete data) likelihood function, using an example of an expectation-maximization algorithm called `Baum-Welch Optiiation'. This porocedure is a two-step process: first, we calculate the optimal state estimates from the forward and backward likelihoods, and then we estimate---from these probabilities---the hidden-state transition matrix elements.  \n",
    "\n",
    "A slightly more detailed derivation in contained in Ref.[1], but the final result is that the transition matrix elements can be estimated as\n",
    "\n",
    "$$ \\hat{A}_{ij} = \\frac{\\sum_t \\alpha_t(j) A_{ij} \\beta_{t+1}(i) b_i(y_{t+1})}{\\sum_t \\alpha_t(i) \\beta_t(i))} $$\n",
    "\n",
    "Effectively, this formula givesus a recipe for updating our estimate of the transition matrix elements\n"
   ]
  },
  {
   "cell_type": "code",
   "execution_count": 66,
   "metadata": {},
   "outputs": [],
   "source": [
    "# To start, reinitialize the system\n",
    "hmm = dynamics.HMM(2, 2)\n",
    "hmm.initialize_dynamics(A, B)\n",
    "hmm.run_dynamics(100)\n",
    "\n",
    "obs_ts, state_ts = hmm.get_obs_ts(), hmm.get_state_ts()"
   ]
  },
  {
   "cell_type": "code",
   "execution_count": 67,
   "metadata": {},
   "outputs": [],
   "source": [
    "# Define an initial (wrong) estimate of the transition matrix (and observation\n",
    "# matrix)\n",
    "a, b = 0.9, 0.8\n",
    "delta_2 = 0.05\n",
    "\n",
    "A_est = np.array([[a + delta_2, 1 - a ], [1 - a - delta_2, a]])\n",
    "B_est = np.array([[b - delta_2, 1 - b], [1 - b + delta_2, b]])\n"
   ]
  },
  {
   "cell_type": "code",
   "execution_count": 68,
   "metadata": {},
   "outputs": [],
   "source": [
    "# Now we can calcualte the alpha and beta values as before (based on the\n",
    "# current estimate of the A and B matrices)\n",
    "\n",
    "alpha = B_est[obs_ts[0], :]\n",
    "alpha_tracker = [alpha]\n",
    "\n",
    "for obs in obs_ts[1:]:\n",
    "    alpha = (A_est @ alpha) * B_est[:, obs]\n",
    "    alpha_tracker.append(alpha)\n",
    "\n",
    "beta = np.ones(2)\n",
    "beta_tracker = [beta]\n",
    "for obs in obs_ts[-1::-1]:\n",
    "    beta = A_est.T @ (beta * B_est[:, obs])\n",
    "    beta_tracker.append(beta)\n",
    "beta_tracker_fwd = beta_tracker[::-1][1:]\n"
   ]
  },
  {
   "cell_type": "code",
   "execution_count": 75,
   "metadata": {},
   "outputs": [
    {
     "data": {
      "text/plain": [
       "(array([[0.93358726, 0.10358923],\n",
       "        [0.08866788, 0.87081052]]),\n",
       " array([[0.95, 0.1 ],\n",
       "        [0.05, 0.9 ]]))"
      ]
     },
     "execution_count": 75,
     "metadata": {},
     "output_type": "execute_result"
    }
   ],
   "source": [
    "# Now, from this we can calculate the updated matrix terms\n",
    "A_00_new = (\n",
    "    sum([a[0] * b[0] * B[0, o] for a, b, o in zip(alpha_tracker[:-1], beta_tracker_fwd[1:], obs_ts[1:])]) / \n",
    "    sum([a[0] * b[0] for a, b in zip(alpha_tracker[:-1], beta_tracker_fwd[:-1])])\n",
    ")\n",
    "\n",
    "A_01_new = (\n",
    "    sum([a[1] * b[0] * B[0, o] for a, b, o in zip(alpha_tracker[:-1], beta_tracker_fwd[1:], obs_ts[1:])]) / \n",
    "    sum([a[1] * b[0] for a, b in zip(alpha_tracker[:-1], beta_tracker_fwd[:-1])])\n",
    ")\n",
    "\n",
    "A_10_new = (\n",
    "    sum([a[0] * b[1] * B[1, o] for a, b, o in zip(alpha_tracker[:-1], beta_tracker_fwd[1:], obs_ts[1:])]) / \n",
    "    sum([a[0] * b[1] for a, b in zip(alpha_tracker[:-1], beta_tracker_fwd[:-1])])\n",
    ")\n",
    "\n",
    "A_11_new = (\n",
    "    sum([a[1] * b[1] * B[1, o] for a, b, o in zip(alpha_tracker[:-1], beta_tracker_fwd[1:], obs_ts[1:])]) / \n",
    "    sum([a[1] * b[1] for a, b in zip(alpha_tracker[:-1], beta_tracker_fwd[:-1])])\n",
    ")\n",
    "\n",
    "\n",
    "A_new = np.array([[A_00_new * A[0, 0], A_01_new * A[0, 1]], [A_10_new * A[1, 0], A_11_new * A[1, 1]]])\n",
    "A_new, A_est\n"
   ]
  },
  {
   "cell_type": "code",
   "execution_count": 74,
   "metadata": {},
   "outputs": [
    {
     "data": {
      "text/plain": [
       "array([1.91731907, 1.95190167])"
      ]
     },
     "execution_count": 74,
     "metadata": {},
     "output_type": "execute_result"
    }
   ],
   "source": [
    "# This should be normalized...\n",
    "A_new.sum(axis=0)"
   ]
  },
  {
   "cell_type": "code",
   "execution_count": 35,
   "metadata": {},
   "outputs": [
    {
     "data": {
      "text/plain": [
       "0.48576455118030903"
      ]
     },
     "execution_count": 35,
     "metadata": {},
     "output_type": "execute_result"
    }
   ],
   "source": [
    "# Now, we can update the elements of the hidden matrix\n",
    "\n",
    "# Note that this is done through the formula\n",
    "# numer = \\sum_t alpha_t(i) * A_{ji} * beta_{t+1}(j) * B[j, obs_t+1]\n",
    "# denom = \\sum_t alpha_t(i) * \\beta_t(i)\n",
    "# A_ji_new = numer / denom\n",
    "\n",
    "# We can calculate a sample term the the top summation\n",
    "\n",
    "# say for i,j = 0, 1\n",
    "numer_10_01 = bayes_infer.alpha_tracker[10][1] * A[0, 1] * bayes_infer.beta_tracker[11][0] * B_est[0, obs_ts[11]]\n",
    "denom_10_01 = bayes_infer.alpha_tracker[10][1] * bayes_infer.beta_tracker[10][1]\n",
    "\n",
    "numer_10_01 / denom_10_01"
   ]
  },
  {
   "cell_type": "code",
   "execution_count": 47,
   "metadata": {},
   "outputs": [],
   "source": [
    "# Now we can calculate this for each term\n",
    "# First we can do it term-by-term\n",
    "alpha_0 = [a[0] for a in bayes_infer.alpha_tracker]\n",
    "alpha_1 = [a[1] for a in bayes_infer.alpha_tracker]\n",
    "beta_0 = [b[0] for b in bayes_infer.beta_tracker]\n",
    "beta_1 = [b[1] for b in bayes_infer.beta_tracker]\n",
    "\n",
    "A_new_00 = np.sum([a * A_est[0, 0] * b * B_est[o, 0] for a, b, o in zip(alpha_0[:-1], beta_0[1:], obs_ts[1:])]) / np.sum([a * b for a, b in zip(alpha_0[:-1], beta_0[:-1])])\n",
    "A_new_11 = np.sum([a * A_est[1, 1] * b * B_est[o, 1] for a, b, o in zip(alpha_1[:-1], beta_1[1:], obs_ts[1:])]) / np.sum([a * b for a, b in zip(alpha_1[:-1], beta_1[:-1])])\n",
    "A_new_10 = np.sum([a * A_est[1, 0] * b * B_est[o, 1] for a, b, o in zip(alpha_0[:-1], beta_1[1:], obs_ts[1:])]) / np.sum([a * b for a, b in zip(alpha_0[:-1], beta_0[:-1])])\n",
    "A_new_00 = np.sum([a * A_est[0, 1] * b * B_est[o, 0] for a, b, o in zip(alpha_1[:-1], beta_0[1:], obs_ts[1:])]) / np.sum([a * b for a, b in zip(alpha_1[:-1], beta_1[:-1])])"
   ]
  },
  {
   "cell_type": "code",
   "execution_count": 48,
   "metadata": {},
   "outputs": [
    {
     "data": {
      "text/plain": [
       "(array([[0.95, 0.1 ],\n",
       "        [0.05, 0.9 ]]),\n",
       " array([[0.91, 0.1 ],\n",
       "        [0.09, 0.9 ]]))"
      ]
     },
     "execution_count": 48,
     "metadata": {},
     "output_type": "execute_result"
    }
   ],
   "source": [
    "A_est, A"
   ]
  },
  {
   "cell_type": "code",
   "execution_count": 49,
   "metadata": {},
   "outputs": [
    {
     "data": {
      "text/plain": [
       "0.07466837505790769"
      ]
     },
     "execution_count": 49,
     "metadata": {},
     "output_type": "execute_result"
    }
   ],
   "source": [
    "A_new_00"
   ]
  },
  {
   "cell_type": "code",
   "execution_count": 132,
   "metadata": {},
   "outputs": [
    {
     "data": {
      "text/plain": [
       "array([[0.91, 0.1 ],\n",
       "       [0.09, 0.9 ]])"
      ]
     },
     "execution_count": 132,
     "metadata": {},
     "output_type": "execute_result"
    }
   ],
   "source": [
    "A"
   ]
  },
  {
   "cell_type": "code",
   "execution_count": null,
   "metadata": {},
   "outputs": [],
   "source": []
  }
 ],
 "metadata": {
  "kernelspec": {
   "display_name": "hmm",
   "language": "python",
   "name": "python3"
  },
  "language_info": {
   "codemirror_mode": {
    "name": "ipython",
    "version": 3
   },
   "file_extension": ".py",
   "mimetype": "text/x-python",
   "name": "python",
   "nbconvert_exporter": "python",
   "pygments_lexer": "ipython3",
   "version": "3.9.7"
  },
  "orig_nbformat": 4,
  "vscode": {
   "interpreter": {
    "hash": "4f9b37dac17d06b8fa0c89267880b723d82f0595bc5fc55c9df0f440e0daf16f"
   }
  }
 },
 "nbformat": 4,
 "nbformat_minor": 2
}

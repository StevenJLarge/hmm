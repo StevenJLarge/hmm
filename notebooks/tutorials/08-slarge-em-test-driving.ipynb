{
 "cells": [
  {
   "cell_type": "code",
   "execution_count": 1,
   "metadata": {},
   "outputs": [],
   "source": [
    "# Test driving the EM algorithm\n",
    "\n",
    "import os\n",
    "import numpy as np\n",
    "import pandas as pd\n",
    "import matplotlib.pyplot as plt\n",
    "from hidden import infer\n",
    "from hidden import dynamics\n",
    "from hidden.optimize.base import OptClass\n",
    "\n",
    "hmm = dynamics.HMM(2, 2)\n",
    "hmm.init_uniform_cycle()\n",
    "hmm.run_dynamics(500)\n",
    "\n",
    "obs_ts = hmm.get_obs_ts()\n",
    "state_ts = hmm.get_state_ts()\n"
   ]
  },
  {
   "cell_type": "code",
   "execution_count": 2,
   "metadata": {},
   "outputs": [
    {
     "ename": "NameError",
     "evalue": "name 'obs_ts' is not defined",
     "output_type": "error",
     "traceback": [
      "\u001b[1;31m---------------------------------------------------------------------------\u001b[0m",
      "\u001b[1;31mNameError\u001b[0m                                 Traceback (most recent call last)",
      "Cell \u001b[1;32mIn[2], line 12\u001b[0m\n\u001b[0;32m      9\u001b[0m trans_mat_init \u001b[39m=\u001b[39m hmm\u001b[39m.\u001b[39mA \u001b[39m+\u001b[39m mat_perturb\n\u001b[0;32m     10\u001b[0m obs_mat_init \u001b[39m=\u001b[39m hmm\u001b[39m.\u001b[39mB \u001b[39m+\u001b[39m mat_perturb\n\u001b[1;32m---> 12\u001b[0m A_mat, B_mat \u001b[39m=\u001b[39m analyzer\u001b[39m.\u001b[39;49moptimize(obs_ts, trans_mat_init, obs_mat_init, opt_type\u001b[39m=\u001b[39;49mOptClass\u001b[39m.\u001b[39;49mExpMax)\n",
      "File \u001b[1;32mc:\\users\\slarge\\code\\hmm\\hidden\\infer.py:135\u001b[0m, in \u001b[0;36mMarkovInfer.optimize\u001b[1;34m(self, observations, trans_init, obs_init, symmetric, opt_type, algo_opts)\u001b[0m\n\u001b[0;32m    132\u001b[0m     dim_tuple \u001b[39m=\u001b[39m (trans_init\u001b[39m.\u001b[39mshape, obs_init\u001b[39m.\u001b[39mshape)\n\u001b[0;32m    133\u001b[0m     \u001b[39mreturn\u001b[39;00m optimizer\u001b[39m.\u001b[39moptimize(observations, dim_tuple, symmetric\u001b[39m=\u001b[39msymmetric)\n\u001b[1;32m--> 135\u001b[0m \u001b[39mreturn\u001b[39;00m optimizer\u001b[39m.\u001b[39;49moptimize(observations, trans_init, obs_init, symmetric)\n",
      "File \u001b[1;32mc:\\users\\slarge\\code\\hmm\\hidden\\optimize\\optimization.py:294\u001b[0m, in \u001b[0;36mEMOptimizer.optimize\u001b[1;34m(self, obs_ts, trans_matrix, obs_matrix, norm, threshold, maxiter, tracking)\u001b[0m\n\u001b[0;32m    291\u001b[0m \u001b[39mwhile\u001b[39;00m update_size \u001b[39m>\u001b[39m threshold \u001b[39mand\u001b[39;00m iter_count \u001b[39m<\u001b[39m maxiter:\n\u001b[0;32m    292\u001b[0m     prev_trans, prev_obs \u001b[39m=\u001b[39m trans_matrix, obs_matrix\n\u001b[1;32m--> 294\u001b[0m     trans_matrix, obs_matrix \u001b[39m=\u001b[39m \u001b[39mself\u001b[39;49m\u001b[39m.\u001b[39;49mbaum_welch_step(\n\u001b[0;32m    295\u001b[0m         trans_matrix, obs_matrix, obs_ts\n\u001b[0;32m    296\u001b[0m     )\n\u001b[0;32m    298\u001b[0m     update_size \u001b[39m=\u001b[39m np\u001b[39m.\u001b[39mmax(\n\u001b[0;32m    299\u001b[0m         [sl\u001b[39m.\u001b[39mnorm(prev_trans \u001b[39m-\u001b[39m trans_matrix, \u001b[39mord\u001b[39m\u001b[39m=\u001b[39mnorm),\n\u001b[0;32m    300\u001b[0m         sl\u001b[39m.\u001b[39mnorm(prev_obs \u001b[39m-\u001b[39m obs_matrix, \u001b[39mord\u001b[39m\u001b[39m=\u001b[39mnorm)]\n\u001b[0;32m    301\u001b[0m     )\n\u001b[0;32m    302\u001b[0m     update_tracker\u001b[39m.\u001b[39mappend(update_size)\n",
      "File \u001b[1;32mc:\\users\\slarge\\code\\hmm\\hidden\\optimize\\optimization.py:264\u001b[0m, in \u001b[0;36mEMOptimizer.baum_welch_step\u001b[1;34m(self, trans_matrix, obs_matrix, obs_ts)\u001b[0m\n\u001b[0;32m    261\u001b[0m bayes_ts \u001b[39m=\u001b[39m \u001b[39mself\u001b[39m\u001b[39m.\u001b[39manalyzer\u001b[39m.\u001b[39mbayesian_smooth(obs_ts, trans_matrix, obs_matrix)\n\u001b[0;32m    263\u001b[0m \u001b[39m# Maximization step: update matrices\u001b[39;00m\n\u001b[1;32m--> 264\u001b[0m trans_matrix_updated \u001b[39m=\u001b[39m EMOptimizer\u001b[39m.\u001b[39;49m_update_transition_matrix(\n\u001b[0;32m    265\u001b[0m     obs_ts, trans_matrix, obs_matrix, alpha_ts, beta_ts, bayes_ts\n\u001b[0;32m    266\u001b[0m )\n\u001b[0;32m    267\u001b[0m obs_matrix_updated \u001b[39m=\u001b[39m EMOptimizer\u001b[39m.\u001b[39m_update_observation_matrix(\n\u001b[0;32m    268\u001b[0m     obs_ts, bayes_ts\n\u001b[0;32m    269\u001b[0m )\n\u001b[0;32m    271\u001b[0m \u001b[39mreturn\u001b[39;00m trans_matrix_updated, obs_matrix_updated\n",
      "File \u001b[1;32mc:\\users\\slarge\\code\\hmm\\hidden\\optimize\\optimization.py:226\u001b[0m, in \u001b[0;36mEMOptimizer._update_transition_matrix\u001b[1;34m(obs_ts, trans_matrix, obs_matrix, alpha, beta, bayes)\u001b[0m\n\u001b[0;32m    221\u001b[0m \u001b[39m@staticmethod\u001b[39m\n\u001b[0;32m    222\u001b[0m \u001b[39mdef\u001b[39;00m \u001b[39m_update_transition_matrix\u001b[39m(\n\u001b[0;32m    223\u001b[0m     obs_ts: np\u001b[39m.\u001b[39mndarray, trans_matrix: np\u001b[39m.\u001b[39mndarray, obs_matrix: np\u001b[39m.\u001b[39mndarray,\n\u001b[0;32m    224\u001b[0m     alpha: np\u001b[39m.\u001b[39mndarray, beta: np\u001b[39m.\u001b[39mndarray, bayes: np\u001b[39m.\u001b[39mndarray\n\u001b[0;32m    225\u001b[0m ):\n\u001b[1;32m--> 226\u001b[0m     xi_numer \u001b[39m=\u001b[39m EMOptimizer\u001b[39m.\u001b[39;49m_get_xi_matrix(\n\u001b[0;32m    227\u001b[0m         obs_ts, trans_matrix, obs_matrix, alpha, beta, bayes\n\u001b[0;32m    228\u001b[0m     )\n\u001b[0;32m    230\u001b[0m     xi_denom \u001b[39m=\u001b[39m EMOptimizer\u001b[39m.\u001b[39m_get_denom_matrix(\n\u001b[0;32m    231\u001b[0m         obs_ts, trans_matrix, obs_matrix, alpha, beta\n\u001b[0;32m    232\u001b[0m     )\n\u001b[0;32m    234\u001b[0m     ratio \u001b[39m=\u001b[39m xi_numer \u001b[39m/\u001b[39m xi_denom\n",
      "File \u001b[1;32mc:\\users\\slarge\\code\\hmm\\hidden\\optimize\\optimization.py:178\u001b[0m, in \u001b[0;36mEMOptimizer._get_xi_matrix\u001b[1;34m(obs, trans_matrix, obs_matrix, alpha_norm, beta_norm, bayes)\u001b[0m\n\u001b[0;32m    172\u001b[0m \u001b[39m@staticmethod\u001b[39m\n\u001b[0;32m    173\u001b[0m \u001b[39mdef\u001b[39;00m \u001b[39m_get_xi_matrix\u001b[39m(\n\u001b[0;32m    174\u001b[0m     obs: np\u001b[39m.\u001b[39mndarray, trans_matrix: np\u001b[39m.\u001b[39mndarray, obs_matrix: np\u001b[39m.\u001b[39mndarray,\n\u001b[0;32m    175\u001b[0m     alpha_norm: np\u001b[39m.\u001b[39mndarray, beta_norm: np\u001b[39m.\u001b[39mndarray, bayes: np\u001b[39m.\u001b[39mndarray\n\u001b[0;32m    176\u001b[0m ):\n\u001b[0;32m    177\u001b[0m     \u001b[39m# Declare xi array (joint probability numerator)\u001b[39;00m\n\u001b[1;32m--> 178\u001b[0m     xi \u001b[39m=\u001b[39m np\u001b[39m.\u001b[39mzeros((\u001b[39m*\u001b[39mtrans_matrix\u001b[39m.\u001b[39mshape, \u001b[39mlen\u001b[39m(obs_ts) \u001b[39m-\u001b[39m \u001b[39m1\u001b[39m))\n\u001b[0;32m    180\u001b[0m     \u001b[39mfor\u001b[39;00m t \u001b[39min\u001b[39;00m \u001b[39mrange\u001b[39m(\u001b[39m1\u001b[39m, \u001b[39mlen\u001b[39m(obs_ts)):\n\u001b[0;32m    181\u001b[0m         xi[:, :, t \u001b[39m-\u001b[39m \u001b[39m1\u001b[39m] \u001b[39m=\u001b[39m (\n\u001b[0;32m    182\u001b[0m             trans_matrix\n\u001b[0;32m    183\u001b[0m             \u001b[39m*\u001b[39m np\u001b[39m.\u001b[39mvstack([obs_matrix[:, obs[t]], obs_matrix[:, obs[t]]])\u001b[39m.\u001b[39mT\n\u001b[1;32m   (...)\u001b[0m\n\u001b[0;32m    186\u001b[0m             )\n\u001b[0;32m    187\u001b[0m         )\n",
      "\u001b[1;31mNameError\u001b[0m: name 'obs_ts' is not defined"
     ]
    }
   ],
   "source": [
    "# Now to run the BW algorithm\n",
    "analyzer = infer.MarkovInfer(2, 2)\n",
    "\n",
    "mat_perturb = np.array([\n",
    "    [0.05, 0.08],\n",
    "    [-0.05, -0.08]\n",
    "])\n",
    "\n",
    "trans_mat_init = hmm.A + mat_perturb\n",
    "obs_mat_init = hmm.B + mat_perturb\n",
    "\n",
    "A_mat, B_mat = analyzer.optimize(obs_ts, trans_mat_init, obs_mat_init, opt_type=OptClass.ExpMax)"
   ]
  },
  {
   "cell_type": "code",
   "execution_count": null,
   "metadata": {},
   "outputs": [],
   "source": []
  }
 ],
 "metadata": {
  "kernelspec": {
   "display_name": "hmm",
   "language": "python",
   "name": "python3"
  },
  "language_info": {
   "codemirror_mode": {
    "name": "ipython",
    "version": 3
   },
   "file_extension": ".py",
   "mimetype": "text/x-python",
   "name": "python",
   "nbconvert_exporter": "python",
   "pygments_lexer": "ipython3",
   "version": "3.10.10"
  },
  "orig_nbformat": 4
 },
 "nbformat": 4,
 "nbformat_minor": 2
}

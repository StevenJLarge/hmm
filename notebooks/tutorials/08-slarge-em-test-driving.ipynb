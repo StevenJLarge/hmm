{
 "cells": [
  {
   "cell_type": "code",
   "execution_count": 3,
   "metadata": {},
   "outputs": [],
   "source": [
    "# Test driving the EM algorithm\n",
    "\n",
    "import os\n",
    "import numpy as np\n",
    "import pandas as pd\n",
    "import matplotlib.pyplot as plt\n",
    "from hidden import infer\n",
    "from hidden import dynamics\n",
    "from hidden.optimize.base import OptClass\n",
    "\n",
    "hmm = dynamics.HMM(2, 2)\n",
    "hmm.init_uniform_cycle()\n",
    "hmm.run_dynamics(500)\n",
    "\n",
    "obs_ts = hmm.get_obs_ts()\n",
    "state_ts = hmm.get_state_ts()\n",
    "\n",
    "%load_ext autoreload\n",
    "%autoreload 2"
   ]
  },
  {
   "cell_type": "code",
   "execution_count": 9,
   "metadata": {},
   "outputs": [],
   "source": [
    "# Now to run the BW algorithm\n",
    "analyzer = infer.MarkovInfer(2, 2)\n",
    "\n",
    "mat_perturb = np.array([\n",
    "    [0.05, 0.08],\n",
    "    [-0.05, -0.08]\n",
    "])\n",
    "\n",
    "trans_mat_init = hmm.A + mat_perturb\n",
    "obs_mat_init = hmm.B + mat_perturb\n",
    "\n",
    "A_mat, B_mat = analyzer.optimize(obs_ts, trans_mat_init, obs_mat_init, opt_type=OptClass.ExpMax)"
   ]
  },
  {
   "cell_type": "code",
   "execution_count": null,
   "metadata": {},
   "outputs": [],
   "source": []
  },
  {
   "cell_type": "code",
   "execution_count": null,
   "metadata": {},
   "outputs": [],
   "source": []
  },
  {
   "cell_type": "code",
   "execution_count": null,
   "metadata": {},
   "outputs": [],
   "source": []
  }
 ],
 "metadata": {
  "kernelspec": {
   "display_name": "hmm",
   "language": "python",
   "name": "python3"
  },
  "language_info": {
   "codemirror_mode": {
    "name": "ipython",
    "version": 3
   },
   "file_extension": ".py",
   "mimetype": "text/x-python",
   "name": "python",
   "nbconvert_exporter": "python",
   "pygments_lexer": "ipython3",
   "version": "3.10.10"
  },
  "orig_nbformat": 4
 },
 "nbformat": 4,
 "nbformat_minor": 2
}

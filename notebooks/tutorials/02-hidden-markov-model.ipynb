{
 "cells": [
  {
   "attachments": {},
   "cell_type": "markdown",
   "metadata": {},
   "source": [
    "# HMM Tutorial 2: Hidden Markov Models\n",
    "\n",
    "Now, we are ready to simulate the dynamics of a Hidden Markov Model. Here, we only have a alightly more complicated situation that in the previous notebook. Effectively, we still have the identical Markovian dynamics operating under the surface, but now there is an additional layer of randomness, which is encoded in the observation matrix $\\boldsymbol{B}$. This matrix has elements $B_{ij} = p(y_t | x_t)$ which is the probability of observing state $y_t$ given that the *true* hidden state is $x_t$.  We can model this dynamics by passing the state at time $t$ through the $\\boldsymbol{B}$ matrix so that the observed value is a random value, with the error probability gven by the sum of the off diagonal entries of the column corresponding to the specfic hidden state.\n",
    "\n",
    "In this notebook, we initialize and simulate the dynamics of a hidden markov model with 2 internal states, and look at discrepancies between the observed and true state values."
   ]
  },
  {
   "cell_type": "code",
   "execution_count": 1,
   "metadata": {},
   "outputs": [],
   "source": [
    "# First, import the hidden.dynamics module, as well as a few other libraries\n",
    "import numpy as np\n",
    "import matplotlib.pyplot as plt\n",
    "import seaborn as sns\n",
    "sns.set(style='darkgrid')\n",
    "\n",
    "from hidden import dynamics\n",
    "\n",
    "# Initialize the model\n",
    "hmm = dynamics.HMM(2, 2)"
   ]
  },
  {
   "cell_type": "code",
   "execution_count": 2,
   "metadata": {},
   "outputs": [
    {
     "data": {
      "text/plain": [
       "(array([[0.7, 0.3],\n",
       "        [0.3, 0.7]]),\n",
       " array([[0.9, 0.1],\n",
       "        [0.1, 0.9]]))"
      ]
     },
     "execution_count": 2,
     "metadata": {},
     "output_type": "execute_result"
    }
   ],
   "source": [
    "# No, we can initialize the matrices using the init_uniform_cycle(...) method\n",
    "# By default this will set off diagonal entries in the 2x2 A matrix to 0.3\n",
    "# and the error rate to 0.1\n",
    "hmm.init_uniform_cycle()\n",
    "\n",
    "hmm.A, hmm.B"
   ]
  },
  {
   "cell_type": "code",
   "execution_count": 3,
   "metadata": {},
   "outputs": [],
   "source": [
    "# Similar to the last notebook, we can run the dynamics for some number of steps\n",
    "hmm.run_dynamics(1000)"
   ]
  },
  {
   "cell_type": "code",
   "execution_count": null,
   "metadata": {},
   "outputs": [],
   "source": []
  }
 ],
 "metadata": {
  "kernelspec": {
   "display_name": "hmm",
   "language": "python",
   "name": "python3"
  },
  "language_info": {
   "codemirror_mode": {
    "name": "ipython",
    "version": 3
   },
   "file_extension": ".py",
   "mimetype": "text/x-python",
   "name": "python",
   "nbconvert_exporter": "python",
   "pygments_lexer": "ipython3",
   "version": "3.9.7"
  },
  "orig_nbformat": 4
 },
 "nbformat": 4,
 "nbformat_minor": 2
}

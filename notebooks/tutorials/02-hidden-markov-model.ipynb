{
 "cells": [
  {
   "attachments": {},
   "cell_type": "markdown",
   "metadata": {},
   "source": [
    "# HMM Tutorial 2: Hidden Markov Models\n",
    "\n",
    "Now, we are ready to simulate the dynamics of a Hidden Markov Model. Here, we only have a alightly more complicated situation that in the previous notebook. Effectively, we still have the identical Markovian dynamics operating under the surface, but now there is an additional layer of randomness, which is encoded in the observation matrix $\\boldsymbol{B}$. This matrix has elements $B_{ij} = p(y_t | x_t)$ which is the probability of observing state $y_t$ given that the *true* hidden state is $x_t$.  We can model this dynamics by passing the state at time $t$ through the $\\boldsymbol{B}$ matrix so that the observed value is a random value, with the error probability gven by the sum of the off diagonal entries of the column corresponding to the specfic hidden state.\n",
    "\n",
    "In this notebook, we initialize and simulate the dynamics of a hidden markov model with 2 internal states, and look at discrepancies between the observed and true state values."
   ]
  },
  {
   "cell_type": "code",
   "execution_count": 12,
   "metadata": {},
   "outputs": [],
   "source": [
    "# First, import the hidden.dynamics module, as well as a few other libraries\n",
    "import numpy as np\n",
    "import matplotlib.pyplot as plt\n",
    "import seaborn as sns\n",
    "sns.set(style='darkgrid')\n",
    "\n",
    "from hidden import dynamics\n",
    "\n",
    "# Initialize the model\n",
    "hmm = dynamics.HMM(2, 2)"
   ]
  },
  {
   "cell_type": "code",
   "execution_count": 13,
   "metadata": {},
   "outputs": [
    {
     "data": {
      "text/plain": [
       "(array([[0.8, 0.2],\n",
       "        [0.2, 0.8]]),\n",
       " array([[0.7, 0.3],\n",
       "        [0.3, 0.7]]))"
      ]
     },
     "execution_count": 13,
     "metadata": {},
     "output_type": "execute_result"
    }
   ],
   "source": [
    "# No, we can initialize the matrices using the init_uniform_cycle(...) method\n",
    "# By default this will set off diagonal entries in the 2x2 A matrix to 0.3\n",
    "# and the error rate to 0.1\n",
    "hmm.init_uniform_cycle(trans_rate=0.2, error_rate=0.3)\n",
    "\n",
    "hmm.A, hmm.B"
   ]
  },
  {
   "cell_type": "code",
   "execution_count": 14,
   "metadata": {},
   "outputs": [],
   "source": [
    "# Similar to the last notebook, we can run the dynamics for some number of steps\n",
    "hmm.run_dynamics(1000)"
   ]
  },
  {
   "cell_type": "code",
   "execution_count": 15,
   "metadata": {},
   "outputs": [],
   "source": [
    "# Now, we can access the hidden states and observed states by getting them from\n",
    "# the models\n",
    "\n",
    "state_ts = hmm.get_state_ts()\n",
    "obs_ts = hmm.get_obs_ts()"
   ]
  },
  {
   "cell_type": "code",
   "execution_count": 17,
   "metadata": {},
   "outputs": [
    {
     "data": {
      "image/png": "[encoded data removed]",
      "text/plain": [
       "<Figure size 432x252 with 1 Axes>"
      ]
     },
     "metadata": {},
     "output_type": "display_data"
    }
   ],
   "source": [
    "# We can plot the observed and hidden-state values (say the first 25)\n",
    "fig, ax = plt.subplots(1, 1, figsize=(6, 3.5))\n",
    "\n",
    "ax.plot(state_ts[:25], 'o', markersize=7, color=sns.xkcd_rgb[\"tomato\"], label=\"Hidden State\")\n",
    "ax.plot(obs_ts[:25], 'o', markersize=4, color=sns.xkcd_rgb[\"cerulean\"], label=\"Observation\")\n",
    "\n",
    "ax.set_ylabel(\"State\")\n",
    "ax.set_xlabel(\"Time Step\")\n",
    "ax.legend(fontsize=12, frameon=False)\n",
    "plt.tight_layout()\n",
    "plt.show()\n",
    "\n"
   ]
  },
  {
   "cell_type": "code",
   "execution_count": 23,
   "metadata": {},
   "outputs": [],
   "source": [
    "# Here, you can see the errors that emerge due to the hidden natire of the HMM\n",
    "# (errors are where the blue dot (observation) does not match the red dot (true\n",
    "# state) at a given point in time)\n",
    "\n",
    "# We can calculate the error rate as well by looping over true states, and\n",
    "# counting how many times the observation is different than the true state\n",
    "\n",
    "# we can do this with a filter\n",
    "error_rate = len(list(filter(lambda x: x[0] != x[1], zip(state_ts, obs_ts)))) / len(state_ts)\n",
    "\n",
    "# Note that this code above is essentially a more compact way of the explicit\n",
    "# loop below\n",
    "counter = 0\n",
    "for state, obs in zip(state_ts, obs_ts):\n",
    "    if state != obs:\n",
    "        counter += 1\n",
    "\n",
    "error_rate_2 = counter / len(state_ts)"
   ]
  },
  {
   "cell_type": "code",
   "execution_count": 24,
   "metadata": {},
   "outputs": [
    {
     "data": {
      "text/plain": [
       "(0.296, 0.296)"
      ]
     },
     "execution_count": 24,
     "metadata": {},
     "output_type": "execute_result"
    }
   ],
   "source": [
    "error_rate, error_rate_2"
   ]
  },
  {
   "cell_type": "code",
   "execution_count": 25,
   "metadata": {},
   "outputs": [],
   "source": [
    "# So we can see that the 'naive' estimate of the hidden state has a ~30% error\n",
    "# rate (which is, expectedly, also the off diagonal entries in theb B mamtrix.)"
   ]
  },
  {
   "cell_type": "code",
   "execution_count": null,
   "metadata": {},
   "outputs": [],
   "source": []
  }
 ],
 "metadata": {
  "kernelspec": {
   "display_name": "hmm",
   "language": "python",
   "name": "python3"
  },
  "language_info": {
   "codemirror_mode": {
    "name": "ipython",
    "version": 3
   },
   "file_extension": ".py",
   "mimetype": "text/x-python",
   "name": "python",
   "nbconvert_exporter": "python",
   "pygments_lexer": "ipython3",
   "version": "3.9.7"
  },
  "orig_nbformat": 4
 },
 "nbformat": 4,
 "nbformat_minor": 2
}

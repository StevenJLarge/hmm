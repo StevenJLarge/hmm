{
 "cells": [
  {
   "attachments": {},
   "cell_type": "markdown",
   "metadata": {},
   "source": [
    "# HMM Tutorial 2: Hidden Markov Models\n",
    "\n",
    "Now, we are ready to simulate the dynamics of a Hidden Markov Model. Here, we only have a alightly more complicated situation that in the previous notebook. Effectively, we still have the identical Markovian dynamics operating under the surface, but now there is an additional layer of randomness, which is encoded in the observation matrix $\\boldsymbol{B}$. This matrix has elements $B_{ij} = p(y_t | x_t)$ which is the probability of observing state $y_t$ given that the *true* hidden state is $x_t$.  We can model this dynamics"
   ]
  },
  {
   "cell_type": "code",
   "execution_count": null,
   "metadata": {},
   "outputs": [],
   "source": []
  }
 ],
 "metadata": {
  "language_info": {
   "name": "python"
  },
  "orig_nbformat": 4
 },
 "nbformat": 4,
 "nbformat_minor": 2
}

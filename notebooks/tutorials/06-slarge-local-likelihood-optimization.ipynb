{
 "cells": [
  {
   "cell_type": "markdown",
   "metadata": {},
   "source": [
    "# Local likelihood optimization\n",
    "\n",
    "In the previous notebook, we went through the calculation of the likelihood function for an HMM and explicitly minimized it. Specifically, we looked at a situation where the transition rate and emission probability matrices took the form\n",
    "\n",
    "$$ \\boldsymbol{A} = \\left[ \\begin{matrix} 1 - a & a \\\\ a & 1 - a \\end{matrix} \\right] $$\n",
    "\n",
    "and \n",
    "\n",
    "$$ \\boldsymbol{B} = \\left[ \\begin{matrix} 1 - b & b \\\\ b & 1 - b \\end{matrix} \\right] $$\n",
    "\n",
    "respectively, then we estimated the parameters $a$ and $b$ given an observed sequence of states.\n",
    "\n",
    "*A priori* we will not know what the hidden state sequence was (it is hidden, after all...) So, to deal with this we would need to calculate the likelihood over all possible hidden state sequences, and all parameter values in the $A$ and $B$ matrices. This problem will quickly become very high dimensional, and as a result we must resort to other methods. Specifically, we can perform a local optimization routine on the parameter space, for a given initial starting point.\n",
    "\n",
    "In this notebook, we will first build a custom gradient descent algorithm to track the evolution of the parameter vector over iterations, and then use these results to validate a more efficient implementation using a `scipy.optimize.minimize` function to do the heavy lifting.\n",
    "\n",
    "#### Gradient descent\n",
    "\n",
    "Given that we are trying to minimize the likelihood function $\\mathcal{L}(\\theta)$, for parameter vector $\\theta$, the general form of a gradient descent algorithm will update the value of the parameter vector $\\theta_i \\to \\theta_{i+1}$ as\n",
    "\n",
    "$$ \\theta_{i+1} = \\theta_i - \\eta \\nabla \\mathcal{L}(\\theta_i) $$\n",
    "\n",
    "where $\\nabla$ is the gradient of the likelihood function and $\\eta$ is the *learning rate* which determines how large the update steps are. For an initial implementation, we take the learning rate to be constant, but there are many schemes that optimize this parameter by dynamically updating it so that the solution converges towards a local minimum more rapidly.  In order to calculate the derivative of the likelhood function, we will use a simple first-order difference in the likelihood function, approximating each component of the gradient with a simple first-difference\n",
    "\n",
    "$$ \\partial_{\\theta^k}\\mathcal{L}(\\theta_i) \\approx \\frac{1}{2 \\Delta\\theta^{k}} \\left[ \\mathcal{L}(\\theta + \\Delta\\theta^{k}) - \\mathcal{L}(\\theta - \\Delta\\theta^{k}) \\right] $$\n",
    "\n",
    "where $\\Delta\\theta^k$ is chosen to be small.  This procedure requires two evaluations of the likelihood function per dimension of the parameter vector for each iterative update to $\\theta$.\n"
   ]
  },
  {
   "cell_type": "code",
   "execution_count": 19,
   "metadata": {},
   "outputs": [],
   "source": [
    "# First, import the necessary packages and generate a the dynamics of an example HMM\n",
    "import os\n",
    "import numpy as np\n",
    "from typing import Iterable, Tuple, Optional\n",
    "import matplotlib.pyplot as plt\n",
    "import seaborn as sns\n",
    "sns.set(style='darkgrid', palette=\"hls\")\n",
    "\n",
    "# Import HMM libraries\n",
    "from hidden import dynamics\n",
    "from hidden import infer\n",
    "from pathlib import Path\n",
    "\n",
    "# here we assume the dynamics are symmetric\n",
    "a = 0.3\n",
    "b = 0.1\n",
    "\n",
    "A = np.array([[1 - a, a], [a, 1 - a]])\n",
    "B = np.array([[1 - b, b], [b, 1 - b]])\n",
    "\n",
    "hmm = dynamics.HMM(2, 2)"
   ]
  },
  {
   "cell_type": "code",
   "execution_count": 20,
   "metadata": {},
   "outputs": [],
   "source": [
    "# Initialize the Dynamics and Observation matrices\n",
    "hmm.initialize_dynamics(A, B)\n",
    "\n",
    "# Now run the dynamics for 500 steps\n",
    "hmm.run_dynamics(1000)\n",
    "state_ts = hmm.get_state_ts()\n",
    "obs_ts = hmm.get_obs_ts()"
   ]
  },
  {
   "cell_type": "code",
   "execution_count": 12,
   "metadata": {},
   "outputs": [],
   "source": [
    "def calc_likelihood(\n",
    "    B: np.ndarray,\n",
    "    bayes_pred: Iterable[np.ndarray],\n",
    "    obs_ts: Iterable[int]\n",
    ") -> float:\n",
    "    likelihood = 0\n",
    "    for bayes, obs in zip(bayes_pred, obs_ts):\n",
    "        inner =  bayes @ B[:, obs]\n",
    "        likelihood -= np.log(inner)\n",
    "    return likelihood"
   ]
  },
  {
   "cell_type": "code",
   "execution_count": 21,
   "metadata": {},
   "outputs": [],
   "source": [
    "\n",
    "def _build_hmm_parameters(theta: np.ndarray) -> Tuple:\n",
    "    # Based on convention of what the parameters are, this function will return\n",
    "    # the A and B matrices based on the input parameter vector\n",
    "    # Here it is assumed that theta = (a, b)\n",
    "    A = theta[0] * np.ones((2, 2))\n",
    "    B = theta[1] * np.ones((2, 2))\n",
    "\n",
    "    A[0, 0], A[1, 1] = 1 - theta[0], 1 - theta[0]\n",
    "    B[0, 0], B[1, 1] = 1 - theta[1], 1 - theta[1]\n",
    "\n",
    "    return A, B\n",
    "\n",
    "\n",
    "def _get_likelihood_deriv(\n",
    "    curr_theta: np.ndarray,\n",
    "    obs_ts: np.ndarray,\n",
    "    est: infer.MarkovInfer,\n",
    "    delta: Optional[float] = 0.01\n",
    ") -> np.ndarray:\n",
    "\n",
    "    grad = np.zeros_like(curr_theta)\n",
    "\n",
    "    for i in range(len(curr_theta)):\n",
    "        plus_theta = np.copy(curr_theta)\n",
    "        minus_theta = np.copy(curr_theta)\n",
    "\n",
    "        plus_theta[i] += delta\n",
    "        minus_theta[i] -= delta\n",
    "\n",
    "        A_plus, B_plus = _build_hmm_parameters(plus_theta)\n",
    "        A_minus, B_minus = _build_hmm_parameters(minus_theta)\n",
    "\n",
    "        est.forward_algo(obs_ts, A_plus, B_plus, prediction_tracker=True)\n",
    "        bayes_plus = np.copy(est.predictions)\n",
    "        est.forward_algo(obs_ts, A_minus, B_minus, prediction_tracker=True)\n",
    "        bayes_minus = np.copy(est.predictions)\n",
    "\n",
    "        likelihood_plus = calc_likelihood(B_plus, bayes_plus, obs_ts)\n",
    "        likelihood_minus = calc_likelihood(B_minus, bayes_minus, obs_ts)\n",
    "\n",
    "        grad[i] = (likelihood_plus - likelihood_minus) / (2 * delta)\n",
    "\n",
    "    return grad\n",
    "\n",
    "def grad_descent(\n",
    "    obs_ts: Iterable[int],\n",
    "    init_theta: np.ndarray,\n",
    "    learning_rate: Optional[float] = 0.0002,\n",
    "    max_iterations: Optional[int] = 500,\n",
    "    tolerance: Optional[float] = 0.00000001,\n",
    "    output: Optional[bool] = False\n",
    ") -> np.ndarray:\n",
    "\n",
    "    curr_theta = np.copy(init_theta)\n",
    "    est = infer.MarkovInfer(2, 2)\n",
    "\n",
    "    # Calculate likelihood of initial guess\n",
    "    A, B = _build_hmm_parameters(init_theta)\n",
    "    est.forward_algo(obs_ts, A, B, prediction_tracker=True)\n",
    "    lkly = calc_likelihood(B, est.predictions, obs_ts)\n",
    "\n",
    "    # Initialize tracking arrays\n",
    "    likelihood_tracker = [lkly]\n",
    "    param_tracker = [init_theta]\n",
    "\n",
    "    # Apply grad descent interations\n",
    "    for i in range(max_iterations):\n",
    "        if 1%50 == 0:\n",
    "            print(f\"-- Iteration: {i} (of {max_iterations}) --\")\n",
    "\n",
    "        grad = _get_likelihood_deriv(curr_theta, obs_ts, est)\n",
    "        if output: print(f\"grad --> {grad}\")\n",
    "        curr_theta -= learning_rate * grad\n",
    "\n",
    "        A, B = _build_hmm_parameters(curr_theta)\n",
    "        est.forward_algo(obs_ts, A, B, prediction_tracker=True)\n",
    "        lkly_new = calc_likelihood(B, est.predictions, obs_ts)\n",
    "\n",
    "        likelihood_tracker.append(lkly_new)\n",
    "        param_tracker.append(np.copy(curr_theta))\n",
    "\n",
    "        # If changes in likelihood are lower than tolerance break the loop\n",
    "        #if lkly_new - lkly < tolerance:\n",
    "        #    print(\"--- Tolerance level hit, exiting grad-descent ---\")\n",
    "        #    break\n",
    "        # If not, update the current likelihood value and repeat\n",
    "        #else:\n",
    "        #    lkly = lkly_new\n",
    "        lkly = lkly_new\n",
    "\n",
    "    return likelihood_tracker, param_tracker\n"
   ]
  },
  {
   "cell_type": "code",
   "execution_count": 28,
   "metadata": {},
   "outputs": [
    {
     "name": "stdout",
     "output_type": "stream",
     "text": [
      "Working on param set 0 of 4...\n",
      "Working on param set 1 of 4...\n",
      "Working on param set 2 of 4...\n",
      "Working on param set 3 of 4...\n"
     ]
    }
   ],
   "source": [
    "# So, now we can run this for an initial guess\n",
    "\n",
    "# ACTUAL PARAMETERS\n",
    "# a = 0.3\n",
    "# b = 0.1\n",
    "param_init_set = [\n",
    "    [0.45, 0.02],\n",
    "    [0.4, 0.2],\n",
    "    [0.2, 0.05],\n",
    "    [0.15, 0.25]\n",
    "]\n",
    "\n",
    "l_res, theta_res = [], []\n",
    "\n",
    "for i, param_init in enumerate(param_init_set):\n",
    "    print(f\"Working on param set {i + 1} of {len(param_init_set)}...\")\n",
    "    l_tracker, theta_tracker = grad_descent(obs_ts, param_init)\n",
    "    l_res.append(l_tracker)\n",
    "    theta_res.append(theta_tracker)\n"
   ]
  },
  {
   "cell_type": "code",
   "execution_count": 31,
   "metadata": {},
   "outputs": [
    {
     "data": {
      "image/png": "[encoded data removed]",
      "text/plain": [
       "<Figure size 432x468 with 3 Axes>"
      ]
     },
     "metadata": {},
     "output_type": "display_data"
    }
   ],
   "source": [
    "fig, ax = plt.subplots(3, 1, figsize=(6, 6.5), sharex=True)\n",
    "Pal = sns.color_palette('hls', len(l_res))\n",
    "for i, (l, t) in enumerate(zip(l_res, theta_res)):\n",
    "    ax[0].plot(l, color=Pal[i], label=f\"Condition {i}\")\n",
    "    ax[1].plot([param[0] for param in t], color=Pal[i])\n",
    "    ax[2].plot([param[1] for param in t], color=Pal[i])\n",
    "\n",
    "ax[0].set_ylabel(r\"Likelihood\", fontsize=15)\n",
    "ax[1].set_ylabel(r\"$\\theta_{1}$ ($a$)\", fontsize=15)\n",
    "ax[2].set_ylabel(r\"$\\theta_{2}$ ($b$)\", fontsize=15)\n",
    "ax[2].set_xlabel(r\"Iteration\", fontsize=15)\n",
    "\n",
    "ax[0].legend(fontsize=12, frameon=False)\n",
    "\n",
    "plt.tight_layout()\n"
   ]
  },
  {
   "cell_type": "code",
   "execution_count": 43,
   "metadata": {},
   "outputs": [],
   "source": [
    "# We can also, like in the previous notebook, detemine the likelihood function over the eitnre parameter space.\n",
    "def generate_likelihood_surface(\n",
    "    obs_ts: Iterable[int], sample_dim: Optional[int] = 10\n",
    "):\n",
    "    est = infer.MarkovInfer(2, 2)\n",
    "\n",
    "    a_vals = np.linspace(0.01, 0.99, sample_dim)\n",
    "    b_vals = np.linspace(0.01, 0.99, sample_dim)\n",
    "\n",
    "    likelihood = np.zeros((sample_dim, sample_dim))\n",
    "\n",
    "    for i, a in enumerate(a_vals):\n",
    "        A_sample = np.array([[1 - a, a], [a, 1 - a]])\n",
    "        for j, b in enumerate(b_vals):\n",
    "            B_sample = np.array([[1 - b, b], [b, 1 - b]])\n",
    "\n",
    "            est.forward_algo(obs_ts, A_sample, B_sample, prediction_tracker=True)\n",
    "            try:\n",
    "                l = calc_likelihood(B_sample, est.predictions, obs_ts)\n",
    "            except RuntimeWarning:\n",
    "                l = None\n",
    "            likelihood[i, j] = l\n",
    "\n",
    "    return likelihood, a_vals, b_vals\n",
    "\n",
    "# NOTE This cell takes a long time ~ 2.5 mins to run\n",
    "likelihood_mat, aVals_arr, bVals_arr = generate_likelihood_surface(obs_ts, sample_dim=100)"
   ]
  },
  {
   "cell_type": "code",
   "execution_count": 45,
   "metadata": {},
   "outputs": [
    {
     "data": {
      "text/html": [
       "<div>\n",
       "<style scoped>\n",
       "    .dataframe tbody tr th:only-of-type {\n",
       "        vertical-align: middle;\n",
       "    }\n",
       "\n",
       "    .dataframe tbody tr th {\n",
       "        vertical-align: top;\n",
       "    }\n",
       "\n",
       "    .dataframe thead th {\n",
       "        text-align: right;\n",
       "    }\n",
       "</style>\n",
       "<table border=\"1\" class=\"dataframe\">\n",
       "  <thead>\n",
       "    <tr style=\"text-align: right;\">\n",
       "      <th></th>\n",
       "      <th>0.010000</th>\n",
       "      <th>0.019899</th>\n",
       "      <th>0.029798</th>\n",
       "      <th>0.039697</th>\n",
       "      <th>0.049596</th>\n",
       "      <th>0.059495</th>\n",
       "      <th>0.069394</th>\n",
       "      <th>0.079293</th>\n",
       "      <th>0.089192</th>\n",
       "      <th>0.099091</th>\n",
       "      <th>...</th>\n",
       "      <th>0.900909</th>\n",
       "      <th>0.910808</th>\n",
       "      <th>0.920707</th>\n",
       "      <th>0.930606</th>\n",
       "      <th>0.940505</th>\n",
       "      <th>0.950404</th>\n",
       "      <th>0.960303</th>\n",
       "      <th>0.970202</th>\n",
       "      <th>0.980101</th>\n",
       "      <th>0.990000</th>\n",
       "    </tr>\n",
       "  </thead>\n",
       "  <tbody>\n",
       "    <tr>\n",
       "      <th>0.010000</th>\n",
       "      <td>1314.661209</td>\n",
       "      <td>1201.296724</td>\n",
       "      <td>1128.864571</td>\n",
       "      <td>1075.208440</td>\n",
       "      <td>1032.388835</td>\n",
       "      <td>996.778153</td>\n",
       "      <td>966.405997</td>\n",
       "      <td>940.038766</td>\n",
       "      <td>916.829739</td>\n",
       "      <td>896.167390</td>\n",
       "      <td>...</td>\n",
       "      <td>896.167390</td>\n",
       "      <td>916.829739</td>\n",
       "      <td>940.038766</td>\n",
       "      <td>966.405997</td>\n",
       "      <td>996.778153</td>\n",
       "      <td>1032.388835</td>\n",
       "      <td>1075.208440</td>\n",
       "      <td>1128.864571</td>\n",
       "      <td>1201.296724</td>\n",
       "      <td>1314.661209</td>\n",
       "    </tr>\n",
       "    <tr>\n",
       "      <th>0.019899</th>\n",
       "      <td>1219.312156</td>\n",
       "      <td>1125.019645</td>\n",
       "      <td>1063.459751</td>\n",
       "      <td>1017.276538</td>\n",
       "      <td>980.324623</td>\n",
       "      <td>949.551667</td>\n",
       "      <td>923.227077</td>\n",
       "      <td>900.289120</td>\n",
       "      <td>880.040688</td>\n",
       "      <td>861.994083</td>\n",
       "      <td>...</td>\n",
       "      <td>861.994083</td>\n",
       "      <td>880.040688</td>\n",
       "      <td>900.289120</td>\n",
       "      <td>923.227077</td>\n",
       "      <td>949.551667</td>\n",
       "      <td>980.324623</td>\n",
       "      <td>1017.276538</td>\n",
       "      <td>1063.459751</td>\n",
       "      <td>1125.019645</td>\n",
       "      <td>1219.312156</td>\n",
       "    </tr>\n",
       "    <tr>\n",
       "      <th>0.029798</th>\n",
       "      <td>1157.071062</td>\n",
       "      <td>1073.367003</td>\n",
       "      <td>1019.052319</td>\n",
       "      <td>978.034779</td>\n",
       "      <td>945.026121</td>\n",
       "      <td>917.468965</td>\n",
       "      <td>893.883569</td>\n",
       "      <td>873.331809</td>\n",
       "      <td>855.184998</td>\n",
       "      <td>839.003388</td>\n",
       "      <td>...</td>\n",
       "      <td>839.003388</td>\n",
       "      <td>855.184998</td>\n",
       "      <td>873.331809</td>\n",
       "      <td>893.883569</td>\n",
       "      <td>917.468965</td>\n",
       "      <td>945.026121</td>\n",
       "      <td>978.034779</td>\n",
       "      <td>1019.052319</td>\n",
       "      <td>1073.367003</td>\n",
       "      <td>1157.071062</td>\n",
       "    </tr>\n",
       "    <tr>\n",
       "      <th>0.039697</th>\n",
       "      <td>1110.099671</td>\n",
       "      <td>1033.807858</td>\n",
       "      <td>984.642023</td>\n",
       "      <td>947.545259</td>\n",
       "      <td>917.616080</td>\n",
       "      <td>892.568790</td>\n",
       "      <td>871.104948</td>\n",
       "      <td>852.398684</td>\n",
       "      <td>835.888343</td>\n",
       "      <td>821.175022</td>\n",
       "      <td>...</td>\n",
       "      <td>821.175022</td>\n",
       "      <td>835.888343</td>\n",
       "      <td>852.398684</td>\n",
       "      <td>871.104948</td>\n",
       "      <td>892.568790</td>\n",
       "      <td>917.616080</td>\n",
       "      <td>947.545259</td>\n",
       "      <td>984.642023</td>\n",
       "      <td>1033.807858</td>\n",
       "      <td>1110.099671</td>\n",
       "    </tr>\n",
       "    <tr>\n",
       "      <th>0.049596</th>\n",
       "      <td>1071.683158</td>\n",
       "      <td>1001.579651</td>\n",
       "      <td>956.407210</td>\n",
       "      <td>922.410831</td>\n",
       "      <td>894.987520</td>\n",
       "      <td>872.015384</td>\n",
       "      <td>852.312292</td>\n",
       "      <td>835.134936</td>\n",
       "      <td>819.978170</td>\n",
       "      <td>806.480821</td>\n",
       "      <td>...</td>\n",
       "      <td>806.480821</td>\n",
       "      <td>819.978170</td>\n",
       "      <td>835.134936</td>\n",
       "      <td>852.312292</td>\n",
       "      <td>872.015384</td>\n",
       "      <td>894.987520</td>\n",
       "      <td>922.410831</td>\n",
       "      <td>956.407210</td>\n",
       "      <td>1001.579651</td>\n",
       "      <td>1071.683158</td>\n",
       "    </tr>\n",
       "  </tbody>\n",
       "</table>\n",
       "<p>5 rows × 100 columns</p>\n",
       "</div>"
      ],
      "text/plain": [
       "             0.010000     0.019899     0.029798     0.039697     0.049596  \\\n",
       "0.010000  1314.661209  1201.296724  1128.864571  1075.208440  1032.388835   \n",
       "0.019899  1219.312156  1125.019645  1063.459751  1017.276538   980.324623   \n",
       "0.029798  1157.071062  1073.367003  1019.052319   978.034779   945.026121   \n",
       "0.039697  1110.099671  1033.807858   984.642023   947.545259   917.616080   \n",
       "0.049596  1071.683158  1001.579651   956.407210   922.410831   894.987520   \n",
       "\n",
       "            0.059495    0.069394    0.079293    0.089192    0.099091  ...  \\\n",
       "0.010000  996.778153  966.405997  940.038766  916.829739  896.167390  ...   \n",
       "0.019899  949.551667  923.227077  900.289120  880.040688  861.994083  ...   \n",
       "0.029798  917.468965  893.883569  873.331809  855.184998  839.003388  ...   \n",
       "0.039697  892.568790  871.104948  852.398684  835.888343  821.175022  ...   \n",
       "0.049596  872.015384  852.312292  835.134936  819.978170  806.480821  ...   \n",
       "\n",
       "            0.900909    0.910808    0.920707    0.930606    0.940505  \\\n",
       "0.010000  896.167390  916.829739  940.038766  966.405997  996.778153   \n",
       "0.019899  861.994083  880.040688  900.289120  923.227077  949.551667   \n",
       "0.029798  839.003388  855.184998  873.331809  893.883569  917.468965   \n",
       "0.039697  821.175022  835.888343  852.398684  871.104948  892.568790   \n",
       "0.049596  806.480821  819.978170  835.134936  852.312292  872.015384   \n",
       "\n",
       "             0.950404     0.960303     0.970202     0.980101     0.990000  \n",
       "0.010000  1032.388835  1075.208440  1128.864571  1201.296724  1314.661209  \n",
       "0.019899   980.324623  1017.276538  1063.459751  1125.019645  1219.312156  \n",
       "0.029798   945.026121   978.034779  1019.052319  1073.367003  1157.071062  \n",
       "0.039697   917.616080   947.545259   984.642023  1033.807858  1110.099671  \n",
       "0.049596   894.987520   922.410831   956.407210  1001.579651  1071.683158  \n",
       "\n",
       "[5 rows x 100 columns]"
      ]
     },
     "execution_count": 45,
     "metadata": {},
     "output_type": "execute_result"
    }
   ],
   "source": [
    "# Format likelihood matrix into dataframe so that index coordinates are correctly mapped\n",
    "import pandas as pd\n",
    "df_lkly = pd.DataFrame(likelihood_mat)\n",
    "df_lkly.columns = bVals_arr\n",
    "df_lkly.index = aVals_arr\n",
    "df_lkly.head()"
   ]
  },
  {
   "cell_type": "code",
   "execution_count": 67,
   "metadata": {},
   "outputs": [
    {
     "data": {
      "text/plain": [
       "Text(30.5, 0.5, 'b')"
      ]
     },
     "execution_count": 67,
     "metadata": {},
     "output_type": "execute_result"
    },
    {
     "data": {
      "image/png": "[encoded data removed]",
      "text/plain": [
       "<Figure size 432x432 with 2 Axes>"
      ]
     },
     "metadata": {},
     "output_type": "display_data"
    }
   ],
   "source": [
    "fig, ax = plt.subplots(1, 1, figsize=(6, 6))\n",
    "\n",
    "#Pal = sns.color_palette(\"Spectral\", len(theta_tracker))\n",
    "Pal = sns.color_palette('RdGy', 4)\n",
    "\n",
    "alpha_map = np.linspace(0.2, 0.8, len(l_res[0]))\n",
    "\n",
    "sns.heatmap(likelihood_mat.T, cmap='coolwarm', ax=ax, vmax=800)\n",
    "\n",
    "for i, (l, t) in enumerate(zip(l_res, theta_res)):\n",
    "    color =  Pal[i]\n",
    "    for j, theta in enumerate(t):\n",
    "        ax.plot([theta[0] * 100], [theta[1] * 100], 'o', markersize=3.5, color=Pal[3-i], alpha=0.3)\n",
    "    ax.plot([theta[0] * 100], [theta[1] * 100], 'o', markersize=5.5, color=Pal[3-i], label=f\"Condition {i}\")\n",
    "\n",
    "ax.plot(a * 100, b * 100, 'o', color='k', markersize=7, label=\"True parameters\")\n",
    "ax.legend(fontsize=15)\n",
    "\n",
    "idx_arr = [0, 10, 20, 30, 40, 50, 60, 70, 80, 90, 99]\n",
    "\n",
    "ax.set_xticks(idx_arr)\n",
    "ax.set_yticks(idx_arr)\n",
    "\n",
    "ax.set_xticklabels(np.round(aVals_arr[idx_arr], 1))\n",
    "ax.set_yticklabels(np.round(aVals_arr[idx_arr], 1))\n",
    "\n",
    "ax.set_xlabel(r\"a\", fontsize=15)\n",
    "ax.set_ylabel(r\"b\", fontsize=15)"
   ]
  },
  {
   "cell_type": "markdown",
   "metadata": {},
   "source": [
    "So, here we can see that, the gradient descent algorithm is, in fact, able to locate the function minimum. In each case, the solution iteratesdown to the basin moving in the general $b = ma + c$ direction, and then moves along the bottom of that basin until convergence. Furthermore, the solutions all find the same final parameter vector, which is promising. However, this would not be the case when we initialized a parameter vector closer to the symmetric basin on the otehr side of $b=1/2$, or near $a=1, b=1/2$.  \n",
    "\n",
    "Finally, one point of concern to watch is the non-monotonic behaviour of convergence in each solution. Ultimately, this is because the derivative of the likelihood near the boundaries of the domain gets very large, so even for small learning rates, this could lead to out-of-bounds behaviours, or unexpected numerical results in cases where we dont pay close attention. To remedy this, we could, for instance, introduce an adaptive learning rate that will be smaller when close to the boundaries, or, in a more extremem case, regularize the derivative terms so that we only really care about the direction of the update, and not its magnitude. \n",
    "\n",
    "Next, we turn to the infrastructure of `scipy.optimize` to let a more robust optimization algorithm(s) take on the heavy lifting, so that we can be more sure of its robustness, and test a arger variety of optimization techniques."
   ]
  },
  {
   "cell_type": "code",
   "execution_count": 80,
   "metadata": {},
   "outputs": [],
   "source": [
    "# As an alternate approach, we can use a built-in optimizer from scipy\n",
    "import scipy.optimize\n",
    "\n",
    "# however, to do that efficiently we need to redefine the objective function\n",
    "def calc_likelihood_optimizer(\n",
    "    param_arr: Iterable, obs_ts: Iterable, est: infer.MarkovInfer\n",
    ") -> float:\n",
    "    A, B = _build_hmm_parameters(param_arr)\n",
    "    est.forward_algo(obs_ts, A, B, prediction_tracker=True)\n",
    "\n",
    "    likelihood = 0\n",
    "    for bayes, obs in zip(est.predictions, obs_ts):\n",
    "        inner = bayes @ B[:, obs]\n",
    "        likelihood -= np.log(inner)\n",
    "    return likelihood\n",
    "\n",
    "est = infer.MarkovInfer(2, 2)\n",
    "# Initial parameters for optimization\n",
    "param_init = [0.4, 0.4]\n",
    "A, B = _build_hmm_parameters(param_init)\n",
    "est.forward_algo(obs_ts, A, B, prediction_tracker=True)\n",
    "\n",
    "bnds = ([0.001, 0.99], [0.001 ,0.99])"
   ]
  },
  {
   "cell_type": "code",
   "execution_count": 90,
   "metadata": {},
   "outputs": [
    {
     "name": "stdout",
     "output_type": "stream",
     "text": [
      "439 ms ± 4.46 ms per loop (mean ± std. dev. of 7 runs, 1 loop each)\n"
     ]
    }
   ],
   "source": [
    "\n",
    "\n",
    "# Sequential Least-Squares Progarmming (SLSQP) optimizer (that allows bounds)\n",
    "def lkly_opt(method: str):\n",
    "    return scipy.optimize.minimize(\n",
    "        calc_likelihood_optimizer,\n",
    "        param_init,\n",
    "        args=(obs_ts, est),\n",
    "        method=method,\n",
    "        bounds=bnds\n",
    "    )\n",
    "\n",
    "%timeit lkly_opt(\"SLSQP\")\n"
   ]
  },
  {
   "cell_type": "code",
   "execution_count": 91,
   "metadata": {},
   "outputs": [
    {
     "name": "stdout",
     "output_type": "stream",
     "text": [
      "669 ms ± 6.68 ms per loop (mean ± std. dev. of 7 runs, 1 loop each)\n"
     ]
    }
   ],
   "source": [
    "\n",
    "# Nelder-Mead\n",
    "%timeit lkly_opt('Nelder-Mead')"
   ]
  },
  {
   "cell_type": "code",
   "execution_count": 96,
   "metadata": {},
   "outputs": [
    {
     "name": "stdout",
     "output_type": "stream",
     "text": [
      "468 ms ± 1.22 ms per loop (mean ± std. dev. of 7 runs, 1 loop each)\n"
     ]
    }
   ],
   "source": [
    "%timeit lkly_opt('L-BFGS-B')"
   ]
  },
  {
   "cell_type": "code",
   "execution_count": 97,
   "metadata": {},
   "outputs": [
    {
     "name": "stdout",
     "output_type": "stream",
     "text": [
      "987 ms ± 12.2 ms per loop (mean ± std. dev. of 7 runs, 1 loop each)\n"
     ]
    }
   ],
   "source": [
    "%timeit lkly_opt('TNC')"
   ]
  },
  {
   "cell_type": "code",
   "execution_count": 103,
   "metadata": {},
   "outputs": [
    {
     "name": "stdout",
     "output_type": "stream",
     "text": [
      "473 ms ± 13.4 ms per loop (mean ± std. dev. of 7 runs, 1 loop each)\n"
     ]
    }
   ],
   "source": [
    "# If no method is selected, the algo automatically selects one of SLSQP,\n",
    "# L-BFGS-B, or BFGS, depending on whether bounds or constraints are present\n",
    "%timeit lkly_opt(None)"
   ]
  },
  {
   "cell_type": "code",
   "execution_count": 86,
   "metadata": {},
   "outputs": [
    {
     "data": {
      "text/plain": [
       "     fun: 678.9652739793319\n",
       "     jac: array([-6.10351562e-05,  4.73022461e-04])\n",
       " message: 'Optimization terminated successfully'\n",
       "    nfev: 45\n",
       "     nit: 13\n",
       "    njev: 13\n",
       "  status: 0\n",
       " success: True\n",
       "       x: array([0.37243622, 0.09501441])"
      ]
     },
     "execution_count": 86,
     "metadata": {},
     "output_type": "execute_result"
    }
   ],
   "source": [
    "res_slsqp = lkly_opt('SLSQP')\n",
    "res_slsqp"
   ]
  },
  {
   "cell_type": "code",
   "execution_count": 104,
   "metadata": {},
   "outputs": [
    {
     "data": {
      "text/plain": [
       " final_simplex: (array([[0.37244296, 0.09500842],\n",
       "       [0.37247327, 0.09495839],\n",
       "       [0.37246229, 0.09495538]]), array([678.96527399, 678.96527407, 678.96527414]))\n",
       "           fun: 678.965273986918\n",
       "       message: 'Optimization terminated successfully.'\n",
       "          nfev: 69\n",
       "           nit: 35\n",
       "        status: 0\n",
       "       success: True\n",
       "             x: array([0.37244296, 0.09500842])"
      ]
     },
     "execution_count": 104,
     "metadata": {},
     "output_type": "execute_result"
    }
   ],
   "source": [
    "res_nelder = lkly_opt('Nelder-Mead')\n",
    "res_nelder"
   ]
  },
  {
   "cell_type": "code",
   "execution_count": 106,
   "metadata": {},
   "outputs": [
    {
     "data": {
      "text/plain": [
       "      fun: 678.9652739818807\n",
       " hess_inv: <2x2 LbfgsInvHessProduct with dtype=float64>\n",
       "      jac: array([-0.00378577, -0.0020691 ])\n",
       "  message: 'CONVERGENCE: REL_REDUCTION_OF_F_<=_FACTR*EPSMCH'\n",
       "     nfev: 48\n",
       "      nit: 10\n",
       "     njev: 16\n",
       "   status: 0\n",
       "  success: True\n",
       "        x: array([0.37243669, 0.09501013])"
      ]
     },
     "execution_count": 106,
     "metadata": {},
     "output_type": "execute_result"
    }
   ],
   "source": [
    "res_bfgs = lkly_opt('L-BFGS-B')\n",
    "res_bfgs"
   ]
  },
  {
   "cell_type": "code",
   "execution_count": 88,
   "metadata": {},
   "outputs": [
    {
     "name": "stdout",
     "output_type": "stream",
     "text": [
      "3.53 s ± 20.7 ms per loop (mean ± std. dev. of 7 runs, 1 loop each)\n"
     ]
    }
   ],
   "source": [
    "# Finally, we can also look at global optimizer: Simplical Homology for Global Optimization (SHGO)\n",
    "# To find the set of all local minima\n",
    "\n",
    "def opt_shgo():\n",
    "    return scipy.optimize.shgo(\n",
    "        calc_likelihood_optimizer,\n",
    "        bounds=bnds,\n",
    "        args=(obs_ts, est),\n",
    "        sampling_method='sobol'\n",
    "    )\n",
    "\n",
    "%timeit opt_shgo()\n"
   ]
  },
  {
   "cell_type": "code",
   "execution_count": 89,
   "metadata": {},
   "outputs": [
    {
     "data": {
      "text/plain": [
       "     fun: 678.965273977822\n",
       "    funl: array([678.96527398, 678.96527398, 678.96527398, 678.96527398,\n",
       "       678.96527398])\n",
       " message: 'Optimization terminated successfully.'\n",
       "    nfev: 366\n",
       "     nit: 2\n",
       "   nlfev: 238\n",
       "   nlhev: 0\n",
       "   nljev: 56\n",
       " success: True\n",
       "       x: array([0.37244025, 0.90499237])\n",
       "      xl: array([[0.37244025, 0.90499237],\n",
       "       [0.3724403 , 0.90499247],\n",
       "       [0.37244036, 0.09500745],\n",
       "       [0.37244031, 0.09500746],\n",
       "       [0.37244037, 0.9049926 ]])"
      ]
     },
     "execution_count": 89,
     "metadata": {},
     "output_type": "execute_result"
    }
   ],
   "source": [
    "res_shgo = opt_shgo()\n",
    "res_shgo"
   ]
  },
  {
   "cell_type": "markdown",
   "metadata": {},
   "source": [
    "Here we can see that there are two distinct minima (local) found by the global optimizer at a = 0.37 and b = 0.90, 0.10, which are degenerate global minima. In the earlier stages, when we start closest to the (0.37, 0.10) minima. Further, we can look at the run-times for a few algorithms, and find that (of those tested), the SLSQP algorithm has the fastest runtime, and the 'L-BFGS-B' has a comparable runtime. In any case, however, the runtime for the built-in optimizers is significantly improved upon the naive implementation of gradient descent.\n",
    "\n"
   ]
  },
  {
   "cell_type": "markdown",
   "metadata": {},
   "source": []
  }
 ],
 "metadata": {
  "kernelspec": {
   "display_name": "Python 3.9.7 ('hmm')",
   "language": "python",
   "name": "python3"
  },
  "language_info": {
   "codemirror_mode": {
    "name": "ipython",
    "version": 3
   },
   "file_extension": ".py",
   "mimetype": "text/x-python",
   "name": "python",
   "nbconvert_exporter": "python",
   "pygments_lexer": "ipython3",
   "version": "3.9.7"
  },
  "orig_nbformat": 4,
  "vscode": {
   "interpreter": {
    "hash": "4f9b37dac17d06b8fa0c89267880b723d82f0595bc5fc55c9df0f440e0daf16f"
   }
  }
 },
 "nbformat": 4,
 "nbformat_minor": 2
}

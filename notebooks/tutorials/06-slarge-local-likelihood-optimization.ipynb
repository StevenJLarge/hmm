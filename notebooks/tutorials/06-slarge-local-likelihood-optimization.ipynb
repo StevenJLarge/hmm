{
 "cells": [
  {
   "attachments": {},
   "cell_type": "markdown",
   "metadata": {},
   "source": [
    "# Local likelihood optimization\n",
    "\n",
    "In the previous notebook, we went through the calculation of the likelihood function for an HMM and explicitly minimized it. Specifically, we looked at a situation where the transition rate and emission probability matrices took the form\n",
    "\n",
    "$$ \\boldsymbol{A} = \\left[ \\begin{matrix} 1 - a & a \\\\ a & 1 - a \\end{matrix} \\right] $$\n",
    "\n",
    "and \n",
    "\n",
    "$$ \\boldsymbol{B} = \\left[ \\begin{matrix} 1 - b & b \\\\ b & 1 - b \\end{matrix} \\right] $$\n",
    "\n",
    "respectively, then we estimated the parameters $a$ and $b$ given an observed sequence of states.\n",
    "\n",
    "*A priori* we will not know what the hidden state sequence was (it is hidden, after all...) So, to deal with this we would need to calculate the likelihood over all possible hidden state sequences, and all parameter values in the $A$ and $B$ matrices. This problem will quickly become very high dimensional, and as a result we must resort to other methods. Specifically, we can perform a local optimization routine on the parameter space, for a given initial starting point.\n",
    "\n",
    "In this notebook, we will first build a custom gradient descent algorithm to track the evolution of the parameter vector over iterations, and then use these results to validate a more efficient implementation using a `scipy.optimize.minimize` function to do the heavy lifting.\n",
    "\n",
    "#### Gradient descent\n",
    "\n",
    "Given that we are trying to minimize the likelihood function $\\mathcal{L}(\\theta)$, for parameter vector $\\theta$, the general form of a gradient descent algorithm will update the value of the parameter vector $\\theta_i \\to \\theta_{i+1}$ as\n",
    "\n",
    "$$ \\theta_{i+1} = \\theta_i - \\eta \\nabla \\mathcal{L}(\\theta_i) $$\n",
    "\n",
    "where $\\nabla$ is the gradient of the likelihood function and $\\eta$ is the *learning rate* which determines how large the update steps are. For an initial implementation, we take the learning rate to be constant, but there are many schemes that optimize this parameter by dynamically updating it so that the solution converges towards a local minimum more rapidly.  In order to calculate the derivative of the likelhood function, we will use a simple first-order difference in the likelihood function, approximating each component of the gradient with a simple first-difference\n",
    "\n",
    "$$ \\partial_{\\theta^k}\\mathcal{L}(\\theta_i) \\approx \\frac{1}{2 \\Delta\\theta^{k}} \\left[ \\mathcal{L}(\\theta + \\Delta\\theta^{k}) - \\mathcal{L}(\\theta - \\Delta\\theta^{k}) \\right] $$\n",
    "\n",
    "where $\\Delta\\theta^k$ is chosen to be small.  This procedure requires two evaluations of the likelihood function per dimension of the parameter vector for each iterative update to $\\theta$.\n"
   ]
  },
  {
   "cell_type": "code",
   "execution_count": 1,
   "metadata": {},
   "outputs": [],
   "source": [
    "# First, import the necessary packages and generate a the dynamics of an example HMM\n",
    "import os\n",
    "import numpy as np\n",
    "from typing import Iterable, Tuple, Optional\n",
    "import matplotlib.pyplot as plt\n",
    "import seaborn as sns\n",
    "sns.set(style='darkgrid', palette=\"hls\")\n",
    "\n",
    "# Import HMM libraries\n",
    "from hidden import dynamics\n",
    "from hidden import infer\n",
    "from pathlib import Path\n",
    "\n",
    "# For plotting\n",
    "proj_dir = Path().resolve().parents[1]\n",
    "plot_dir = proj_dir / \"reports\" / \"figures\"\n",
    "# here we assume the dynamics are symmetric\n",
    "a = 0.3\n",
    "b = 0.1\n",
    "\n",
    "A = np.array([[1 - a, a], [a, 1 - a]])\n",
    "B = np.array([[1 - b, b], [b, 1 - b]])\n",
    "\n",
    "hmm = dynamics.HMM(2, 2)"
   ]
  },
  {
   "cell_type": "code",
   "execution_count": 2,
   "metadata": {},
   "outputs": [],
   "source": [
    "# Initialize the Dynamics and Observation matrices\n",
    "hmm.initialize_dynamics(A, B)\n",
    "\n",
    "# Now run the dynamics for 500 steps\n",
    "hmm.run_dynamics(1000)\n",
    "state_ts = hmm.get_state_ts()\n",
    "obs_ts = hmm.get_obs_ts()"
   ]
  },
  {
   "cell_type": "code",
   "execution_count": 3,
   "metadata": {},
   "outputs": [],
   "source": [
    "def calc_likelihood(\n",
    "    B: np.ndarray,\n",
    "    bayes_pred: Iterable[np.ndarray],\n",
    "    obs_ts: Iterable[int]\n",
    ") -> float:\n",
    "    likelihood = 0\n",
    "    for bayes, obs in zip(bayes_pred, obs_ts):\n",
    "        inner =  bayes @ B[:, obs]\n",
    "        likelihood -= np.log(inner)\n",
    "    return likelihood"
   ]
  },
  {
   "cell_type": "code",
   "execution_count": 4,
   "metadata": {},
   "outputs": [],
   "source": [
    "\n",
    "def _build_hmm_parameters(theta: np.ndarray) -> Tuple:\n",
    "    # Based on convention of what the parameters are, this function will return\n",
    "    # the A and B matrices based on the input parameter vector\n",
    "    # Here it is assumed that theta = (a, b)\n",
    "    A = theta[0] * np.ones((2, 2)) # A=alpha*[1,1] , theta[0] mane alpha value, theta[1] mane beta value, eta k multiply korbo\n",
    "    # 2by 2 identity matrix diye \n",
    "    B = theta[1] * np.ones((2, 2))\n",
    "\n",
    "    A[0, 0], A[1, 1] = 1 - theta[0], 1 - theta[0]  # A=[1-alpha, 1-alpha]\n",
    "    B[0, 0], B[1, 1] = 1 - theta[1], 1 - theta[1]  #B=[1-beta, 1-beta]\n",
    "\n",
    "    return A, B\n",
    "\n",
    "\n",
    "def _get_likelihood_deriv(\n",
    "    curr_theta: np.ndarray,\n",
    "    obs_ts: np.ndarray,\n",
    "    est: infer.MarkovInfer,\n",
    "    delta: Optional[float] = 0.01\n",
    ") -> np.ndarray:\n",
    "\n",
    "    grad = np.zeros_like(curr_theta)\n",
    "\n",
    "    for i in range(len(curr_theta)):\n",
    "        plus_theta = np.copy(curr_theta)\n",
    "        minus_theta = np.copy(curr_theta)\n",
    "\n",
    "        plus_theta[i] += delta # eta mane plus_theta[i]= plus_theta + delta\n",
    "        minus_theta[i] -= delta\n",
    "\n",
    "        A_plus, B_plus = _build_hmm_parameters(plus_theta)\n",
    "        A_minus, B_minus = _build_hmm_parameters(minus_theta)\n",
    "\n",
    "        est.forward_algo(obs_ts, A_plus, B_plus)\n",
    "        bayes_plus = np.copy(est.prediction_tracker)\n",
    "        est.forward_algo(obs_ts, A_minus, B_minus)\n",
    "        bayes_minus = np.copy(est.prediction_tracker)\n",
    "\n",
    "        likelihood_plus = calc_likelihood(B_plus, bayes_plus, obs_ts)\n",
    "        likelihood_minus = calc_likelihood(B_minus, bayes_minus, obs_ts)\n",
    "\n",
    "        grad[i] = (likelihood_plus - likelihood_minus) / (2 * delta)\n",
    "\n",
    "    return grad\n",
    "\n",
    "def grad_descent(\n",
    "    obs_ts: Iterable[int],\n",
    "    init_theta: np.ndarray,\n",
    "    learning_rate: Optional[float] = 0.0002,\n",
    "    max_iterations: Optional[int] = 500,\n",
    "    tolerance: Optional[float] = 0.00000001,\n",
    "    output: Optional[bool] = False\n",
    ") -> np.ndarray:\n",
    "\n",
    "    curr_theta = np.copy(init_theta)\n",
    "    est = infer.MarkovInfer(2, 2)\n",
    "\n",
    "    # Calculate likelihood of initial guess\n",
    "    A, B = _build_hmm_parameters(init_theta)\n",
    "    est.forward_algo(obs_ts, A, B)\n",
    "    lkly = calc_likelihood(B, est.prediction_tracker, obs_ts)\n",
    "\n",
    "    # Initialize tracking arrays\n",
    "    likelihood_tracker = [lkly]\n",
    "    param_tracker = [init_theta]\n",
    "\n",
    "    # Apply grad descent interations\n",
    "    for i in range(max_iterations):\n",
    "        if 1%50 == 0:  \n",
    "            # % symbol reminder dae ekhane reminder 0 ashbe \n",
    "            print(f\"-- Iteration: {i} (of {max_iterations}) --\")\n",
    "\n",
    "        grad = _get_likelihood_deriv(curr_theta, obs_ts, est)\n",
    "        if output: print(f\"grad --> {grad}\")\n",
    "        curr_theta -= learning_rate * grad\n",
    "\n",
    "        A, B = _build_hmm_parameters(curr_theta)\n",
    "        est.forward_algo(obs_ts, A, B)\n",
    "        lkly_new = calc_likelihood(B, est.prediction_tracker, obs_ts)\n",
    "\n",
    "        likelihood_tracker.append(lkly_new)\n",
    "        param_tracker.append(np.copy(curr_theta))\n",
    "\n",
    "        # If changes in likelihood are lower than tolerance break the loop\n",
    "        #if lkly_new - lkly < tolerance:\n",
    "        #    print(\"--- Tolerance level hit, exiting grad-descent ---\")\n",
    "        #    break\n",
    "        # If not, update the current likelihood value and repeat\n",
    "        #else:\n",
    "        #    lkly = lkly_new\n",
    "        lkly = lkly_new\n",
    "\n",
    "    return likelihood_tracker, param_tracker\n"
   ]
  },
  {
   "cell_type": "code",
   "execution_count": 5,
   "metadata": {},
   "outputs": [
    {
     "name": "stdout",
     "output_type": "stream",
     "text": [
      "Working on param set 1 of 4...\n",
      "Working on param set 2 of 4...\n",
      "Working on param set 3 of 4...\n",
      "Working on param set 4 of 4...\n"
     ]
    }
   ],
   "source": [
    "# So, now we can run this for an initial guess\n",
    "\n",
    "# ACTUAL PARAMETERS\n",
    "# a = 0.3\n",
    "# b = 0.1\n",
    "param_init_set = [\n",
    "    [0.45, 0.02],\n",
    "    [0.4, 0.2],\n",
    "    [0.2, 0.05],\n",
    "    [0.15, 0.25]\n",
    "]\n",
    "\n",
    "l_res, theta_res = [], []\n",
    "\n",
    "for i, param_init in enumerate(param_init_set):\n",
    "    print(f\"Working on param set {i + 1} of {len(param_init_set)}...\")\n",
    "    l_tracker, theta_tracker = grad_descent(obs_ts, param_init)\n",
    "    l_res.append(l_tracker)\n",
    "    theta_res.append(theta_tracker)\n"
   ]
  },
  {
   "attachments": {},
   "cell_type": "markdown",
   "metadata": {},
   "source": [
    "#eta diye uporer initial 4 ta parameter dise ota ashe"
   ]
  },
  {
   "cell_type": "code",
   "execution_count": 6,
   "metadata": {},
   "outputs": [
    {
     "data": {
      "image/png": "[encoded data removed]",
      "text/plain": [
       "<Figure size 600x650 with 3 Axes>"
      ]
     },
     "metadata": {},
     "output_type": "display_data"
    }
   ],
   "source": [
    "fig, ax = plt.subplots(3, 1, figsize=(6, 6.5), sharex=True)\n",
    "Pal = sns.color_palette('hls', len(l_res))\n",
    "for i, (l, t) in enumerate(zip(l_res, theta_res)):\n",
    "    ax[0].plot(l, color=Pal[i], label=f\"Condition {i}\")\n",
    "    ax[1].plot([param[0] for param in t], color=Pal[i])\n",
    "    ax[2].plot([param[1] for param in t], color=Pal[i])\n",
    "\n",
    "ax[0].set_ylabel(r\"Likelihood\", fontsize=15)\n",
    "ax[1].set_ylabel(r\"$\\theta_{1}$ ($a$)\", fontsize=15)\n",
    "ax[2].set_ylabel(r\"$\\theta_{2}$ ($b$)\", fontsize=15)\n",
    "ax[2].set_xlabel(r\"Iteration\", fontsize=15)\n",
    "\n",
    "ax[0].legend(fontsize=12, frameon=False)\n",
    "ax[0].set_xlim([0, 100])\n",
    "\n",
    "plt.tight_layout()\n",
    "\n",
    "# ei plot er x axis e iteration dekhae, 2nd and 3rd plot diye bojhae, condition jae hok na keno, gradually ta minima te converge \n",
    "# kore joto iteration kora jae. They all goes to minima. 2nd graph alpha er jonno, 3rd plot beta er jonno"
   ]
  },
  {
   "cell_type": "code",
   "execution_count": 19,
   "metadata": {},
   "outputs": [],
   "source": [
    "# We can also, like in the previous notebook, detemine the likelihood function over the entire parameter space.\n",
    "def generate_likelihood_surface(\n",
    "    obs_ts: Iterable[int], sample_dim: Optional[int] = 10\n",
    "):\n",
    "    est = infer.MarkovInfer(2, 2)\n",
    "\n",
    "    a_vals = np.linspace(0.01, 0.99, sample_dim)\n",
    "    b_vals = np.linspace(0.01, 0.99, sample_dim)\n",
    "\n",
    "    likelihood = np.zeros((sample_dim, sample_dim))\n",
    "\n",
    "    for i, a in enumerate(a_vals):\n",
    "        A_sample = np.array([[1 - a, a], [a, 1 - a]])\n",
    "        for j, b in enumerate(b_vals):\n",
    "            B_sample = np.array([[1 - b, b], [b, 1 - b]])\n",
    "\n",
    "            est.forward_algo(obs_ts, A_sample, B_sample)\n",
    "            try:\n",
    "                l = calc_likelihood(B_sample, est.prediction_tracker, obs_ts)\n",
    "            except RuntimeWarning:\n",
    "                l = None\n",
    "            likelihood[i, j] = l\n",
    "\n",
    "    return likelihood, a_vals, b_vals\n",
    "\n",
    "# NOTE This cell takes a long time ~ 2.5 mins to run\n",
    "likelihood_mat, aVals_arr, bVals_arr = generate_likelihood_surface(obs_ts, sample_dim=100)"
   ]
  },
  {
   "cell_type": "code",
   "execution_count": 20,
   "metadata": {},
   "outputs": [
    {
     "data": {
      "text/html": [
       "<div>\n",
       "<style scoped>\n",
       "    .dataframe tbody tr th:only-of-type {\n",
       "        vertical-align: middle;\n",
       "    }\n",
       "\n",
       "    .dataframe tbody tr th {\n",
       "        vertical-align: top;\n",
       "    }\n",
       "\n",
       "    .dataframe thead th {\n",
       "        text-align: right;\n",
       "    }\n",
       "</style>\n",
       "<table border=\"1\" class=\"dataframe\">\n",
       "  <thead>\n",
       "    <tr style=\"text-align: right;\">\n",
       "      <th></th>\n",
       "      <th>0.010000</th>\n",
       "      <th>0.019899</th>\n",
       "      <th>0.029798</th>\n",
       "      <th>0.039697</th>\n",
       "      <th>0.049596</th>\n",
       "      <th>0.059495</th>\n",
       "      <th>0.069394</th>\n",
       "      <th>0.079293</th>\n",
       "      <th>0.089192</th>\n",
       "      <th>0.099091</th>\n",
       "      <th>...</th>\n",
       "      <th>0.900909</th>\n",
       "      <th>0.910808</th>\n",
       "      <th>0.920707</th>\n",
       "      <th>0.930606</th>\n",
       "      <th>0.940505</th>\n",
       "      <th>0.950404</th>\n",
       "      <th>0.960303</th>\n",
       "      <th>0.970202</th>\n",
       "      <th>0.980101</th>\n",
       "      <th>0.990000</th>\n",
       "    </tr>\n",
       "  </thead>\n",
       "  <tbody>\n",
       "    <tr>\n",
       "      <th>0.010000</th>\n",
       "      <td>1130.615177</td>\n",
       "      <td>1035.466637</td>\n",
       "      <td>976.779909</td>\n",
       "      <td>934.991872</td>\n",
       "      <td>902.936866</td>\n",
       "      <td>877.174292</td>\n",
       "      <td>855.780325</td>\n",
       "      <td>837.566609</td>\n",
       "      <td>821.755822</td>\n",
       "      <td>807.824250</td>\n",
       "      <td>...</td>\n",
       "      <td>807.824250</td>\n",
       "      <td>821.755822</td>\n",
       "      <td>837.566609</td>\n",
       "      <td>855.780325</td>\n",
       "      <td>877.174292</td>\n",
       "      <td>902.936866</td>\n",
       "      <td>934.991872</td>\n",
       "      <td>976.779909</td>\n",
       "      <td>1035.466637</td>\n",
       "      <td>1130.615177</td>\n",
       "    </tr>\n",
       "    <tr>\n",
       "      <th>0.019899</th>\n",
       "      <td>1052.370012</td>\n",
       "      <td>971.754244</td>\n",
       "      <td>920.660820</td>\n",
       "      <td>883.373449</td>\n",
       "      <td>854.422223</td>\n",
       "      <td>831.081041</td>\n",
       "      <td>811.765788</td>\n",
       "      <td>795.470713</td>\n",
       "      <td>781.516081</td>\n",
       "      <td>769.420415</td>\n",
       "      <td>...</td>\n",
       "      <td>769.420415</td>\n",
       "      <td>781.516081</td>\n",
       "      <td>795.470713</td>\n",
       "      <td>811.765788</td>\n",
       "      <td>831.081041</td>\n",
       "      <td>854.422223</td>\n",
       "      <td>883.373449</td>\n",
       "      <td>920.660820</td>\n",
       "      <td>971.754244</td>\n",
       "      <td>1052.370012</td>\n",
       "    </tr>\n",
       "    <tr>\n",
       "      <th>0.029798</th>\n",
       "      <td>1002.174409</td>\n",
       "      <td>929.892899</td>\n",
       "      <td>884.338431</td>\n",
       "      <td>850.802198</td>\n",
       "      <td>824.497497</td>\n",
       "      <td>803.134855</td>\n",
       "      <td>785.388943</td>\n",
       "      <td>770.407638</td>\n",
       "      <td>757.606118</td>\n",
       "      <td>746.564187</td>\n",
       "      <td>...</td>\n",
       "      <td>746.564187</td>\n",
       "      <td>757.606118</td>\n",
       "      <td>770.407638</td>\n",
       "      <td>785.388943</td>\n",
       "      <td>803.134855</td>\n",
       "      <td>824.497497</td>\n",
       "      <td>850.802198</td>\n",
       "      <td>884.338431</td>\n",
       "      <td>929.892899</td>\n",
       "      <td>1002.174409</td>\n",
       "    </tr>\n",
       "    <tr>\n",
       "      <th>0.039697</th>\n",
       "      <td>964.629512</td>\n",
       "      <td>898.394767</td>\n",
       "      <td>856.886045</td>\n",
       "      <td>826.351573</td>\n",
       "      <td>802.314735</td>\n",
       "      <td>782.705647</td>\n",
       "      <td>766.356930</td>\n",
       "      <td>752.525797</td>\n",
       "      <td>740.702174</td>\n",
       "      <td>730.517414</td>\n",
       "      <td>...</td>\n",
       "      <td>730.517414</td>\n",
       "      <td>740.702174</td>\n",
       "      <td>752.525797</td>\n",
       "      <td>766.356930</td>\n",
       "      <td>782.705647</td>\n",
       "      <td>802.314735</td>\n",
       "      <td>826.351573</td>\n",
       "      <td>856.886045</td>\n",
       "      <td>898.394767</td>\n",
       "      <td>964.629512</td>\n",
       "    </tr>\n",
       "    <tr>\n",
       "      <th>0.049596</th>\n",
       "      <td>934.069078</td>\n",
       "      <td>873.061858</td>\n",
       "      <td>834.766613</td>\n",
       "      <td>806.666888</td>\n",
       "      <td>784.550815</td>\n",
       "      <td>766.482449</td>\n",
       "      <td>751.390297</td>\n",
       "      <td>738.603721</td>\n",
       "      <td>727.666522</td>\n",
       "      <td>718.249991</td>\n",
       "      <td>...</td>\n",
       "      <td>718.249991</td>\n",
       "      <td>727.666522</td>\n",
       "      <td>738.603721</td>\n",
       "      <td>751.390297</td>\n",
       "      <td>766.482449</td>\n",
       "      <td>784.550815</td>\n",
       "      <td>806.666888</td>\n",
       "      <td>834.766613</td>\n",
       "      <td>873.061858</td>\n",
       "      <td>934.069078</td>\n",
       "    </tr>\n",
       "  </tbody>\n",
       "</table>\n",
       "<p>5 rows × 100 columns</p>\n",
       "</div>"
      ],
      "text/plain": [
       "             0.010000     0.019899    0.029798    0.039697    0.049596   \n",
       "0.010000  1130.615177  1035.466637  976.779909  934.991872  902.936866  \\\n",
       "0.019899  1052.370012   971.754244  920.660820  883.373449  854.422223   \n",
       "0.029798  1002.174409   929.892899  884.338431  850.802198  824.497497   \n",
       "0.039697   964.629512   898.394767  856.886045  826.351573  802.314735   \n",
       "0.049596   934.069078   873.061858  834.766613  806.666888  784.550815   \n",
       "\n",
       "            0.059495    0.069394    0.079293    0.089192    0.099091  ...   \n",
       "0.010000  877.174292  855.780325  837.566609  821.755822  807.824250  ...  \\\n",
       "0.019899  831.081041  811.765788  795.470713  781.516081  769.420415  ...   \n",
       "0.029798  803.134855  785.388943  770.407638  757.606118  746.564187  ...   \n",
       "0.039697  782.705647  766.356930  752.525797  740.702174  730.517414  ...   \n",
       "0.049596  766.482449  751.390297  738.603721  727.666522  718.249991  ...   \n",
       "\n",
       "            0.900909    0.910808    0.920707    0.930606    0.940505   \n",
       "0.010000  807.824250  821.755822  837.566609  855.780325  877.174292  \\\n",
       "0.019899  769.420415  781.516081  795.470713  811.765788  831.081041   \n",
       "0.029798  746.564187  757.606118  770.407638  785.388943  803.134855   \n",
       "0.039697  730.517414  740.702174  752.525797  766.356930  782.705647   \n",
       "0.049596  718.249991  727.666522  738.603721  751.390297  766.482449   \n",
       "\n",
       "            0.950404    0.960303    0.970202     0.980101     0.990000  \n",
       "0.010000  902.936866  934.991872  976.779909  1035.466637  1130.615177  \n",
       "0.019899  854.422223  883.373449  920.660820   971.754244  1052.370012  \n",
       "0.029798  824.497497  850.802198  884.338431   929.892899  1002.174409  \n",
       "0.039697  802.314735  826.351573  856.886045   898.394767   964.629512  \n",
       "0.049596  784.550815  806.666888  834.766613   873.061858   934.069078  \n",
       "\n",
       "[5 rows x 100 columns]"
      ]
     },
     "execution_count": 20,
     "metadata": {},
     "output_type": "execute_result"
    }
   ],
   "source": [
    "# Format likelihood matrix into dataframe so that index coordinates are correctly mapped\n",
    "import pandas as pd\n",
    "df_lkly = pd.DataFrame(likelihood_mat)\n",
    "df_lkly.columns = bVals_arr\n",
    "df_lkly.index = aVals_arr\n",
    "df_lkly.head()\n",
    "\n",
    "# ei crosstable er coloumn holo b value, row holo a value"
   ]
  },
  {
   "cell_type": "code",
   "execution_count": 27,
   "metadata": {},
   "outputs": [
    {
     "data": {
      "image/png": "[encoded data removed]",
      "text/plain": [
       "<Figure size 600x500 with 2 Axes>"
      ]
     },
     "metadata": {},
     "output_type": "display_data"
    }
   ],
   "source": [
    "fig, ax = plt.subplots(1, 1, figsize=(6, 5))\n",
    "\n",
    "#Pal = sns.color_palette(\"Spectral\", len(theta_tracker))\n",
    "Pal = sns.color_palette('RdGy', 4)\n",
    "\n",
    "alpha_map = np.linspace(0.2, 0.8, len(l_res[0]))\n",
    "\n",
    "sns.heatmap(likelihood_mat, cmap='coolwarm', ax=ax, vmax=800)\n",
    "\n",
    "for i, (l, t) in enumerate(zip(l_res, theta_res)):\n",
    "    color =  Pal[i]\n",
    "    for j, theta in enumerate(t):\n",
    "        ax.plot([theta[1] * 100], [theta[0] * 100], 'o', markersize=3.5, color=Pal[3-i], alpha=0.3)\n",
    "    ax.plot([theta[1] * 100], [theta[0] * 100], 'o', markersize=5.5, color=Pal[3-i], label=f\"Condition {i}\")\n",
    "\n",
    "ax.plot(b * 100, a * 100, 'o', color='k', markersize=7, label=\"True parameters\")\n",
    "ax.legend(fontsize=10)\n",
    "\n",
    "idx_arr = [0, 10, 20, 30, 40, 50, 60, 70, 80, 90, 99]\n",
    "\n",
    "ax.set_xticks(idx_arr)\n",
    "ax.set_yticks(idx_arr)\n",
    "\n",
    "ax.set_xticklabels(np.round(aVals_arr[idx_arr], 1))\n",
    "ax.set_yticklabels(np.round(aVals_arr[idx_arr], 1))\n",
    "\n",
    "ax.set_xlabel(r\"a\", fontsize=15)\n",
    "ax.set_ylabel(r\"b\", fontsize=15)\n",
    "\n",
    "# color reperesents the size of the negative log likelihood. ei graph e black dot represents true value. \n",
    "# condition 0,1,2,3 sob guloe true value er kasakasi."
   ]
  },
  {
   "attachments": {},
   "cell_type": "markdown",
   "metadata": {},
   "source": [
    "So, here we can see that, the gradient descent algorithm is, in fact, able to locate the function minimum. In each case, the solution iteratesdown to the basin moving in the general $b = ma + c$ direction, and then moves along the bottom of that basin until convergence. Furthermore, the solutions all find the same final parameter vector, which is promising. However, this would not be the case when we initialized a parameter vector closer to the symmetric basin on the otehr side of $b=1/2$, or near $a=1, b=1/2$.  \n",
    "\n",
    "Finally, one point of concern to watch is the non-monotonic behaviour of convergence in each solution. Ultimately, this is because the derivative of the likelihood near the boundaries of the domain gets very large, so even for small learning rates, this could lead to out-of-bounds behaviours, or unexpected numerical results in cases where we dont pay close attention. To remedy this, we could, for instance, introduce an adaptive learning rate that will be smaller when close to the boundaries, or, in a more extremem case, regularize the derivative terms so that we only really care about the direction of the update, and not its magnitude. \n",
    "\n",
    "Next, we turn to the infrastructure of `scipy.optimize` to let a more robust optimization algorithm(s) take on the heavy lifting, so that we can be more sure of its robustness, and test a arger variety of optimization techniques."
   ]
  },
  {
   "cell_type": "code",
   "execution_count": 28,
   "metadata": {},
   "outputs": [],
   "source": [
    "# As an alternate approach, we can use a built-in optimizer from scipy ################\n",
    "import scipy.optimize\n",
    "\n",
    "# however, to do that efficiently we need to redefine the objective function\n",
    "def calc_likelihood_optimizer(\n",
    "    param_arr: Iterable, obs_ts: Iterable, est: infer.MarkovInfer\n",
    ") -> float:\n",
    "    A, B = _build_hmm_parameters(param_arr)\n",
    "    est.forward_algo(obs_ts, A, B)\n",
    "\n",
    "    likelihood = 0\n",
    "    for bayes, obs in zip(est.prediction_tracker, obs_ts):\n",
    "        inner = bayes @ B[:, obs]\n",
    "        likelihood -= np.log(inner)\n",
    "    return likelihood\n",
    "\n",
    "est = infer.MarkovInfer(2, 2)\n",
    "# Initial parameters for optimization\n",
    "param_init = [0.4, 0.4]\n",
    "A, B = _build_hmm_parameters(param_init)\n",
    "est.forward_algo(obs_ts, A, B)\n",
    "\n",
    "bnds = ([0.001, 0.99], [0.001 ,0.99])"
   ]
  },
  {
   "cell_type": "code",
   "execution_count": 29,
   "metadata": {},
   "outputs": [
    {
     "name": "stdout",
     "output_type": "stream",
     "text": [
      "142 ms ± 4.96 ms per loop (mean ± std. dev. of 7 runs, 10 loops each)\n"
     ]
    }
   ],
   "source": [
    "\n",
    "\n",
    "# Sequential Least-Squares Progarmming (SLSQP) optimizer (that allows bounds)\n",
    "def lkly_opt(method: str):\n",
    "    return scipy.optimize.minimize(\n",
    "        calc_likelihood_optimizer,\n",
    "        param_init,\n",
    "        args=(obs_ts, est),\n",
    "        method=method,\n",
    "        bounds=bnds\n",
    "    )\n",
    "\n",
    "%timeit lkly_opt(\"SLSQP\")\n"
   ]
  },
  {
   "cell_type": "code",
   "execution_count": 30,
   "metadata": {},
   "outputs": [
    {
     "name": "stdout",
     "output_type": "stream",
     "text": [
      "189 ms ± 19.2 ms per loop (mean ± std. dev. of 7 runs, 1 loop each)\n"
     ]
    }
   ],
   "source": [
    "\n",
    "# Nelder-Mead This is the particular method for finding the minimization. scipy er website dekhte pari. \n",
    "%timeit lkly_opt('Nelder-Mead')"
   ]
  },
  {
   "cell_type": "code",
   "execution_count": 31,
   "metadata": {},
   "outputs": [
    {
     "name": "stdout",
     "output_type": "stream",
     "text": [
      "94.6 ms ± 1.86 ms per loop (mean ± std. dev. of 7 runs, 10 loops each)\n"
     ]
    }
   ],
   "source": [
    "%timeit lkly_opt('L-BFGS-B') # eta best method"
   ]
  },
  {
   "cell_type": "code",
   "execution_count": 32,
   "metadata": {},
   "outputs": [
    {
     "name": "stdout",
     "output_type": "stream",
     "text": [
      "796 ms ± 13.9 ms per loop (mean ± std. dev. of 7 runs, 1 loop each)\n"
     ]
    }
   ],
   "source": [
    "%timeit lkly_opt('TNC')"
   ]
  },
  {
   "cell_type": "code",
   "execution_count": 33,
   "metadata": {},
   "outputs": [
    {
     "name": "stdout",
     "output_type": "stream",
     "text": [
      "91 ms ± 1.17 ms per loop (mean ± std. dev. of 7 runs, 10 loops each)\n"
     ]
    }
   ],
   "source": [
    "# If no method is selected, the algo automatically selects one of SLSQP,\n",
    "# L-BFGS-B, or BFGS, depending on whether bounds or constraints are present\n",
    "%timeit lkly_opt(None)"
   ]
  },
  {
   "cell_type": "code",
   "execution_count": 34,
   "metadata": {},
   "outputs": [
    {
     "data": {
      "text/plain": [
       " message: Optimization terminated successfully\n",
       " success: True\n",
       "  status: 0\n",
       "     fun: 648.6020037360028\n",
       "       x: [ 1.978e-01  1.613e-01]\n",
       "     nit: 13\n",
       "     jac: [-2.380e-03  6.104e-05]\n",
       "    nfev: 48\n",
       "    njev: 13"
      ]
     },
     "execution_count": 34,
     "metadata": {},
     "output_type": "execute_result"
    }
   ],
   "source": [
    "res_slsqp = lkly_opt('SLSQP')\n",
    "res_slsqp"
   ]
  },
  {
   "cell_type": "code",
   "execution_count": 35,
   "metadata": {},
   "outputs": [
    {
     "data": {
      "text/plain": [
       "       message: Optimization terminated successfully.\n",
       "       success: True\n",
       "        status: 0\n",
       "           fun: 648.6020041872096\n",
       "             x: [ 1.978e-01  1.613e-01]\n",
       "           nit: 34\n",
       "          nfev: 66\n",
       " final_simplex: (array([[ 1.978e-01,  1.613e-01],\n",
       "                       [ 1.978e-01,  1.613e-01],\n",
       "                       [ 1.979e-01,  1.613e-01]]), array([ 6.486e+02,  6.486e+02,  6.486e+02]))"
      ]
     },
     "execution_count": 35,
     "metadata": {},
     "output_type": "execute_result"
    }
   ],
   "source": [
    "res_nelder = lkly_opt('Nelder-Mead')\n",
    "res_nelder"
   ]
  },
  {
   "cell_type": "code",
   "execution_count": 36,
   "metadata": {},
   "outputs": [
    {
     "data": {
      "text/plain": [
       "  message: CONVERGENCE: REL_REDUCTION_OF_F_<=_FACTR*EPSMCH\n",
       "  success: True\n",
       "   status: 0\n",
       "      fun: 648.6020037348201\n",
       "        x: [ 1.978e-01  1.613e-01]\n",
       "      nit: 4\n",
       "      jac: [ 1.114e-03 -1.330e-03]\n",
       "     nfev: 33\n",
       "     njev: 11\n",
       " hess_inv: <2x2 LbfgsInvHessProduct with dtype=float64>"
      ]
     },
     "execution_count": 36,
     "metadata": {},
     "output_type": "execute_result"
    }
   ],
   "source": [
    "res_bfgs = lkly_opt('L-BFGS-B')\n",
    "res_bfgs"
   ]
  },
  {
   "cell_type": "code",
   "execution_count": 37,
   "metadata": {},
   "outputs": [
    {
     "name": "stdout",
     "output_type": "stream",
     "text": [
      "790 ms ± 11.5 ms per loop (mean ± std. dev. of 7 runs, 1 loop each)\n"
     ]
    }
   ],
   "source": [
    "# Finally, we can also look at global optimizer: Simplical Homology for Global Optimization (SHGO)\n",
    "# To find the set of all local minima\n",
    "\n",
    "def opt_shgo():\n",
    "    return scipy.optimize.shgo(\n",
    "        calc_likelihood_optimizer,\n",
    "        bounds=bnds,\n",
    "        args=(obs_ts, est),\n",
    "        sampling_method='sobol'\n",
    "    )\n",
    "\n",
    "%timeit opt_shgo()\n"
   ]
  },
  {
   "cell_type": "code",
   "execution_count": 38,
   "metadata": {},
   "outputs": [
    {
     "data": {
      "text/plain": [
       " message: Optimization terminated successfully.\n",
       " success: True\n",
       "     fun: 648.6020037317182\n",
       "    funl: [ 6.486e+02  6.486e+02  6.486e+02  6.486e+02]\n",
       "       x: [ 1.978e-01  1.613e-01]\n",
       "      xl: [[ 1.978e-01  1.613e-01]\n",
       "           [ 1.978e-01  1.613e-01]\n",
       "           [ 1.978e-01  8.387e-01]\n",
       "           [ 1.978e-01  8.387e-01]]\n",
       "     nit: 2\n",
       "    nfev: 301\n",
       "   nlfev: 173\n",
       "   nljev: 42\n",
       "   nlhev: 0"
      ]
     },
     "execution_count": 38,
     "metadata": {},
     "output_type": "execute_result"
    }
   ],
   "source": [
    "res_shgo = opt_shgo() # shgo eta global optimizer.\n",
    "res_shgo"
   ]
  },
  {
   "attachments": {},
   "cell_type": "markdown",
   "metadata": {},
   "source": [
    "Here we can see that there are two distinct minima (local) found by the global optimizer at a = 0.37 and b = 0.90, 0.10, which are degenerate global minima. In the earlier stages, when we start closest to the (0.37, 0.10) minima. Further, we can look at the run-times for a few algorithms, and find that (of those tested), the SLSQP algorithm has the fastest runtime, and the 'L-BFGS-B' has a comparable runtime. In any case, however, the runtime for the built-in optimizers is significantly improved upon the naive implementation of gradient descent.\n",
    "\n"
   ]
  },
  {
   "attachments": {},
   "cell_type": "markdown",
   "metadata": {},
   "source": []
  }
 ],
 "metadata": {
  "kernelspec": {
   "display_name": "Python 3.9.7 ('hmm')",
   "language": "python",
   "name": "python3"
  },
  "language_info": {
   "codemirror_mode": {
    "name": "ipython",
    "version": 3
   },
   "file_extension": ".py",
   "mimetype": "text/x-python",
   "name": "python",
   "nbconvert_exporter": "python",
   "pygments_lexer": "ipython3",
   "version": "3.9.16"
  },
  "orig_nbformat": 4,
  "vscode": {
   "interpreter": {
    "hash": "4f9b37dac17d06b8fa0c89267880b723d82f0595bc5fc55c9df0f440e0daf16f"
   }
  }
 },
 "nbformat": 4,
 "nbformat_minor": 2
}

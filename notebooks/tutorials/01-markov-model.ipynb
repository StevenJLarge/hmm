{
 "cells": [
  {
   "attachments": {},
   "cell_type": "markdown",
   "metadata": {},
   "source": [
    "# HMM Tutorial 1: Markov Models\n",
    "\n",
    "Ultimately, this package is about simulating and inferring properties of Hidden Markov Models, which are simply probabilitistic functions of an underlying markov model. In this notebook we go through the somewhat simpler process of simulating dynamics on a Markov model.  Here, we assume that we have a discrete state space with $N$ states. The probability of transitioning from state $i\\to j$ in a time interval $\\Delta t$ is given by the element $A_{ij}$ of the transition matrix (which will be $N\\times N$) in shape. Therefore we can describe the evolution in time of an initial ($N\\times 1$)probability vector $p_0$ by the matrix multiplication by $\\boldsymbol{A}$ so that\n",
    "\n",
    "$$ p_1 = \\boldsymbol{A} \\cdot p_0 $$\n",
    "\n",
    "It then follows that to propagate the dynamics $T$ time intervals we simply repeat the above process so that\n",
    "\n",
    "$$ p_T = \\boldsymbol{A}^T \\cdot p_0$$\n",
    "\n",
    "Eventually, the probability will relax into a steady state (so long as the transition matrix elements are constant in time) so that the condition \n",
    "\n",
    "$$ p_{\\rm ss} = \\boldsymbol{A} \\cdot p_{\\rm ss}$$\n",
    "\n",
    "*i.e.* the transition matrix has no impact on the probability vector. Based on the siilarity of this expression with the eigenvalue-eigenvector equation, it follows that the stationary probability distribution is simply the (right) eigenvector of the transition matrix, with eigenvalue $1$.\n",
    "\n",
    "Now, while this rather simple picture describes the evolution of the probability distribution, simulating a given trajectory is more tricky. To do this, we make use of a kinetic Monte Carlo scheme, which probabilistically draws the next state in the sequence of system states in such a way that the long-term distribution staisfies the above equation for the steady state, and the statistical transition probabilities are consistent with the transition rate matrix $\\boldsymbol{A}$.\n",
    "\n",
    "In this notebook, we will show how to initialize a Markov model of a few different dimensions, calculate the steady-state probabbility distribution, and also simulate a trajectory of those dynamics.\n"
   ]
  },
  {
   "cell_type": "code",
   "execution_count": 2,
   "metadata": {},
   "outputs": [],
   "source": [
    "# to start, import the hidden.dynamics module, as well as some other necessary\n",
    "# libraries\n",
    "import numpy as np\n",
    "import matplotlib.pyplot as plt\n",
    "import seaborn as sns\n",
    "sns.set(style='darkgrid')\n",
    "\n",
    "from hidden import dynamics\n",
    "\n",
    "# Now, we can initialize a hidden markov model with 2-states\n",
    "mm = dynamics.HMM(2, 2)"
   ]
  },
  {
   "cell_type": "code",
   "execution_count": 3,
   "metadata": {},
   "outputs": [
    {
     "data": {
      "text/plain": [
       "(array([[0.95, 0.1 ],\n",
       "        [0.05, 0.9 ]]),\n",
       " array([[1., 0.],\n",
       "        [0., 1.]]))"
      ]
     },
     "execution_count": 3,
     "metadata": {},
     "output_type": "execute_result"
    }
   ],
   "source": [
    "# Now, we can set the A-matrix\n",
    "A = np.array([[0.95, 0.1], [0.05, 0.9]])\n",
    "# And for a Markov model, we can think of it as a hidden markov model with no\n",
    "# observation errors, which means that the B matrix is the itentity\n",
    "B = np.eye(2)\n",
    "\n",
    "mm.initialize_dynamics(A, B)\n",
    "\n",
    "# WE cna show that the attribute mm.A is, in fact the matrix we set\n",
    "mm.A, mm.B"
   ]
  },
  {
   "cell_type": "code",
   "execution_count": 4,
   "metadata": {},
   "outputs": [
    {
     "data": {
      "text/plain": [
       "array([1.  , 0.85])"
      ]
     },
     "execution_count": 4,
     "metadata": {},
     "output_type": "execute_result"
    }
   ],
   "source": [
    "# Now, we can calculate the steady-state distribution from the eigenvalue spectrum\n",
    "e_vals, e_vecs = np.linalg.eig(A)\n",
    "# And show that one of the eigenvalues is, in fact, 1\n",
    "e_vals"
   ]
  },
  {
   "cell_type": "code",
   "execution_count": 5,
   "metadata": {},
   "outputs": [
    {
     "data": {
      "text/plain": [
       "array([0.66666667, 0.33333333])"
      ]
     },
     "execution_count": 5,
     "metadata": {},
     "output_type": "execute_result"
    }
   ],
   "source": [
    "# And the corresponding eigenvalue (after normalization) is the steady-state\n",
    "steady_state = e_vecs[:, 0] / np.sum(e_vecs[:, 0])\n",
    "steady_state"
   ]
  },
  {
   "cell_type": "code",
   "execution_count": 5,
   "metadata": {},
   "outputs": [
    {
     "data": {
      "text/plain": [
       "array([0.66666667, 0.33333333])"
      ]
     },
     "execution_count": 5,
     "metadata": {},
     "output_type": "execute_result"
    }
   ],
   "source": [
    "# We can also get this steady state simply from the property on the mm object\n",
    "mm.steady_state"
   ]
  },
  {
   "cell_type": "code",
   "execution_count": 6,
   "metadata": {},
   "outputs": [],
   "source": [
    "# Now, to run the simulated dynamics, we simply call the 'run_dynamics' function\n",
    "mm.run_dynamics(n_steps = 5000)"
   ]
  },
  {
   "cell_type": "code",
   "execution_count": 7,
   "metadata": {},
   "outputs": [
    {
     "data": {
      "text/plain": [
       "[0, 0, 0, 0, 0, 0, 0, 0, 0, 0]"
      ]
     },
     "execution_count": 7,
     "metadata": {},
     "output_type": "execute_result"
    }
   ],
   "source": [
    "# Now, we can get the trajectory of states through the following\n",
    "state_ts = mm.get_state_ts()\n",
    "\n",
    "# Lets look at the first 10 states of the trajectory\n",
    "state_ts[:10]"
   ]
  },
  {
   "cell_type": "code",
   "execution_count": 10,
   "metadata": {},
   "outputs": [
    {
     "data": {
      "image/png": "[encoded data removed]",
      "text/plain": [
       "<Figure size 600x350 with 1 Axes>"
      ]
     },
     "metadata": {},
     "output_type": "display_data"
    }
   ],
   "source": [
    "# Or, we can plot the states over time as:\n",
    "fig, ax = plt.subplots(1, 1, figsize=(6, 3.5))\n",
    "\n",
    "# So we dont crownd things, lets just look at the first 100 states\n",
    "ax.plot(state_ts[:100], 'o', markersize=4, color=sns.xkcd_rgb[\"shamrock\"], alpha=0.8)\n",
    "ax.set_xlabel(r\"Time ($\\Delta t$)\", fontsize=15)\n",
    "ax.set_ylabel(r\"State\", fontsize=15)\n",
    "plt.savefig(\"ts.png\")\n",
    "plt.show()"
   ]
  },
  {
   "cell_type": "code",
   "execution_count": 11,
   "metadata": {},
   "outputs": [
    {
     "data": {
      "image/png": "[encoded data removed]",
      "text/plain": [
       "<Figure size 600x350 with 1 Axes>"
      ]
     },
     "metadata": {},
     "output_type": "display_data"
    }
   ],
   "source": [
    "# From the full trajectory, we can also plot an empirical probability distribution\n",
    "# that should look alot like the steady-state distribution\n",
    "\n",
    "fig, ax = plt.subplots(1, 1, figsize=(6, 3.5))\n",
    "\n",
    "# first, make a bar chart of the steady-state ditribution\n",
    "ax.bar([0, 1], mm.steady_state, color='k', alpha=0.5, width=1.0)\n",
    "# And then a histogram of the observed state probabilities\n",
    "binEdges = [-0.5, 0.5, 1.5]\n",
    "sns.histplot(state_ts, stat=\"probability\", color=sns.xkcd_rgb[\"shamrock\"], alpha=0.5, bins=binEdges)\n",
    "\n",
    "ax.set_xticks([0, 1])\n",
    "ax.set_xticklabels(['State 0', \"State 1\"])\n",
    "plt.savefig(\"steady.png\")\n",
    "plt.show()\n"
   ]
  },
  {
   "cell_type": "code",
   "execution_count": 46,
   "metadata": {},
   "outputs": [
    {
     "data": {
      "text/plain": [
       "0.05188199389623601"
      ]
     },
     "execution_count": 46,
     "metadata": {},
     "output_type": "execute_result"
    }
   ],
   "source": [
    "# We see from the above chart that the empirical distribution matches the\n",
    "# expectatation: the steady state distribution from A\n",
    "\n",
    "# Finally, we can estimate the elements of A from the observed number of\n",
    "# transitions into and out of each state\n",
    "\n",
    "# For the 0 -> 1 transition, we want to find (# of transitions OUT of state 0) / (number of times IN state zero)\n",
    "\n",
    "numer = len(np.array(state_ts[1:])[(np.diff(state_ts) > 0)]) \n",
    "# ts[1] theke start hoise kenona 0 theke start hole tar difference nile NA ashto. r ts>0 dise kenona  sudhu tahole 1 value count hobe\n",
    "denom = len(np.array(state_ts)[np.isclose(state_ts, 0)]) # jotogulo 0 ase tar number\n",
    "\n",
    "A_10 = numer / denom\n",
    "A_10"
   ]
  },
  {
   "cell_type": "code",
   "execution_count": 48,
   "metadata": {},
   "outputs": [
    {
     "data": {
      "text/plain": [
       "0.09864603481624758"
      ]
     },
     "execution_count": 48,
     "metadata": {},
     "output_type": "execute_result"
    }
   ],
   "source": [
    "# And then for the other off-diagonal element\n",
    "numer = len(np.array(state_ts[1:])[(np.diff(state_ts) < 0)])\n",
    "denom = len(np.array(state_ts)[np.isclose(state_ts, 1)])\n",
    "\n",
    "A_01 = numer / denom\n",
    "A_01"
   ]
  },
  {
   "cell_type": "code",
   "execution_count": 49,
   "metadata": {},
   "outputs": [
    {
     "data": {
      "text/plain": [
       "(array([[0.94811801, 0.09864603],\n",
       "        [0.05188199, 0.94811801]]),\n",
       " array([[0.95, 0.1 ],\n",
       "        [0.05, 0.9 ]]))"
      ]
     },
     "execution_count": 49,
     "metadata": {},
     "output_type": "execute_result"
    }
   ],
   "source": [
    "# And we can use this (along with the fact that conservation of probability\n",
    "# requires that the columns of A sum to 1) to build our estimated matrix:\n",
    "\n",
    "A_est = np.array([[1 - A_10, A_01], [A_10, 1 - A_10]])\n",
    "# A_10, A_01 diye amra A matrix er diagonal element gulo nilam tae off diagonal ber korar jonno amra 1 theke minus korlam, kenona columnwise sum hobe zero.\n",
    "A_est, mm.A"
   ]
  },
  {
   "cell_type": "code",
   "execution_count": 50,
   "metadata": {},
   "outputs": [],
   "source": [
    "# So, in summary, in this notebook we shoed:\n",
    "#\n",
    "# - How to initialize a markov model\n",
    "# - How to calcualte the steady-state probability vector\n",
    "# - How to run dynamics of the model\n",
    "# - How to plot the empirical probability distirubtion\n",
    "# - How to estimate the transition matrix elements from observed transitions"
   ]
  }
 ],
 "metadata": {
  "kernelspec": {
   "display_name": "hmm",
   "language": "python",
   "name": "python3"
  },
  "language_info": {
   "codemirror_mode": {
    "name": "ipython",
    "version": 3
   },
   "file_extension": ".py",
   "mimetype": "text/x-python",
   "name": "python",
   "nbconvert_exporter": "python",
   "pygments_lexer": "ipython3",
   "version": "3.9.16"
  },
  "orig_nbformat": 4
 },
 "nbformat": 4,
 "nbformat_minor": 2
}

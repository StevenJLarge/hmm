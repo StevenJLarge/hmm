{
 "cells": [
  {
   "attachments": {},
   "cell_type": "markdown",
   "metadata": {},
   "source": [
    "# Hidden Markov Models - Alpha and Beta\n",
    "\n",
    "This notebook overviews two slightly different quantitites often used in the analysis of Hidden Markov Models, $\\alpha$ and $\\beta$. These terms are, respectively, very similar to the forward and backward probabilities, and are, specifically, their 'conditionally reversed' probabilities\n",
    "\n",
    "$$ \\alpha_t(i) \\propto P(Y^{t} | x_t = i) $$\n",
    "$$ \\beta_t(i) \\propto P(Y^{[t+1 , T]} | x_t = i) $$\n",
    "\n",
    "Again, both of these quantities are calculated in a recursive fashion (through  a process explained in more depth in a supporting document). The reason that we discuss these quantities here, is that they have a relatively deep link with common derivations of some ofthe likelihood-based optimization methods common in HMMs. Specifically, one can show that the total likelihood function $\\mathcal{L}(\\theta)$ is simply the product  $\\sum_i \\alpha_t(i)\\beta_t(i)$ (which turns out to be independent of $t$).  Similarly, the most common version of the Expectation Maximization algorithm used in HMMs is conveniently described in terms of these expressions as well (which we will discuss in a later notebook).\n",
    "\n",
    "Here, we wimply show how to calculate these terms, some tests to verify their correctness, and a little discussion around their interpretation."
   ]
  },
  {
   "cell_type": "code",
   "execution_count": 2,
   "metadata": {},
   "outputs": [],
   "source": [
    "# First, import the necessary libraries\n",
    "import os\n",
    "import numpy as np\n",
    "import matplotlib.pyplot as plt\n",
    "import seaborn as sns\n",
    "sns.set(style='darkgrid', palette='hls')\n",
    "\n",
    "from hidden import dynamics, infer\n",
    "\n",
    "# Initialize the HMM\n",
    "hmm = dynamics.HMM(2, 2)\n",
    "hmm.init_uniform_cycle(trans_rate=0.1, error_rate=0.2)\n",
    "\n",
    "# Run the dynamics\n",
    "hmm.run_dynamics(500)\n",
    "\n",
    "# Fetch the states or observations\n",
    "state_ts = hmm.get_state_ts()\n",
    "obs_ts = hmm.get_obs_ts()"
   ]
  },
  {
   "cell_type": "code",
   "execution_count": null,
   "metadata": {},
   "outputs": [],
   "source": []
  }
 ],
 "metadata": {
  "kernelspec": {
   "display_name": "hmm",
   "language": "python",
   "name": "python3"
  },
  "language_info": {
   "codemirror_mode": {
    "name": "ipython",
    "version": 3
   },
   "file_extension": ".py",
   "mimetype": "text/x-python",
   "name": "python",
   "nbconvert_exporter": "python",
   "pygments_lexer": "ipython3",
   "version": "3.9.7"
  },
  "orig_nbformat": 4
 },
 "nbformat": 4,
 "nbformat_minor": 2
}

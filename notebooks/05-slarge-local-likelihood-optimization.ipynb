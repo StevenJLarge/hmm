{
 "cells": [
  {
   "cell_type": "markdown",
   "metadata": {},
   "source": [
    "# Local likelihood optimization\n",
    "\n",
    "In the previous notebook, we went through the calculation of the likelihood function for an HMM and explicitly minimized it. Specifically, we looked at a situation where the transition rate and emission probability matrices took the form\n",
    "\n",
    "$$ \\boldsymbol{A} = \\left[ \\begin{matrix} 1 - a & a \\\\ a & 1 - a \\end{matrix} \\right] $$\n",
    "\n",
    "and \n",
    "\n",
    "$$ \\boldsymbol{B} = \\left[ \\begin{matrix} 1 - b & b \\\\ b & 1 - b \\end{matrix} \\right] $$\n",
    "\n",
    "respectively, then we estimated the parameters $a$ and $b$ given an observed sequence of states.\n",
    "\n",
    "*A priori* we will not know what the hidden state sequence was (it is hidden, after all...) So, to deal with this we would need to calculate the likelihood over all possible hidden state sequences, and all parameter values in the $A$ and $B$ matrices. This problem will quickly become very high dimensional, and as a result we must resort to other methods. Specifically, we can perform a local optimization routine on the parameter space, for a given initial starting point.\n",
    "\n",
    "In this notebook, we will first build a custom gradient descent algorithm to track the evolution of the parameter vector over iterations, and then use these results to validate a more efficient implementation using a `scipy.optimize.minimize` function to do the heavy lifting.\n",
    "\n",
    "#### Gradient descent\n",
    "\n",
    "Given that we are trying to minimize the likelihood function $\\mathcal{L}(\\theta)$, for parameter vector $\\theta$, the general form of a gradient descent algorithm will update the value of the parameter vector $\\theta_i \\to \\theta_{i+1}$ as\n",
    "\n",
    "$$ \\theta_{i+1} = \\theta_i - \\eta \\nabla \\mathcal{L}(\\theta_i) $$\n",
    "\n",
    "where $\\nabla$ is the gradient of the likelihood function and $\\eta$ is the *learning rate* which determines how large the update steps are. For an initial implementation, we take the learning rate to be constant, but there are many schemes that optimize this parameter by dynamically updating it so that the solution converges towards a local minimum more rapidly.  In order to calculate the derivative of the likelhood function, we will use a simple first-order difference in the likelihood function, approximating each component of the gradient with a simple first-difference\n",
    "\n",
    "$$ \\partial_{\\theta^k}\\mathcal{L}(\\theta_i) \\approx \\frac{1}{2 \\Delta\\theta^{k}} \\left[ \\mathcal{L}(\\theta + \\Delta\\theta^{k}) - \\mathcal{L}(\\theta - \\Delta\\theta^{k}) \\right] $$\n",
    "\n",
    "where $\\Delta\\theta^k$ is chosen to be small.  This procedure requires two evaluations of the likelihood function per dimension of the parameter vector for each iterative update to $\\theta$.\n"
   ]
  },
  {
   "cell_type": "code",
   "execution_count": 3,
   "metadata": {},
   "outputs": [],
   "source": [
    "# First, import the necessary packages and generate a the dynamics of an example HMM\n",
    "import os\n",
    "import numpy as np\n",
    "from typing import Iterable, Tuple, Optional\n",
    "import matplotlib.pyplot as plt\n",
    "import seaborn as sns\n",
    "sns.set(style='darkgrid', palette=\"hls\")\n",
    "\n",
    "# Import HMM libraries\n",
    "from hidden import dynamics\n",
    "from hidden import infer\n",
    "from pathlib import Path\n",
    "\n",
    "# here we assume the dynamics are symmetric\n",
    "a = 0.3\n",
    "b = 0.1\n",
    "\n",
    "A = np.array([[1 - a, a], [a, 1 - a]])\n",
    "B = np.array([[1 - b, b], [b, 1 - b]])\n",
    "\n",
    "hmm = dynamics.HMM(2, 2)"
   ]
  },
  {
   "cell_type": "code",
   "execution_count": 4,
   "metadata": {},
   "outputs": [],
   "source": [
    "# Initialize the Dynamics and Observation matrices\n",
    "hmm.initialize_dynamics(A, B)\n",
    "\n",
    "# Now run the dynamics for 500 steps\n",
    "hmm.run_dynamics(1000)\n",
    "state_ts = hmm.get_state_ts()\n",
    "obs_ts = hmm.get_obs_ts()"
   ]
  },
  {
   "attachments": {},
   "cell_type": "markdown",
   "metadata": {},
   "source": [
    "Now, first we can make our own (very explicit) version of a gradient descent algorithm. Which we will simply use the relatively naive\n",
    "update rule from above. To do this, we need a way to build the parameter vector $\\theta$ from our input aprameters (here, we assume the dynamics are symmetric, and so we only have 2 input parameters) so that we can calculate the gradient. We will also need a function to calculate the derivatives (from the finite-difference equation). Finally, we also need a way to update the parameter vector, in line with the gradient descent process outlined above.\n",
    "\n",
    "So, explicitly, we will need to following helper functions:\n",
    "\n",
    "- Calculation of likelihood for a specfic parameter vector\n",
    "- Function to convert a set of A and B matrices into a parameter vector\n",
    "- Function to get the gradient of the likelihood function\n",
    "- Function to actually perform the gradient descent\n"
   ]
  },
  {
   "cell_type": "code",
   "execution_count": 5,
   "metadata": {},
   "outputs": [],
   "source": [
    "# First, a function that calculates the likelihood for a given parameter vector\n",
    "def calc_likelihood(\n",
    "    B: np.ndarray,\n",
    "    bayes_pred: Iterable[np.ndarray],\n",
    "    obs_ts: Iterable[int]\n",
    ") -> float:\n",
    "    likelihood = 0\n",
    "    for bayes, obs in zip(bayes_pred, obs_ts):\n",
    "        inner =  bayes @ B[:, obs]\n",
    "        likelihood -= np.log(inner)\n",
    "    return likelihood"
   ]
  },
  {
   "cell_type": "code",
   "execution_count": 6,
   "metadata": {},
   "outputs": [],
   "source": [
    "\n",
    "# Now, a function that builds the A and B matrices from an input parameter\n",
    "# vector. Here, an input array of the form (a, b) will be converted to a\n",
    "# pair of matrices, A, and B, that are symmetric.\n",
    "def _build_hmm_parameters(theta: np.ndarray) -> Tuple:\n",
    "    A = theta[0] * np.ones((2, 2))\n",
    "    B = theta[1] * np.ones((2, 2))\n",
    "\n",
    "    A[0, 0], A[1, 1] = 1 - theta[0], 1 - theta[0]\n",
    "    B[0, 0], B[1, 1] = 1 - theta[1], 1 - theta[1]\n",
    "\n",
    "    return A, B\n"
   ]
  },
  {
   "cell_type": "code",
   "execution_count": 7,
   "metadata": {},
   "outputs": [],
   "source": [
    "# Now a function to calculate the derivative of the likelihood function (or the\n",
    "# gradient) Recall that the gradient will be the vector [g_1, g_2], where the\n",
    "# first entry is the derivative of the likelihood with respect to the first\n",
    "# parameter, and the second entry is the derivative of the likelihood with\n",
    "# respect to the second parameter.\n",
    "def _get_likelihood_deriv(\n",
    "    curr_theta: np.ndarray,\n",
    "    obs_ts: np.ndarray,\n",
    "    est: infer.MarkovInfer,\n",
    "    delta: Optional[float] = 0.01\n",
    ") -> np.ndarray:\n",
    "\n",
    "    grad = np.zeros_like(curr_theta)\n",
    "\n",
    "    for i in range(len(curr_theta)):\n",
    "        plus_theta = np.copy(curr_theta)\n",
    "        minus_theta = np.copy(curr_theta)\n",
    "\n",
    "        plus_theta[i] += delta\n",
    "        minus_theta[i] -= delta\n",
    "\n",
    "        A_plus, B_plus = _build_hmm_parameters(plus_theta)\n",
    "        A_minus, B_minus = _build_hmm_parameters(minus_theta)\n",
    "\n",
    "        est.forward_algo(obs_ts, A_plus, B_plus, prediction_tracker=True)\n",
    "        bayes_plus = np.copy(est.predictions)\n",
    "        est.forward_algo(obs_ts, A_minus, B_minus, prediction_tracker=True)\n",
    "        bayes_minus = np.copy(est.predictions)\n",
    "\n",
    "        likelihood_plus = calc_likelihood(B_plus, bayes_plus, obs_ts)\n",
    "        likelihood_minus = calc_likelihood(B_minus, bayes_minus, obs_ts)\n",
    "\n",
    "        grad[i] = (likelihood_plus - likelihood_minus) / (2 * delta)\n",
    "\n",
    "    return grad\n",
    "\n"
   ]
  },
  {
   "cell_type": "code",
   "execution_count": 8,
   "metadata": {},
   "outputs": [],
   "source": [
    "# and the actual gradient descent algorithm, which will update the current\n",
    "# parameter vector to move 'down' the negative log likelihood surface, to a\n",
    "# point of local minimum.\n",
    "def grad_descent(\n",
    "    obs_ts: Iterable[int],\n",
    "    init_theta: np.ndarray,\n",
    "    learning_rate: Optional[float] = 0.0002,\n",
    "    max_iterations: Optional[int] = 500,\n",
    "    tolerance: Optional[float] = 0.00000001,\n",
    "    output: Optional[bool] = False\n",
    ") -> np.ndarray:\n",
    "\n",
    "    curr_theta = np.copy(init_theta)\n",
    "    est = infer.MarkovInfer(2, 2)\n",
    "\n",
    "    # Calculate likelihood of initial guess\n",
    "    A, B = _build_hmm_parameters(init_theta)\n",
    "    est.forward_algo(obs_ts, A, B, prediction_tracker=True)\n",
    "    lkly = calc_likelihood(B, est.predictions, obs_ts)\n",
    "\n",
    "    # Initialize tracking arrays\n",
    "    likelihood_tracker = [lkly]\n",
    "    param_tracker = [init_theta]\n",
    "\n",
    "    # Apply grad descent interations, for this implementation, we will always\n",
    "    # run the loop 'max_iteration' times\n",
    "    for i in range(max_iterations):\n",
    "        if 1%50 == 0:\n",
    "            print(f\"-- Iteration: {i} (of {max_iterations}) --\")\n",
    "\n",
    "        grad = _get_likelihood_deriv(curr_theta, obs_ts, est)\n",
    "        if output: print(f\"grad --> {grad}\")\n",
    "        curr_theta -= learning_rate * grad\n",
    "\n",
    "        A, B = _build_hmm_parameters(curr_theta)\n",
    "        est.forward_algo(obs_ts, A, B, prediction_tracker=True)\n",
    "        lkly_new = calc_likelihood(B, est.predictions, obs_ts)\n",
    "\n",
    "        likelihood_tracker.append(lkly_new)\n",
    "        param_tracker.append(np.copy(curr_theta))\n",
    "\n",
    "        lkly = lkly_new\n",
    "\n",
    "    return likelihood_tracker, param_tracker\n"
   ]
  },
  {
   "cell_type": "code",
   "execution_count": 9,
   "metadata": {},
   "outputs": [
    {
     "name": "stdout",
     "output_type": "stream",
     "text": [
      "Working on param set 1 of 4...\n",
      "Working on param set 2 of 4...\n",
      "Working on param set 3 of 4...\n",
      "Working on param set 4 of 4...\n"
     ]
    }
   ],
   "source": [
    "# So, now we can run this for an initial guess\n",
    "\n",
    "# ACTUAL PARAMETERS\n",
    "# a = 0.3\n",
    "# b = 0.1\n",
    "\n",
    "# Set of close-to-minima initial guesses\n",
    "param_init_set = [\n",
    "    [0.45, 0.02],\n",
    "    [0.4, 0.2],\n",
    "    [0.2, 0.05],\n",
    "    [0.15, 0.25]\n",
    "]\n",
    "\n",
    "# This lists will contain the likelihood and parameter vector trackers for\n",
    "# each set of initial parameters\n",
    "l_res, theta_res = [], []\n",
    "\n",
    "for i, param_init in enumerate(param_init_set):\n",
    "    print(f\"Working on param set {i + 1} of {len(param_init_set)}...\")\n",
    "    l_tracker, theta_tracker = grad_descent(obs_ts, param_init)\n",
    "    l_res.append(l_tracker)\n",
    "    theta_res.append(theta_tracker)\n",
    "\n",
    "# Note that this cell will take awhile to run (as this optimization algorithm\n",
    "# is not very efficient)"
   ]
  },
  {
   "cell_type": "code",
   "execution_count": 12,
   "metadata": {},
   "outputs": [
    {
     "data": {
      "image/png": "[encoded data removed]",
      "text/plain": [
       "<Figure size 432x468 with 3 Axes>"
      ]
     },
     "metadata": {},
     "output_type": "display_data"
    }
   ],
   "source": [
    "# We can plot the results, where we can see that the likelihood converges\n",
    "# to a common value for all initial parameters, and the individual parameters\n",
    "# \\theta_1 (which is a) and \\theta_2 (which is b), all converge to the same\n",
    "# final value. This seems to indicate that out algorithm is working as expected\n",
    "# and that the optimization is finding a local minimum,\n",
    "\n",
    "fig, ax = plt.subplots(3, 1, figsize=(6, 6.5), sharex=True)\n",
    "Pal = sns.color_palette('hls', len(l_res))\n",
    "for i, (l, t) in enumerate(zip(l_res, theta_res)):\n",
    "    ax[0].plot(l, color=Pal[i], label=f\"Condition {i}\")\n",
    "    ax[1].plot([param[0] for param in t], color=Pal[i])\n",
    "    ax[2].plot([param[1] for param in t], color=Pal[i])\n",
    "\n",
    "ax[0].set_ylabel(r\"Likelihood\", fontsize=15)\n",
    "ax[1].set_ylabel(r\"$\\theta_{1}$ ($a$)\", fontsize=15)\n",
    "ax[2].set_ylabel(r\"$\\theta_{2}$ ($b$)\", fontsize=15)\n",
    "ax[2].set_xlabel(r\"Iteration\", fontsize=15)\n",
    "\n",
    "ax[0].legend(fontsize=12, frameon=False)\n",
    "ax[0].set_xlim([0, 100])\n",
    "plt.tight_layout()\n"
   ]
  },
  {
   "cell_type": "code",
   "execution_count": 13,
   "metadata": {},
   "outputs": [],
   "source": [
    "# We can also, like in the previous notebook, detemine the likelihood function\n",
    "# over the eitnre parameter space, so that we can visualize better the actual\n",
    "# updates to the parameters, and how the move towards a minimum\n",
    "def generate_likelihood_surface(\n",
    "    obs_ts: Iterable[int], sample_dim: Optional[int] = 10\n",
    "):\n",
    "    est = infer.MarkovInfer(2, 2)\n",
    "\n",
    "    a_vals = np.linspace(0.01, 0.99, sample_dim)\n",
    "    b_vals = np.linspace(0.01, 0.99, sample_dim)\n",
    "\n",
    "    likelihood = np.zeros((sample_dim, sample_dim))\n",
    "\n",
    "    for i, a in enumerate(a_vals):\n",
    "        A_sample = np.array([[1 - a, a], [a, 1 - a]])\n",
    "        for j, b in enumerate(b_vals):\n",
    "            B_sample = np.array([[1 - b, b], [b, 1 - b]])\n",
    "\n",
    "            est.forward_algo(obs_ts, A_sample, B_sample, prediction_tracker=True)\n",
    "            try:\n",
    "                l = calc_likelihood(B_sample, est.predictions, obs_ts)\n",
    "            except RuntimeWarning:\n",
    "                l = None\n",
    "            likelihood[i, j] = l\n",
    "\n",
    "    return likelihood, a_vals, b_vals\n",
    "\n",
    "# NOTE This cell takes a long time ~ 2.5 mins to run\n",
    "likelihood_mat, aVals_arr, bVals_arr = generate_likelihood_surface(obs_ts, sample_dim=100)"
   ]
  },
  {
   "cell_type": "code",
   "execution_count": 14,
   "metadata": {},
   "outputs": [
    {
     "data": {
      "text/html": [
       "<div>\n",
       "<style scoped>\n",
       "    .dataframe tbody tr th:only-of-type {\n",
       "        vertical-align: middle;\n",
       "    }\n",
       "\n",
       "    .dataframe tbody tr th {\n",
       "        vertical-align: top;\n",
       "    }\n",
       "\n",
       "    .dataframe thead th {\n",
       "        text-align: right;\n",
       "    }\n",
       "</style>\n",
       "<table border=\"1\" class=\"dataframe\">\n",
       "  <thead>\n",
       "    <tr style=\"text-align: right;\">\n",
       "      <th></th>\n",
       "      <th>0.010000</th>\n",
       "      <th>0.019899</th>\n",
       "      <th>0.029798</th>\n",
       "      <th>0.039697</th>\n",
       "      <th>0.049596</th>\n",
       "      <th>0.059495</th>\n",
       "      <th>0.069394</th>\n",
       "      <th>0.079293</th>\n",
       "      <th>0.089192</th>\n",
       "      <th>0.099091</th>\n",
       "      <th>...</th>\n",
       "      <th>0.900909</th>\n",
       "      <th>0.910808</th>\n",
       "      <th>0.920707</th>\n",
       "      <th>0.930606</th>\n",
       "      <th>0.940505</th>\n",
       "      <th>0.950404</th>\n",
       "      <th>0.960303</th>\n",
       "      <th>0.970202</th>\n",
       "      <th>0.980101</th>\n",
       "      <th>0.990000</th>\n",
       "    </tr>\n",
       "  </thead>\n",
       "  <tbody>\n",
       "    <tr>\n",
       "      <th>0.010000</th>\n",
       "      <td>1188.746912</td>\n",
       "      <td>1090.193085</td>\n",
       "      <td>1028.372201</td>\n",
       "      <td>983.327179</td>\n",
       "      <td>947.932522</td>\n",
       "      <td>918.869623</td>\n",
       "      <td>894.319081</td>\n",
       "      <td>873.162175</td>\n",
       "      <td>854.660272</td>\n",
       "      <td>838.303223</td>\n",
       "      <td>...</td>\n",
       "      <td>838.303223</td>\n",
       "      <td>854.660272</td>\n",
       "      <td>873.162175</td>\n",
       "      <td>894.319081</td>\n",
       "      <td>918.869623</td>\n",
       "      <td>947.932522</td>\n",
       "      <td>983.327179</td>\n",
       "      <td>1028.372201</td>\n",
       "      <td>1090.193085</td>\n",
       "      <td>1188.746912</td>\n",
       "    </tr>\n",
       "    <tr>\n",
       "      <th>0.019899</th>\n",
       "      <td>1103.893500</td>\n",
       "      <td>1020.375511</td>\n",
       "      <td>967.184808</td>\n",
       "      <td>927.908747</td>\n",
       "      <td>896.934826</td>\n",
       "      <td>871.512413</td>\n",
       "      <td>850.075138</td>\n",
       "      <td>831.649569</td>\n",
       "      <td>815.589916</td>\n",
       "      <td>801.444821</td>\n",
       "      <td>...</td>\n",
       "      <td>801.444821</td>\n",
       "      <td>815.589916</td>\n",
       "      <td>831.649569</td>\n",
       "      <td>850.075138</td>\n",
       "      <td>871.512413</td>\n",
       "      <td>896.934826</td>\n",
       "      <td>927.908747</td>\n",
       "      <td>967.184808</td>\n",
       "      <td>1020.375511</td>\n",
       "      <td>1103.893500</td>\n",
       "    </tr>\n",
       "    <tr>\n",
       "      <th>0.029798</th>\n",
       "      <td>1049.779908</td>\n",
       "      <td>974.574251</td>\n",
       "      <td>927.160021</td>\n",
       "      <td>892.028700</td>\n",
       "      <td>864.182934</td>\n",
       "      <td>841.266085</td>\n",
       "      <td>821.933700</td>\n",
       "      <td>805.335210</td>\n",
       "      <td>790.896984</td>\n",
       "      <td>778.213990</td>\n",
       "      <td>...</td>\n",
       "      <td>778.213990</td>\n",
       "      <td>790.896984</td>\n",
       "      <td>805.335210</td>\n",
       "      <td>821.933700</td>\n",
       "      <td>841.266085</td>\n",
       "      <td>864.182934</td>\n",
       "      <td>892.028700</td>\n",
       "      <td>927.160021</td>\n",
       "      <td>974.574251</td>\n",
       "      <td>1049.779908</td>\n",
       "    </tr>\n",
       "    <tr>\n",
       "      <th>0.039697</th>\n",
       "      <td>1009.373233</td>\n",
       "      <td>940.202732</td>\n",
       "      <td>896.886648</td>\n",
       "      <td>864.906901</td>\n",
       "      <td>839.545689</td>\n",
       "      <td>818.642244</td>\n",
       "      <td>800.992873</td>\n",
       "      <td>785.841819</td>\n",
       "      <td>772.677489</td>\n",
       "      <td>761.135737</td>\n",
       "      <td>...</td>\n",
       "      <td>761.135737</td>\n",
       "      <td>772.677489</td>\n",
       "      <td>785.841819</td>\n",
       "      <td>800.992873</td>\n",
       "      <td>818.642244</td>\n",
       "      <td>839.545689</td>\n",
       "      <td>864.906901</td>\n",
       "      <td>896.886648</td>\n",
       "      <td>940.202732</td>\n",
       "      <td>1009.373233</td>\n",
       "    </tr>\n",
       "    <tr>\n",
       "      <th>0.049596</th>\n",
       "      <td>976.498606</td>\n",
       "      <td>912.592971</td>\n",
       "      <td>872.504467</td>\n",
       "      <td>843.020219</td>\n",
       "      <td>819.686547</td>\n",
       "      <td>800.465040</td>\n",
       "      <td>784.237545</td>\n",
       "      <td>770.312044</td>\n",
       "      <td>758.223590</td>\n",
       "      <td>747.641584</td>\n",
       "      <td>...</td>\n",
       "      <td>747.641584</td>\n",
       "      <td>758.223590</td>\n",
       "      <td>770.312044</td>\n",
       "      <td>784.237545</td>\n",
       "      <td>800.465040</td>\n",
       "      <td>819.686547</td>\n",
       "      <td>843.020219</td>\n",
       "      <td>872.504467</td>\n",
       "      <td>912.592971</td>\n",
       "      <td>976.498606</td>\n",
       "    </tr>\n",
       "  </tbody>\n",
       "</table>\n",
       "<p>5 rows × 100 columns</p>\n",
       "</div>"
      ],
      "text/plain": [
       "             0.010000     0.019899     0.029798    0.039697    0.049596  \\\n",
       "0.010000  1188.746912  1090.193085  1028.372201  983.327179  947.932522   \n",
       "0.019899  1103.893500  1020.375511   967.184808  927.908747  896.934826   \n",
       "0.029798  1049.779908   974.574251   927.160021  892.028700  864.182934   \n",
       "0.039697  1009.373233   940.202732   896.886648  864.906901  839.545689   \n",
       "0.049596   976.498606   912.592971   872.504467  843.020219  819.686547   \n",
       "\n",
       "            0.059495    0.069394    0.079293    0.089192    0.099091  ...  \\\n",
       "0.010000  918.869623  894.319081  873.162175  854.660272  838.303223  ...   \n",
       "0.019899  871.512413  850.075138  831.649569  815.589916  801.444821  ...   \n",
       "0.029798  841.266085  821.933700  805.335210  790.896984  778.213990  ...   \n",
       "0.039697  818.642244  800.992873  785.841819  772.677489  761.135737  ...   \n",
       "0.049596  800.465040  784.237545  770.312044  758.223590  747.641584  ...   \n",
       "\n",
       "            0.900909    0.910808    0.920707    0.930606    0.940505  \\\n",
       "0.010000  838.303223  854.660272  873.162175  894.319081  918.869623   \n",
       "0.019899  801.444821  815.589916  831.649569  850.075138  871.512413   \n",
       "0.029798  778.213990  790.896984  805.335210  821.933700  841.266085   \n",
       "0.039697  761.135737  772.677489  785.841819  800.992873  818.642244   \n",
       "0.049596  747.641584  758.223590  770.312044  784.237545  800.465040   \n",
       "\n",
       "            0.950404    0.960303     0.970202     0.980101     0.990000  \n",
       "0.010000  947.932522  983.327179  1028.372201  1090.193085  1188.746912  \n",
       "0.019899  896.934826  927.908747   967.184808  1020.375511  1103.893500  \n",
       "0.029798  864.182934  892.028700   927.160021   974.574251  1049.779908  \n",
       "0.039697  839.545689  864.906901   896.886648   940.202732  1009.373233  \n",
       "0.049596  819.686547  843.020219   872.504467   912.592971   976.498606  \n",
       "\n",
       "[5 rows x 100 columns]"
      ]
     },
     "execution_count": 14,
     "metadata": {},
     "output_type": "execute_result"
    }
   ],
   "source": [
    "# Format likelihood matrix into dataframe so that index coordinates are correctly mapped\n",
    "import pandas as pd\n",
    "df_lkly = pd.DataFrame(likelihood_mat)\n",
    "df_lkly.columns = bVals_arr\n",
    "df_lkly.index = aVals_arr\n",
    "df_lkly.head()"
   ]
  },
  {
   "cell_type": "code",
   "execution_count": 15,
   "metadata": {},
   "outputs": [
    {
     "data": {
      "text/plain": [
       "Text(30.5, 0.5, 'b')"
      ]
     },
     "execution_count": 15,
     "metadata": {},
     "output_type": "execute_result"
    },
    {
     "data": {
      "image/png": "[encoded data removed]",
      "text/plain": [
       "<Figure size 432x432 with 2 Axes>"
      ]
     },
     "metadata": {},
     "output_type": "display_data"
    }
   ],
   "source": [
    "fig, ax = plt.subplots(1, 1, figsize=(6, 6))\n",
    "\n",
    "#Pal = sns.color_palette(\"Spectral\", len(theta_tracker))\n",
    "Pal = sns.color_palette('RdGy', 4)\n",
    "\n",
    "alpha_map = np.linspace(0.2, 0.8, len(l_res[0]))\n",
    "\n",
    "sns.heatmap(likelihood_mat.T, cmap='coolwarm', ax=ax, vmax=800)\n",
    "\n",
    "for i, (l, t) in enumerate(zip(l_res, theta_res)):\n",
    "    color =  Pal[i]\n",
    "    for j, theta in enumerate(t):\n",
    "        ax.plot([theta[0] * 100], [theta[1] * 100], 'o', markersize=3.5, color=Pal[3-i], alpha=0.3)\n",
    "    ax.plot([theta[0] * 100], [theta[1] * 100], 'o', markersize=5.5, color=Pal[3-i], label=f\"Condition {i}\")\n",
    "\n",
    "ax.plot(a * 100, b * 100, 'o', color='k', markersize=7, label=\"True parameters\")\n",
    "ax.legend(fontsize=15)\n",
    "\n",
    "idx_arr = [0, 10, 20, 30, 40, 50, 60, 70, 80, 90, 99]\n",
    "\n",
    "ax.set_xticks(idx_arr)\n",
    "ax.set_yticks(idx_arr)\n",
    "\n",
    "ax.set_xticklabels(np.round(aVals_arr[idx_arr], 1))\n",
    "ax.set_yticklabels(np.round(aVals_arr[idx_arr], 1))\n",
    "\n",
    "ax.set_xlabel(r\"a\", fontsize=15)\n",
    "ax.set_ylabel(r\"b\", fontsize=15)"
   ]
  },
  {
   "attachments": {},
   "cell_type": "markdown",
   "metadata": {},
   "source": [
    "So, here we can see that, the gradient descent algorithm is, in fact, able to locate the function minimum. In each case, the solution iterates down to the basin moving in the general $b = ma + c$ direction, and then moves along the bottom of that basin until convergence. Furthermore, the solutions all find the same final parameter vector, which is promising. However, this would not be the case when we initialized a parameter vector closer to the symmetric basin on the otehr side of $b=1/2$, or near $a=1, b=1/2$.  \n",
    "\n",
    "Finally, one point of concern to watch is the non-monotonic behaviour of convergence in each solution. Ultimately, this is because the derivative of the likelihood near the boundaries of the domain gets very large, so even for small learning rates, this could lead to out-of-bounds behaviours, or unexpected numerical results in cases where we dont pay close attention. To remedy this, we could, for instance, introduce an adaptive learning rate that will be smaller when close to the boundaries, or, in a more extremem case, regularize the derivative terms so that we only really care about the direction of the update, and not its magnitude. \n",
    "\n",
    "Next, we turn to the infrastructure of `scipy.optimize` to let a more robust optimization algorithm(s) take on the heavy lifting, so that we can be more sure of its robustness, and test a larger variety of optimization techniques."
   ]
  },
  {
   "cell_type": "code",
   "execution_count": 16,
   "metadata": {},
   "outputs": [],
   "source": [
    "# As an alternate approach, we can use a built-in optimizer from scipy\n",
    "import scipy.optimize\n",
    "\n",
    "# however, to do that efficiently we need to redefine the objective function\n",
    "def calc_likelihood_optimizer(\n",
    "    param_arr: Iterable, obs_ts: Iterable, est: infer.MarkovInfer\n",
    ") -> float:\n",
    "    A, B = _build_hmm_parameters(param_arr)\n",
    "    est.forward_algo(obs_ts, A, B, prediction_tracker=True)\n",
    "\n",
    "    likelihood = 0\n",
    "    for bayes, obs in zip(est.predictions, obs_ts):\n",
    "        inner = bayes @ B[:, obs]\n",
    "        likelihood -= np.log(inner)\n",
    "    return likelihood\n",
    "\n",
    "est = infer.MarkovInfer(2, 2)\n",
    "# Initial parameters for optimization\n",
    "param_init = [0.4, 0.4]\n",
    "A, B = _build_hmm_parameters(param_init)\n",
    "est.forward_algo(obs_ts, A, B, prediction_tracker=True)\n",
    "\n",
    "# These are the bounds on the actual parameters themselves\n",
    "bnds = ([0.001, 0.99], [0.001 ,0.99])"
   ]
  },
  {
   "attachments": {},
   "cell_type": "markdown",
   "metadata": {},
   "source": [
    "In testing these `scipy` optimizers, there are several different varieties, which you can read up on at this link: https://docs.scipy.org/doc/scipy/reference/generated/scipy.optimize.minimize.html\n",
    "\n",
    "We will look primarily at the following:\n",
    "- Sequential Least-SQuares Programming\n",
    "- Truncated Newton\n",
    "- Nelder-Mead (Quasi-Newton)\n",
    "- Broyden-Fletcher-Goldfarb-Fano (BFGS) as well as its limited-memory counterpart\n",
    "- Powell's Method\n",
    "\n",
    "You can read up a little bit on each one, but they all have varying levels of accomodation for constraints and the need to internally calculate derivatives of the likelihood. For instance, the SLSQP algorithm is probably the most general purpose, and can accomodate constraints on the parameters that are equality or inequality. The other optimizers do not support constraints, but do allow for bounds. We dont really have a need\n",
    "for constraints at the moment, but its always good to test in case we want to support constraints in the future. Alternatively, numerically evaluating function derivatives can be tricky, so Powell's method does not require that estimation. The BFGS algorithm is also a famous optimization algorithm because it effectively works at the order of a second derivative of the likelihood (calcualting the so-called Hessian matrix--or curvature--of the likelihood) but only everay actually computes first-order derivatives. \n",
    "\n",
    "In any case, feel free to dig into all of these methods, here we will simply show how to use them, and then the results that they get"
   ]
  },
  {
   "cell_type": "code",
   "execution_count": 18,
   "metadata": {},
   "outputs": [
    {
     "name": "stdout",
     "output_type": "stream",
     "text": [
      "393 ms ± 4.25 ms per loop (mean ± std. dev. of 7 runs, 1 loop each)\n"
     ]
    }
   ],
   "source": [
    "\n",
    "# Sequential Least-Squares Progarmming (SLSQP) optimizer (that allows bounds)\n",
    "def lkly_opt(method: str):\n",
    "    return scipy.optimize.minimize(\n",
    "        calc_likelihood_optimizer,\n",
    "        param_init,\n",
    "        args=(obs_ts, est),\n",
    "        method=method,\n",
    "        bounds=bnds\n",
    "    )\n",
    "\n",
    "# We cna use this syntax to calcualte the average run-time of each algorithm\n",
    "%timeit lkly_opt(\"SLSQP\")\n"
   ]
  },
  {
   "cell_type": "code",
   "execution_count": 19,
   "metadata": {},
   "outputs": [
    {
     "name": "stdout",
     "output_type": "stream",
     "text": [
      "638 ms ± 1.91 ms per loop (mean ± std. dev. of 7 runs, 1 loop each)\n"
     ]
    }
   ],
   "source": [
    "\n",
    "# Nelder-Mead\n",
    "%timeit lkly_opt('Nelder-Mead')"
   ]
  },
  {
   "cell_type": "code",
   "execution_count": 22,
   "metadata": {},
   "outputs": [
    {
     "name": "stdout",
     "output_type": "stream",
     "text": [
      "356 ms ± 1.79 ms per loop (mean ± std. dev. of 7 runs, 1 loop each)\n"
     ]
    }
   ],
   "source": [
    "# This is the implementation of the Limited-Memory BFGS algorithm, that allows\n",
    "# us to use bounds\n",
    "%timeit lkly_opt('L-BFGS-B')\n"
   ]
  },
  {
   "cell_type": "code",
   "execution_count": 23,
   "metadata": {},
   "outputs": [
    {
     "name": "stdout",
     "output_type": "stream",
     "text": [
      "2.53 s ± 29.9 ms per loop (mean ± std. dev. of 7 runs, 1 loop each)\n"
     ]
    }
   ],
   "source": [
    "%timeit lkly_opt('TNC')"
   ]
  },
  {
   "cell_type": "code",
   "execution_count": 25,
   "metadata": {},
   "outputs": [
    {
     "name": "stderr",
     "output_type": "stream",
     "text": [
      "/var/folders/vt/d36dw3j55yxg5p19v5fbxm9r0000gn/T/ipykernel_87747/3416675954.py:14: RuntimeWarning: invalid value encountered in log\n",
      "  likelihood -= np.log(inner)\n"
     ]
    },
    {
     "name": "stdout",
     "output_type": "stream",
     "text": [
      "769 ms ± 3.49 ms per loop (mean ± std. dev. of 7 runs, 1 loop each)\n"
     ]
    }
   ],
   "source": [
    "# This algorithm throws warnings sometimes, so we best avoid it...\n",
    "%timeit lkly_opt('Powell')\n"
   ]
  },
  {
   "cell_type": "code",
   "execution_count": 24,
   "metadata": {},
   "outputs": [
    {
     "name": "stdout",
     "output_type": "stream",
     "text": [
      "359 ms ± 4.98 ms per loop (mean ± std. dev. of 7 runs, 1 loop each)\n"
     ]
    }
   ],
   "source": [
    "# If no method is selected, the algo automatically selects one of SLSQP,\n",
    "# L-BFGS-B, or BFGS, depending on whether bounds or constraints are present,\n",
    "# So if no bounds or contraints exist, then it will select BFGS, if there are\n",
    "# bounds but no constraints, then it will use the L-BFGS-B algorithm, and if\n",
    "# there are constraints the the SLSQP algorithm will be used\n",
    "%timeit lkly_opt(None)"
   ]
  },
  {
   "cell_type": "code",
   "execution_count": 27,
   "metadata": {},
   "outputs": [
    {
     "data": {
      "text/plain": [
       "     fun: 660.0909498123274\n",
       "     jac: array([ 0.00382996, -0.0111618 ])\n",
       " message: 'Optimization terminated successfully'\n",
       "    nfev: 40\n",
       "     nit: 11\n",
       "    njev: 11\n",
       "  status: 0\n",
       " success: True\n",
       "       x: array([0.23737704, 0.15941534])"
      ]
     },
     "execution_count": 27,
     "metadata": {},
     "output_type": "execute_result"
    }
   ],
   "source": [
    "# Now we can look at the actual result\n",
    "res_slsqp = lkly_opt('SLSQP')\n",
    "res_slsqp"
   ]
  },
  {
   "cell_type": "code",
   "execution_count": 28,
   "metadata": {},
   "outputs": [
    {
     "data": {
      "text/plain": [
       " final_simplex: (array([[0.23735236, 0.1594225 ],\n",
       "       [0.23741108, 0.15941546],\n",
       "       [0.23728326, 0.15948401]]), array([660.09094986, 660.09095069, 660.09095087]))\n",
       "           fun: 660.0909498617091\n",
       "       message: 'Optimization terminated successfully.'\n",
       "          nfev: 66\n",
       "           nit: 34\n",
       "        status: 0\n",
       "       success: True\n",
       "             x: array([0.23735236, 0.1594225 ])"
      ]
     },
     "execution_count": 28,
     "metadata": {},
     "output_type": "execute_result"
    }
   ],
   "source": [
    "res_nelder = lkly_opt('Nelder-Mead')\n",
    "res_nelder"
   ]
  },
  {
   "cell_type": "code",
   "execution_count": 30,
   "metadata": {},
   "outputs": [
    {
     "data": {
      "text/plain": [
       "     fun: 660.1207122709917\n",
       "     jac: array([-0.84419298, -7.14369435])\n",
       " message: 'Linear search failed'\n",
       "    nfev: 255\n",
       "     nit: 12\n",
       "  status: 4\n",
       " success: False\n",
       "       x: array([0.24576917, 0.1502341 ])"
      ]
     },
     "execution_count": 30,
     "metadata": {},
     "output_type": "execute_result"
    }
   ],
   "source": [
    "res_tnc = lkly_opt('TNC')\n",
    "res_tnc"
   ]
  },
  {
   "cell_type": "code",
   "execution_count": 29,
   "metadata": {},
   "outputs": [
    {
     "data": {
      "text/plain": [
       "      fun: 660.0909496554028\n",
       " hess_inv: <2x2 LbfgsInvHessProduct with dtype=float64>\n",
       "      jac: array([-0.00145519, -0.00200089])\n",
       "  message: 'CONVERGENCE: REL_REDUCTION_OF_F_<=_FACTR*EPSMCH'\n",
       "     nfev: 36\n",
       "      nit: 6\n",
       "     njev: 12\n",
       "   status: 0\n",
       "  success: True\n",
       "        x: array([0.23735407, 0.15943494])"
      ]
     },
     "execution_count": 29,
     "metadata": {},
     "output_type": "execute_result"
    }
   ],
   "source": [
    "res_bfgs = lkly_opt('L-BFGS-B')\n",
    "res_bfgs"
   ]
  },
  {
   "attachments": {},
   "cell_type": "markdown",
   "metadata": {},
   "source": [
    "So, from this it looks like the allowed optimizers are returning the correct results (insofar as they are consistent with one another), and they are equivalent to our own results from the gradient descent calcualtions.\n",
    "\n",
    "Before finishing off, we will also look at one *global* optimizer, known as the Simplical Homology for Global Optimization (SHGO) algorithm, that is also implemented by `scipy`. You can look into the associated documentation about the optmization (https://docs.scipy.org/doc/scipy/reference/generated/scipy.optimize.shgo.html) if you want. The gist of it is that points are randomly sampled from the allawed domain of the parameters, and using repeated function evaluations, local and global minima can be found.  The upside of this algorithm is that we get all of the local minima in the parameter domain of interest, and so we can see whether or not we are only finding a local minimum through the usual likelihood methods."
   ]
  },
  {
   "cell_type": "code",
   "execution_count": 31,
   "metadata": {},
   "outputs": [
    {
     "name": "stdout",
     "output_type": "stream",
     "text": [
      "2.59 s ± 27.5 ms per loop (mean ± std. dev. of 7 runs, 1 loop each)\n"
     ]
    }
   ],
   "source": [
    "# Finally, we can also look at global optimizer: Simplical Homology for Global Optimization (SHGO)\n",
    "# To find the set of all local minima\n",
    "\n",
    "def opt_shgo():\n",
    "    return scipy.optimize.shgo(\n",
    "        calc_likelihood_optimizer,\n",
    "        bounds=bnds,\n",
    "        args=(obs_ts, est),\n",
    "        sampling_method='sobol'\n",
    "    )\n",
    "\n",
    "# This method takes a little longer, but is still relatively fast compared to\n",
    "# our naive gradient descent algorithm\n",
    "%timeit opt_shgo()\n"
   ]
  },
  {
   "cell_type": "code",
   "execution_count": 32,
   "metadata": {},
   "outputs": [
    {
     "data": {
      "text/plain": [
       "     fun: 660.0909496542985\n",
       "    funl: array([660.09094965, 660.09094965, 660.09094965, 693.14718056])\n",
       " message: 'Optimization terminated successfully.'\n",
       "    nfev: 259\n",
       "     nit: 2\n",
       "   nlfev: 131\n",
       "   nlhev: 0\n",
       "   nljev: 34\n",
       " success: True\n",
       "       x: array([0.23735414, 0.15943597])\n",
       "      xl: array([[0.23735414, 0.15943597],\n",
       "       [0.23735422, 0.15943591],\n",
       "       [0.23735422, 0.84056405],\n",
       "       [0.88192855, 0.5       ]])"
      ]
     },
     "execution_count": 32,
     "metadata": {},
     "output_type": "execute_result"
    }
   ],
   "source": [
    "# And we can look at the results\n",
    "res_shgo = opt_shgo()\n",
    "res_shgo"
   ]
  },
  {
   "cell_type": "markdown",
   "metadata": {},
   "source": [
    "Here we can see that there are two distinct minima (local) found by the global optimizer at a = 0.37 and b = 0.90, 0.10, which are degenerate global minima. In the earlier stages, when we start closest to the (0.37, 0.10) minima. Further, we can look at the run-times for a few algorithms, and find that (of those tested), the SLSQP algorithm has the fastest runtime, and the 'L-BFGS-B' has a comparable runtime. In any case, however, the runtime for the built-in optimizers is significantly improved upon the naive implementation of gradient descent.\n",
    "\n"
   ]
  },
  {
   "cell_type": "code",
   "execution_count": 37,
   "metadata": {},
   "outputs": [],
   "source": [
    "# So, within the scope of the current package implementation, the way to run these optimizations from the infer module\n",
    "# is through the following call\n",
    "param_init = param_init_set[0]\n",
    "est = infer.MarkovInfer(2, 2)\n",
    "\n",
    "# This will use the LM-BFGS-B algorithm, and return a custom result type\n",
    "res_loc = est.max_likelihood(param_init, obs_ts, mode='local')\n",
    "# This will use the SHGO algorithm to perform the global optimization\n",
    "res_glob = est.max_likelihood(param_init, obs_ts, mode='global')"
   ]
  },
  {
   "cell_type": "code",
   "execution_count": 38,
   "metadata": {},
   "outputs": [
    {
     "data": {
      "text/plain": [
       "<hidden.infer.LikelihoodOptResult at 0x7fc3f30b2970>"
      ]
     },
     "execution_count": 38,
     "metadata": {},
     "output_type": "execute_result"
    }
   ],
   "source": [
    "# we can investigate the results:\n",
    "res_loc"
   ]
  },
  {
   "cell_type": "code",
   "execution_count": 39,
   "metadata": {},
   "outputs": [
    {
     "data": {
      "text/plain": [
       "{'result': array([0.23735839, 0.15943457]),\n",
       " 'type': 'local',\n",
       " 'success': True,\n",
       " 'likelihood': 660.0909496603282,\n",
       " 'metadata': {'message': 'Optimization terminated successfully',\n",
       "  'method': 'SLSQP'}}"
      ]
     },
     "execution_count": 39,
     "metadata": {},
     "output_type": "execute_result"
    }
   ],
   "source": [
    "# Which has the attributes:\n",
    "res_loc.__dict__"
   ]
  },
  {
   "cell_type": "code",
   "execution_count": 41,
   "metadata": {},
   "outputs": [
    {
     "data": {
      "text/plain": [
       "{'result': array([0.23735419, 0.84056407]),\n",
       " 'type': 'global',\n",
       " 'success': True,\n",
       " 'likelihood': 660.0909496542989,\n",
       " 'metadata': {'message': 'Optimization terminated successfully.',\n",
       "  'sampling_method': 'sobol',\n",
       "  'local_minima': array([[0.23735419, 0.84056407],\n",
       "         [0.23735415, 0.15943594],\n",
       "         [0.23735418, 0.15943595],\n",
       "         [0.8153122 , 0.5       ]]),\n",
       "  'local_likelihoods': array([660.09094965, 660.09094965, 660.09094965, 693.14718056])}}"
      ]
     },
     "execution_count": 41,
     "metadata": {},
     "output_type": "execute_result"
    }
   ],
   "source": [
    "# The result type is the same for the global optimizer, but there is an\n",
    "# additional metadata information in the object\n",
    "res_glob.__dict__"
   ]
  },
  {
   "attachments": {},
   "cell_type": "markdown",
   "metadata": {},
   "source": [
    "So, to wrap up, this rather long tutorial notebook walked through the way to implement a gradient descent algorithm to perform a local\n",
    "optimization of the likelihood function by calcualting the derivatives along various parameter dimensions. Using this, we were able to explicitly map out how the parameter vector was being updated in time. We then moved to use builtin optimization methods in the `scipy` library to speed things up and gain access to a more robust and accurate set of optimization routines. In the end we found through explicitly calling them, that (for our current scenario) the `L-BFGS-B` algorithm was fastest (while remaining accurate) and currently use this as the underlying default in the current package implementation.\n",
    "\n",
    "Further, we looked at a global optimizer option (the `SHGO` algorithm) also within the `scipy` package, and found that it was also able to detect all local minima, which is a valuable feature in non-convex optimization problems.  Ultimately, the last few cells show how to call these optimizations from the package, and the results that would be expected from them.\n"
   ]
  },
  {
   "cell_type": "markdown",
   "metadata": {},
   "source": []
  }
 ],
 "metadata": {
  "kernelspec": {
   "display_name": "Python 3.9.7 ('hmm')",
   "language": "python",
   "name": "python3"
  },
  "language_info": {
   "codemirror_mode": {
    "name": "ipython",
    "version": 3
   },
   "file_extension": ".py",
   "mimetype": "text/x-python",
   "name": "python",
   "nbconvert_exporter": "python",
   "pygments_lexer": "ipython3",
   "version": "3.9.7"
  },
  "orig_nbformat": 4,
  "vscode": {
   "interpreter": {
    "hash": "4f9b37dac17d06b8fa0c89267880b723d82f0595bc5fc55c9df0f440e0daf16f"
   }
  }
 },
 "nbformat": 4,
 "nbformat_minor": 2
}

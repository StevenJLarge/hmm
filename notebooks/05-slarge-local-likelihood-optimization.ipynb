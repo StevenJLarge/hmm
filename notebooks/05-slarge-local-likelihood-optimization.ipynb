{
 "cells": [
  {
   "cell_type": "markdown",
   "metadata": {},
   "source": [
    "# Local likelihood optimization\n",
    "\n",
    "In the previous notebook, we went through the calculation of the likelihood function for an HMM and explicitly minimized it. Specifically, we looked at a situation where the transition rate and emission probability matrices took the form\n",
    "\n",
    "$$ \\boldsymbol{A} = \\left[ \\begin{matrix} 1 - a & a \\\\ a & 1 - a \\end{matrix} \\right] $$\n",
    "\n",
    "and \n",
    "\n",
    "$$ \\boldsymbol{B} = \\left[ \\begin{matrix} 1 - b & b \\\\ b & 1 - b \\end{matrix} \\right] $$\n",
    "\n",
    "respectively, then we estimated the parameters $a$ and $b$ given a known sequence of observed and hidden states.\n",
    "\n",
    "In a more general setting we will not known, *a priori* what the hidden state sequence was (it is hidden, after all...) So, to deal with this we would need to calculate the likelihood over all possible hidden state sequences, and all parameter values in the $A$ and $B$ matrices. This problem will quickly become very high dimensional, and as a result we must resort to other methods. Specifically, we can perform a local optimization routine on the parameter space, for a given initial starting point.\n",
    "\n",
    "Specifically, we will first build a custom gradient descent algorithm to track the evolution of the parameter vector over iterations, and then use these results to validate a more efficient implementation using a `scipy.optimize.minimize` function to do the heavy lifting.\n",
    "\n",
    "#### Gradient descent\n",
    "\n",
    "Given that we are trying to minimize the likelihood function $\\mathcal{L}(\\theta)$, for parameter vector $\\theta$, the general form of a gradient descent algorithm will update the value of the parameter vector $\\theta_i \\to \\theta_{i+1}$ as\n",
    "\n",
    "$$ \\theta_{i+1} = \\theta_i - \\eta \\nabla \\mathcal{L}(\\theta_i) $$\n",
    "\n",
    "where $\\nabla$ is the gradient of the likelihood function and $\\eta$ is the *learning rate* which determines how large the update steps are. For an initial implementation, we take the learning rate to be constant, but there are many schemes that optimize this parameter by dynamically updating it so that the solution converges towards a local minimum more rapidly.  In order to calculate the derivative of the likelhood function, we will use a simple first-order difference in the likelihood function, approximating each component of the gradient with a simple first-difference\n",
    "\n",
    "$$ \\partial_{\\theta^k}\\mathcal{L}(\\theta_i) \\approx \\frac{1}{2 \\Delta\\theta^{k}} \\left[ \\mathcal{L}(\\theta + \\Delta\\theta^{k}) - \\mathcal{L}(\\theta - \\Delta\\theta^{k}) \\right] $$\n",
    "\n",
    "where $\\Delta\\theta^k$ is chosen to be small.  This procedure requires two evaluations of the likelihood function for each iterative update to the parameter vector.\n"
   ]
  },
  {
   "cell_type": "code",
   "execution_count": 25,
   "metadata": {},
   "outputs": [],
   "source": [
    "# First, import the necessary packages and generate a the dynamics of an example HMM\n",
    "import os\n",
    "import numpy as np\n",
    "from typing import Iterable, Tuple, Optional\n",
    "import matplotlib.pyplot as plt\n",
    "import seaborn as sns\n",
    "sns.set(style='darkgrid', palette=\"hls\")\n",
    "\n",
    "# Import HMM libraries\n",
    "from hidden import dynamics\n",
    "from hidden import infer\n",
    "from pathlib import Path\n",
    "\n",
    "# here we assume the dynamics are symmetric\n",
    "a = 0.3\n",
    "b = 0.2\n",
    "\n",
    "A = np.array([[1 - a, a], [a, 1 - a]])\n",
    "B = np.array([[1 - b, b], [b, 1 - b]])\n",
    "\n",
    "hmm = dynamics.HMM(2, 2)"
   ]
  },
  {
   "cell_type": "code",
   "execution_count": 26,
   "metadata": {},
   "outputs": [],
   "source": [
    "# Initialize the Dynamics and Observation matrices\n",
    "hmm.initialize_dynamics(A, B)\n",
    "\n",
    "# Now run the dynamics for 500 steps\n",
    "hmm.run_dynamics(1000)\n",
    "state_ts = hmm.get_state_ts()\n",
    "obs_ts = hmm.get_obs_ts()"
   ]
  },
  {
   "cell_type": "code",
   "execution_count": 27,
   "metadata": {},
   "outputs": [],
   "source": [
    "def calc_likelihood(\n",
    "    B: np.ndarray,\n",
    "    bayes_est: Iterable[np.ndarray],\n",
    "    obs_ts: Iterable[int]\n",
    ") -> float:\n",
    "    likelihood = 0\n",
    "    for bayes, obs in zip(bayes_est[:-1], obs_ts):\n",
    "        inner =  bayes @ B[:, obs]\n",
    "        likelihood -= np.log(inner)\n",
    "    return likelihood"
   ]
  },
  {
   "cell_type": "code",
   "execution_count": 28,
   "metadata": {},
   "outputs": [],
   "source": [
    "\n",
    "def _build_hmm_parameters(theta: np.ndarray) -> Tuple:\n",
    "    # Based on convention of what the parameters are, this function will return\n",
    "    # the A and B matrices based on the input parameter vector\n",
    "    # Here it is assumed that theta = (a, b)\n",
    "    A = theta[0] * np.ones((2, 2))\n",
    "    B = theta[1] * np.ones((2, 2))\n",
    "\n",
    "    A[0, 0], A[1, 1] = 1 - theta[0], 1 - theta[0]\n",
    "    B[0, 0], B[1, 1] = 1 - theta[1], 1 - theta[1]\n",
    "\n",
    "    return A, B\n",
    "\n",
    "\n",
    "def _get_likelihood_deriv(\n",
    "    curr_theta: np.ndarray,\n",
    "    obs_ts: np.ndarray,\n",
    "    est: infer.MarkovInfer,\n",
    "    delta: Optional[float] = 0.01\n",
    ") -> np.ndarray:\n",
    "\n",
    "    grad = np.zeros_like(curr_theta)\n",
    "\n",
    "    for i in range(len(curr_theta)):\n",
    "        plus_theta = np.copy(curr_theta)\n",
    "        minus_theta = np.copy(curr_theta)\n",
    "\n",
    "        plus_theta[i] += delta\n",
    "        minus_theta[i] -= delta\n",
    "\n",
    "        A_plus, B_plus = _build_hmm_parameters(plus_theta)\n",
    "        A_minus, B_minus = _build_hmm_parameters(minus_theta)\n",
    "\n",
    "        est.forward_algo(obs_ts, A_plus, B_plus)\n",
    "        bayes_plus = np.copy(est.forward_tracker)\n",
    "        est.forward_algo(obs_ts, A_minus, B_minus)\n",
    "        bayes_minus = np.copy(est.forward_tracker)\n",
    "        \n",
    "        likelihood_plus = calc_likelihood(B_plus, bayes_plus, obs_ts)\n",
    "        likelihood_minus = calc_likelihood(B_minus, bayes_minus, obs_ts)\n",
    "\n",
    "        grad[i] = (likelihood_plus - likelihood_minus) / (2 * delta)\n",
    "    \n",
    "    return grad\n",
    "\n",
    "def grad_descent(\n",
    "    obs_ts: Iterable[int],\n",
    "    init_theta: np.ndarray,\n",
    "    learning_rate: Optional[float] = 0.0002,\n",
    "    max_iterations: Optional[int] = 500,\n",
    "    tolerance: Optional[float] = 0.00000001,\n",
    "    output: Optional[bool] = False\n",
    ") -> np.ndarray:\n",
    "\n",
    "    curr_theta = np.copy(init_theta)\n",
    "    est = infer.MarkovInfer(2, 2)\n",
    "\n",
    "    # Calculate likelihood of initial guess\n",
    "    A, B = _build_hmm_parameters(init_theta)\n",
    "    est.forward_algo(obs_ts, A, B)\n",
    "    lkly = calc_likelihood(B, est.forward_tracker, obs_ts)\n",
    "\n",
    "    # Initialize tracking arrays\n",
    "    likelihood_tracker = [lkly]\n",
    "    param_tracker = [init_theta]\n",
    "\n",
    "    # Apply grad descent interations\n",
    "    for i in range(max_iterations):\n",
    "        if 1%50 == 0:\n",
    "            print(f\"-- Iteration: {i} (of {max_iterations}) --\")\n",
    "\n",
    "        grad = _get_likelihood_deriv(curr_theta, obs_ts, est)\n",
    "        if output: print(f\"grad --> {grad}\")\n",
    "        curr_theta -= learning_rate * grad\n",
    "\n",
    "        A, B = _build_hmm_parameters(curr_theta)\n",
    "        est.forward_algo(obs_ts, A, B)\n",
    "        lkly_new = calc_likelihood(B, est.forward_tracker, obs_ts)\n",
    "\n",
    "        likelihood_tracker.append(lkly_new)\n",
    "        param_tracker.append(np.copy(curr_theta))\n",
    "\n",
    "        # If changes in likelihood are lower than tolerance break the loop\n",
    "        #if lkly_new - lkly < tolerance:\n",
    "        #    print(\"--- Tolerance level hit, exiting grad-descent ---\")\n",
    "        #    break\n",
    "        # If not, update the current likelihood value and repeat\n",
    "        #else:\n",
    "        #    lkly = lkly_new\n",
    "        lkly = lkly_new\n",
    "\n",
    "    return likelihood_tracker, param_tracker\n"
   ]
  },
  {
   "cell_type": "code",
   "execution_count": 29,
   "metadata": {},
   "outputs": [],
   "source": [
    "# So, now we can run this for an initial guess\n",
    "\n",
    "# ACTUAL PARAMETERS\n",
    "# a = 0.3\n",
    "# b = 0.1\n",
    "\n",
    "param_init = [0.8, 0.4]\n",
    "l_tracker, theta_tracker = grad_descent(obs_ts, param_init)\n"
   ]
  },
  {
   "cell_type": "code",
   "execution_count": 30,
   "metadata": {},
   "outputs": [
    {
     "data": {
      "text/plain": [
       "[<matplotlib.lines.Line2D at 0x7fd15a1d82b0>]"
      ]
     },
     "execution_count": 30,
     "metadata": {},
     "output_type": "execute_result"
    },
    {
     "data": {
      "image/png": "[encoded data removed]",
      "text/plain": [
       "<Figure size 432x324 with 2 Axes>"
      ]
     },
     "metadata": {},
     "output_type": "display_data"
    }
   ],
   "source": [
    "fig, ax = plt.subplots(2, 1, figsize=(6, 4.5), sharex=True)\n",
    "ax[0].plot(l_tracker)\n",
    "ax[1].plot([t[0] for t in theta_tracker])\n",
    "ax[1].plot([t[1] for t in theta_tracker])\n"
   ]
  },
  {
   "cell_type": "code",
   "execution_count": 31,
   "metadata": {},
   "outputs": [
    {
     "data": {
      "text/plain": [
       "Text(0, 0.5, 'b')"
      ]
     },
     "execution_count": 31,
     "metadata": {},
     "output_type": "execute_result"
    },
    {
     "data": {
      "image/png": "[encoded data removed]",
      "text/plain": [
       "<Figure size 432x432 with 1 Axes>"
      ]
     },
     "metadata": {},
     "output_type": "display_data"
    }
   ],
   "source": [
    "fig, ax = plt.subplots(1, 1, figsize=(6, 6))\n",
    "\n",
    "Pal = sns.color_palette(\"Spectral\", len(theta_tracker))\n",
    "\n",
    "for i, theta in enumerate(theta_tracker):\n",
    "    ax.plot([theta[0]], [theta[1]], 'o', markersize=4.5, color=Pal[i])\n",
    "ax.plot(a, b, 'o', color='k', markersize=7, label=\"True parameters\")\n",
    "ax.legend(fontsize=15)\n",
    "\n",
    "ax.set_xlim([0, 1])\n",
    "ax.set_ylim([0, 1])\n",
    "\n",
    "ax.set_xlabel(r\"a\", fontsize=15)\n",
    "ax.set_ylabel(r\"b\", fontsize=15)"
   ]
  },
  {
   "cell_type": "code",
   "execution_count": 35,
   "metadata": {},
   "outputs": [],
   "source": [
    "# As an alternate approach, we can use a built-in optimizer from scipy\n",
    "import scipy.optimize\n",
    "\n",
    "# however, ot o that efficiently we need to redefine the objective function\n",
    "def calc_likelihood_optimizer(\n",
    "    param_arr: Iterable, obs_ts: Iterable, est: infer.MarkovInfer\n",
    ") -> float:\n",
    "    A, B = _build_hmm_parameters(param_arr)\n",
    "    est.forward_algo(obs_ts, A, B)\n",
    "\n",
    "    likelihood = 0\n",
    "    for bayes, obs in zip(est.forward_tracker[1:], obs_ts):\n",
    "        inner = bayes @ B[:, obs]\n",
    "        likelihood -= np.log(inner)\n",
    "    return likelihood\n",
    "\n",
    "est = infer.MarkovInfer(2, 2)\n",
    "A, B = _build_hmm_parameters(param_init)\n",
    "est.forward_algo(obs_ts, A, B)\n",
    "\n",
    "bnds = ([0.001, 0.99], [0.001 ,0.99])\n",
    "\n",
    "res = scipy.optimize.minimize(calc_likelihood_optimizer, param_init, args=(obs_ts, est), method=\"SLSQP\", bounds=bnds)"
   ]
  },
  {
   "cell_type": "code",
   "execution_count": 36,
   "metadata": {},
   "outputs": [
    {
     "data": {
      "text/plain": [
       "     fun: 1.9999841838289356\n",
       "     jac: array([-1.78675652e-02,  1.99998155e+03])\n",
       " message: 'Optimization terminated successfully'\n",
       "    nfev: 52\n",
       "     nit: 18\n",
       "    njev: 14\n",
       "  status: 0\n",
       " success: True\n",
       "       x: array([0.50063257, 0.001     ])"
      ]
     },
     "execution_count": 36,
     "metadata": {},
     "output_type": "execute_result"
    }
   ],
   "source": [
    "res"
   ]
  },
  {
   "cell_type": "code",
   "execution_count": null,
   "metadata": {},
   "outputs": [],
   "source": []
  }
 ],
 "metadata": {
  "kernelspec": {
   "display_name": "Python 3.9.7 ('hmm')",
   "language": "python",
   "name": "python3"
  },
  "language_info": {
   "codemirror_mode": {
    "name": "ipython",
    "version": 3
   },
   "file_extension": ".py",
   "mimetype": "text/x-python",
   "name": "python",
   "nbconvert_exporter": "python",
   "pygments_lexer": "ipython3",
   "version": "3.9.7"
  },
  "orig_nbformat": 4,
  "vscode": {
   "interpreter": {
    "hash": "4f9b37dac17d06b8fa0c89267880b723d82f0595bc5fc55c9df0f440e0daf16f"
   }
  }
 },
 "nbformat": 4,
 "nbformat_minor": 2
}
